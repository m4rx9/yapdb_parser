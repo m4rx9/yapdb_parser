{
 "cells": [
  {
   "cell_type": "markdown",
   "metadata": {
    "toc": "true"
   },
   "source": [
    "# Table of Contents\n",
    " <p><div class=\"lev1 toc-item\"><a href=\"#BasicAssessMetrics\" data-toc-modified-id=\"BasicAssessMetrics-1\"><span class=\"toc-item-num\">1&nbsp;&nbsp;</span>BasicAssessMetrics</a></div><div class=\"lev1 toc-item\"><a href=\"#Deformation-Profile\" data-toc-modified-id=\"Deformation-Profile-2\"><span class=\"toc-item-num\">2&nbsp;&nbsp;</span>Deformation Profile</a></div><div class=\"lev2 toc-item\"><a href=\"#Comparing-two-similar-models\" data-toc-modified-id=\"Comparing-two-similar-models-21\"><span class=\"toc-item-num\">2.1&nbsp;&nbsp;</span>Comparing two similar models</a></div><div class=\"lev2 toc-item\"><a href=\"#Comparing-many-similar-models-in-single-run\" data-toc-modified-id=\"Comparing-many-similar-models-in-single-run-22\"><span class=\"toc-item-num\">2.2&nbsp;&nbsp;</span>Comparing many similar models in single run</a></div><div class=\"lev1 toc-item\"><a href=\"#mcq-cli\" data-toc-modified-id=\"mcq-cli-3\"><span class=\"toc-item-num\">3&nbsp;&nbsp;</span>mcq-cli</a></div><div class=\"lev2 toc-item\"><a href=\"#Local\" data-toc-modified-id=\"Local-31\"><span class=\"toc-item-num\">3.1&nbsp;&nbsp;</span>Local</a></div><div class=\"lev1 toc-item\"><a href=\"#rnaqua:-A-tool-supporting-quality-assessment-of-RNA-3D-structures\" data-toc-modified-id=\"rnaqua:-A-tool-supporting-quality-assessment-of-RNA-3D-structures-4\"><span class=\"toc-item-num\">4&nbsp;&nbsp;</span>rnaqua: A tool supporting quality assessment of RNA 3D structures</a></div><div class=\"lev2 toc-item\"><a href=\"#PDB-VALIDATION\" data-toc-modified-id=\"PDB-VALIDATION-41\"><span class=\"toc-item-num\">4.1&nbsp;&nbsp;</span>PDB-VALIDATION</a></div><div class=\"lev2 toc-item\"><a href=\"#Clash-Score\" data-toc-modified-id=\"Clash-Score-42\"><span class=\"toc-item-num\">4.2&nbsp;&nbsp;</span>Clash Score</a></div><div class=\"lev2 toc-item\"><a href=\"#Structure-3D\" data-toc-modified-id=\"Structure-3D-43\"><span class=\"toc-item-num\">4.3&nbsp;&nbsp;</span>Structure 3D</a></div><div class=\"lev1 toc-item\"><a href=\"#rna-tools\" data-toc-modified-id=\"rna-tools-5\"><span class=\"toc-item-num\">5&nbsp;&nbsp;</span>rna-tools</a></div>"
   ]
  },
  {
   "cell_type": "code",
   "execution_count": 1,
   "metadata": {
    "collapsed": false
   },
   "outputs": [
    {
     "name": "stdout",
     "output_type": "stream",
     "text": [
      "The autoreload extension is already loaded. To reload it, use:\n",
      "  %reload_ext autoreload\n"
     ]
    }
   ],
   "source": [
    "%load_ext autoreload\n",
    "%autoreload 2"
   ]
  },
  {
   "cell_type": "markdown",
   "metadata": {},
   "source": [
    "# BasicAssessMetrics"
   ]
  },
  {
   "cell_type": "code",
   "execution_count": 2,
   "metadata": {
    "collapsed": false
   },
   "outputs": [
    {
     "name": "stdout",
     "output_type": "stream",
     "text": [
      "BasicAssessMetrics\n",
      "DeformationProfile\n",
      "RNAstructure\n",
      "__init__.py\n",
      "__init__.pyc\n",
      "mcq-cli\n",
      "mcq4structures\n",
      "qrnas\n",
      "rnaqua\n"
     ]
    }
   ],
   "source": [
    "%%bash\n",
    "cd rna_tools/opt/\n",
    "ls\n",
    "#git clone https://github.com/RNA-Puzzles/BasicAssessMetrics.git"
   ]
  },
  {
   "cell_type": "code",
   "execution_count": 5,
   "metadata": {
    "collapsed": false
   },
   "outputs": [
    {
     "name": "stdout",
     "output_type": "stream",
     "text": [
      "/Users/magnus/work-src/rna-tools/rna_tools/opt/BasicAssessMetrics\n"
     ]
    }
   ],
   "source": [
    "cd rna_tools/opt/BasicAssessMetrics"
   ]
  },
  {
   "cell_type": "code",
   "execution_count": 6,
   "metadata": {
    "collapsed": false
   },
   "outputs": [],
   "source": [
    "from BasicAssessMetrics import normalize_structure, \\\n",
    "                               interaction_network_fidelity, \\\n",
    "                               calc_RMSD"
   ]
  },
  {
   "cell_type": "code",
   "execution_count": 7,
   "metadata": {
    "collapsed": false
   },
   "outputs": [
    {
     "name": "stderr",
     "output_type": "stream",
     "text": [
      "INFO: Normalization succeded!\n",
      "/usr/local/lib/python2.7/site-packages/Bio/PDB/Atom.py:185: PDBConstructionWarning: Used element 'O' for Atom (name=O5') with given element ''\n",
      "  warnings.warn(msg, PDBConstructionWarning)\n",
      "/usr/local/lib/python2.7/site-packages/Bio/PDB/Atom.py:185: PDBConstructionWarning: Used element 'C' for Atom (name=C5') with given element ''\n",
      "  warnings.warn(msg, PDBConstructionWarning)\n",
      "/usr/local/lib/python2.7/site-packages/Bio/PDB/Atom.py:185: PDBConstructionWarning: Used element 'C' for Atom (name=C4') with given element ''\n",
      "  warnings.warn(msg, PDBConstructionWarning)\n",
      "/usr/local/lib/python2.7/site-packages/Bio/PDB/Atom.py:185: PDBConstructionWarning: Used element 'O' for Atom (name=O4') with given element ''\n",
      "  warnings.warn(msg, PDBConstructionWarning)\n",
      "/usr/local/lib/python2.7/site-packages/Bio/PDB/Atom.py:185: PDBConstructionWarning: Used element 'C' for Atom (name=C3') with given element ''\n",
      "  warnings.warn(msg, PDBConstructionWarning)\n",
      "/usr/local/lib/python2.7/site-packages/Bio/PDB/Atom.py:185: PDBConstructionWarning: Used element 'O' for Atom (name=O3') with given element ''\n",
      "  warnings.warn(msg, PDBConstructionWarning)\n",
      "/usr/local/lib/python2.7/site-packages/Bio/PDB/Atom.py:185: PDBConstructionWarning: Used element 'C' for Atom (name=C2') with given element ''\n",
      "  warnings.warn(msg, PDBConstructionWarning)\n",
      "/usr/local/lib/python2.7/site-packages/Bio/PDB/Atom.py:185: PDBConstructionWarning: Used element 'O' for Atom (name=O2') with given element ''\n",
      "  warnings.warn(msg, PDBConstructionWarning)\n",
      "/usr/local/lib/python2.7/site-packages/Bio/PDB/Atom.py:185: PDBConstructionWarning: Used element 'C' for Atom (name=C1') with given element ''\n",
      "  warnings.warn(msg, PDBConstructionWarning)\n",
      "/usr/local/lib/python2.7/site-packages/Bio/PDB/Atom.py:185: PDBConstructionWarning: Used element 'N' for Atom (name=N1) with given element ''\n",
      "  warnings.warn(msg, PDBConstructionWarning)\n",
      "/usr/local/lib/python2.7/site-packages/Bio/PDB/Atom.py:185: PDBConstructionWarning: Used element 'C' for Atom (name=C2) with given element ''\n",
      "  warnings.warn(msg, PDBConstructionWarning)\n",
      "/usr/local/lib/python2.7/site-packages/Bio/PDB/Atom.py:185: PDBConstructionWarning: Used element 'O' for Atom (name=O2) with given element ''\n",
      "  warnings.warn(msg, PDBConstructionWarning)\n",
      "/usr/local/lib/python2.7/site-packages/Bio/PDB/Atom.py:185: PDBConstructionWarning: Used element 'N' for Atom (name=N3) with given element ''\n",
      "  warnings.warn(msg, PDBConstructionWarning)\n",
      "/usr/local/lib/python2.7/site-packages/Bio/PDB/Atom.py:185: PDBConstructionWarning: Used element 'C' for Atom (name=C4) with given element ''\n",
      "  warnings.warn(msg, PDBConstructionWarning)\n",
      "/usr/local/lib/python2.7/site-packages/Bio/PDB/Atom.py:185: PDBConstructionWarning: Used element 'N' for Atom (name=N4) with given element ''\n",
      "  warnings.warn(msg, PDBConstructionWarning)\n",
      "/usr/local/lib/python2.7/site-packages/Bio/PDB/Atom.py:185: PDBConstructionWarning: Used element 'C' for Atom (name=C5) with given element ''\n",
      "  warnings.warn(msg, PDBConstructionWarning)\n",
      "/usr/local/lib/python2.7/site-packages/Bio/PDB/Atom.py:185: PDBConstructionWarning: Used element 'C' for Atom (name=C6) with given element ''\n",
      "  warnings.warn(msg, PDBConstructionWarning)\n",
      "/usr/local/lib/python2.7/site-packages/Bio/PDB/Atom.py:185: PDBConstructionWarning: Used element 'P' for Atom (name=P) with given element ''\n",
      "  warnings.warn(msg, PDBConstructionWarning)\n",
      "/usr/local/lib/python2.7/site-packages/Bio/PDB/Atom.py:185: PDBConstructionWarning: Used element 'O' for Atom (name=OP1) with given element ''\n",
      "  warnings.warn(msg, PDBConstructionWarning)\n",
      "/usr/local/lib/python2.7/site-packages/Bio/PDB/Atom.py:185: PDBConstructionWarning: Used element 'O' for Atom (name=OP2) with given element ''\n",
      "  warnings.warn(msg, PDBConstructionWarning)\n",
      "/usr/local/lib/python2.7/site-packages/Bio/PDB/Atom.py:185: PDBConstructionWarning: Used element 'N' for Atom (name=N9) with given element ''\n",
      "  warnings.warn(msg, PDBConstructionWarning)\n",
      "/usr/local/lib/python2.7/site-packages/Bio/PDB/Atom.py:185: PDBConstructionWarning: Used element 'C' for Atom (name=C8) with given element ''\n",
      "  warnings.warn(msg, PDBConstructionWarning)\n",
      "/usr/local/lib/python2.7/site-packages/Bio/PDB/Atom.py:185: PDBConstructionWarning: Used element 'N' for Atom (name=N7) with given element ''\n",
      "  warnings.warn(msg, PDBConstructionWarning)\n",
      "/usr/local/lib/python2.7/site-packages/Bio/PDB/Atom.py:185: PDBConstructionWarning: Used element 'O' for Atom (name=O6) with given element ''\n",
      "  warnings.warn(msg, PDBConstructionWarning)\n",
      "/usr/local/lib/python2.7/site-packages/Bio/PDB/Atom.py:185: PDBConstructionWarning: Used element 'N' for Atom (name=N2) with given element ''\n",
      "  warnings.warn(msg, PDBConstructionWarning)\n",
      "/usr/local/lib/python2.7/site-packages/Bio/PDB/Atom.py:185: PDBConstructionWarning: Used element 'O' for Atom (name=O4) with given element ''\n",
      "  warnings.warn(msg, PDBConstructionWarning)\n",
      "/usr/local/lib/python2.7/site-packages/Bio/PDB/Atom.py:185: PDBConstructionWarning: Used element 'N' for Atom (name=N6) with given element ''\n",
      "  warnings.warn(msg, PDBConstructionWarning)\n"
     ]
    },
    {
     "name": "stdout",
     "output_type": "stream",
     "text": [
      "\n",
      "\n"
     ]
    },
    {
     "name": "stderr",
     "output_type": "stream",
     "text": [
      "WARNING    >> Atom P from residue (' ', 1, ' ') not found in target atom list\n",
      "WARNING    >> Atom OP1 from residue (' ', 1, ' ') not found in target atom list\n",
      "WARNING    >> Atom OP2 from residue (' ', 1, ' ') not found in target atom list\n",
      "INFO Partial RMSD --> 7.751173\n",
      "INFO Partial P-Value --> 7.327472e-15\n"
     ]
    },
    {
     "name": "stdout",
     "output_type": "stream",
     "text": [
      "14_ChenPostExp_2\n",
      "  RMSD: 7.751173243045827\n",
      "  pvalue: 7.327471962526033e-15\n",
      "\n",
      "\n"
     ]
    },
    {
     "name": "stderr",
     "output_type": "stream",
     "text": [
      "WARNING    >> Atom P from residue (' ', 1, ' ') not found in target atom list\n",
      "WARNING    >> Atom OP1 from residue (' ', 1, ' ') not found in target atom list\n",
      "WARNING    >> Atom OP2 from residue (' ', 1, ' ') not found in target atom list\n"
     ]
    },
    {
     "name": "stdout",
     "output_type": "stream",
     "text": [
      "14_ChenPostExp_2, rmsd 7.751173243045827\n",
      "  DI_ALL: 10.643784178530254\n",
      "  INF_ALL: 0.72823472489\n"
     ]
    }
   ],
   "source": [
    "# Normalize PDB format, correct residue names and atom names. \n",
    "normalize_structure('example/14_solution_0.pdb','example/14_solution_normalized.pdb')\n",
    "\n",
    "# calculate RMSD for RNA structures\n",
    "# require biopython\n",
    "rmsd, pvalue = calc_RMSD(\"example/14_solution_0.pdb\",\n",
    "        \"example/14_solution_0.index\",\n",
    "        \"example/14_ChenPostExp_2.pdb\",\n",
    "        \"example/14_ChenPostExp_2.index\")\n",
    "\n",
    "print '14_ChenPostExp_2'\n",
    "print '  RMSD:', rmsd\n",
    "print '  pvalue:', pvalue\n",
    "\n",
    "# calculate InteractionNetworkFidelity and Deformation Index for RNA structures\n",
    "# need to have MA-annotate in the directory or set in mcannotate.py\n",
    "rmsd, DI_ALL, INF_ALL, INF_WC, INF_NWC,INF_STACK = interaction_network_fidelity(\"example/14_solution_0.pdb\",\n",
    "          \"example/14_solution_0.index\",\n",
    "          \"example/14_ChenPostExp_2.pdb\",\n",
    "          \"example/14_ChenPostExp_2.index\")\n",
    "\n",
    "print '14_ChenPostExp_2, rmsd', rmsd\n",
    "print \"  DI_ALL:\", DI_ALL\n",
    "print \"  INF_ALL:\", INF_ALL"
   ]
  },
  {
   "cell_type": "code",
   "execution_count": 8,
   "metadata": {
    "collapsed": false,
    "scrolled": true
   },
   "outputs": [
    {
     "name": "stdout",
     "output_type": "stream",
     "text": [
      "ATOM      1  P     U A   1      12.280  38.285  92.211  1.00  0.00           P  \n",
      "ATOM      2  OP1   U A   1      11.709  38.634  93.528  1.00  0.00           O  \n",
      "ATOM      3  OP2   U A   1      11.631  37.318  91.307  1.00  0.00           O  \n",
      "ATOM      4  O5'   U A   1      12.420  39.659  91.445  1.00  0.00           O  \n",
      "ATOM      5  C5'   U A   1      12.941  40.752  92.141  1.00  0.00           C  \n",
      "ATOM      6  C4'   U A   1      13.535  41.646  91.094  1.00  0.00           C  \n",
      "ATOM      7  O4'   U A   1      14.550  40.944  90.333  1.00  0.00           O  \n",
      "ATOM      8  C3'   U A   1      12.550  42.086  90.018  1.00  0.00           C  \n",
      "ATOM      9  O3'   U A   1      11.592  42.975  90.595  1.00  0.00           O  \n",
      "ATOM     10  C2'   U A   1      13.568  42.702  89.073  1.00  0.00           C  \n",
      "ATOM     11  O2'   U A   1      14.091  43.922  89.584  1.00  0.00           O  \n",
      "ATOM     12  C1'   U A   1      14.618  41.576  89.071  1.00  0.00           C  \n",
      "ATOM     13  N1    U A   1      14.452  40.557  88.058  1.00  0.00           N  \n",
      "ATOM     14  C2    U A   1      14.814  40.770  86.741  1.00  0.00           C  \n",
      "ATOM     15  O2    U A   1      15.226  41.840  86.330  1.00  0.00           O  \n",
      "ATOM     16  N3    U A   1      14.676  39.679  85.917  1.00  0.00           N  \n",
      "ATOM     17  C4    U A   1      14.222  38.426  86.270  1.00  0.00           C  \n",
      "ATOM     18  O4    U A   1      14.154  37.545  85.416  1.00  0.00           O  \n",
      "ATOM     19  C5    U A   1      13.865  38.285  87.654  1.00  0.00           C  \n",
      "ATOM     20  C6    U A   1      13.990  39.329  88.477  1.00  0.00           C  \n",
      "ATOM     21  P     A A   2      10.130  43.327  89.976  1.00  0.00           P  \n",
      "ATOM     22  OP1   A A   2       8.900  43.587  90.788  1.00  0.00           O  \n",
      "ATOM     23  OP2   A A   2      10.018  42.522  88.734  1.00  0.00           O  \n",
      "ATOM     24  O5'   A A   2      10.771  44.720  89.561  1.00  0.00           O  \n",
      "ATOM     25  C5'   A A   2      10.423  45.321  88.323  1.00  0.00           C  \n",
      "ATOM     26  C4'   A A   2      11.634  45.445  87.449  1.00  0.00           C  \n",
      "ATOM     27  O4'   A A   2      12.371  44.198  87.418  1.00  0.00           O  \n",
      "ATOM     28  C3'   A A   2      11.286  45.699  86.007  1.00  0.00           C  \n",
      "ATOM     29  O3'   A A   2      10.909  47.038  85.802  1.00  0.00           O  \n",
      "ATOM     30  C2'   A A   2      12.514  45.194  85.275  1.00  0.00           C  \n",
      "ATOM     31  O2'   A A   2      13.595  46.078  85.304  1.00  0.00           O  \n",
      "ATOM     32  C1'   A A   2      12.864  43.970  86.111  1.00  0.00           C  \n",
      "ATOM     33  N9    A A   2      11.995  42.814  85.325  1.00  0.00           N  \n",
      "ATOM     34  C8    A A   2      11.340  41.939  86.150  1.00  0.00           C  \n",
      "ATOM     35  N7    A A   2      11.137  40.758  85.615  1.00  0.00           N  \n",
      "ATOM     36  C5    A A   2      11.698  40.866  84.352  1.00  0.00           C  \n",
      "ATOM     37  C6    A A   2      11.812  39.955  83.287  1.00  0.00           C  \n",
      "ATOM     38  N6    A A   2      11.347  38.704  83.331  1.00  0.00           N  \n",
      "ATOM     39  N1    A A   2      12.427  40.379  82.163  1.00  0.00           N  \n",
      "ATOM     40  C2    A A   2      12.893  41.633  82.120  1.00  0.00           C  \n",
      "ATOM     41  N3    A A   2      12.847  42.579  83.055  1.00  0.00           N  \n",
      "ATOM     42  C4    A A   2      12.229  42.127  84.159  1.00  0.00           C  \n",
      "ATOM     43  P     U A   3       9.423  47.304  85.644  1.00  0.00           P  \n",
      "ATOM     44  OP1   U A   3       9.209  48.778  85.694  1.00  0.00           O  \n",
      "ATOM     45  OP2   U A   3       8.338  46.375  86.083  1.00  0.00           O  \n",
      "ATOM     46  O5'   U A   3       9.849  46.892  84.166  1.00  0.00           O  \n",
      "ATOM     47  C5'   U A   3      10.649  47.758  83.367  1.00  0.00           C  \n",
      "ATOM     48  C4'   U A   3      10.674  47.273  81.938  1.00  0.00           C  \n",
      "ATOM     49  O4'   U A   3      11.469  46.068  81.858  1.00  0.00           O  \n",
      "ATOM     50  C3'   U A   3       9.333  46.906  81.328  1.00  0.00           C  \n",
      "ATOM     51  O3'   U A   3       8.712  48.068  80.790  1.00  0.00           O  \n",
      "ATOM     52  C2'   U A   3       9.717  45.896  80.253  1.00  0.00           C  \n",
      "ATOM     53  O2'   U A   3      10.122  46.521  79.053  1.00  0.00           O  \n",
      "ATOM     54  C1'   U A   3      10.924  45.196  80.888  1.00  0.00           C  \n",
      "ATOM     55  N1    U A   3      10.566  43.970  81.561  1.00  0.00           N  \n",
      "ATOM     56  C2    U A   3      10.572  42.890  80.699  1.00  0.00           C  \n",
      "ATOM     57  O2    U A   3      10.942  42.967  79.541  1.00  0.00           O  \n",
      "ATOM     58  N3    U A   3      10.126  41.710  81.243  1.00  0.00           N  \n",
      "ATOM     59  C4    U A   3       9.685  41.506  82.534  1.00  0.00           C  \n",
      "ATOM     60  O4    U A   3       9.315  40.386  82.876  1.00  0.00           O  \n",
      "ATOM     61  C5    U A   3       9.708  42.675  83.367  1.00  0.00           C  \n",
      "ATOM     62  C6    U A   3      10.137  43.835  82.864  1.00  0.00           C  \n",
      "ATOM     63  P     A A   4       7.047  48.059  80.442  1.00  0.00           P  \n",
      "ATOM     64  OP1   A A   4       6.567  49.419  80.084  1.00  0.00           O  \n",
      "ATOM     65  OP2   A A   4       6.660  47.466  81.744  1.00  0.00           O  \n",
      "ATOM     66  O5'   A A   4       6.608  47.050  79.290  1.00  0.00           O  \n",
      "ATOM     67  C5'   A A   4       6.829  47.378  77.904  1.00  0.00           C  \n",
      "ATOM     68  C4'   A A   4       6.301  46.282  77.004  1.00  0.00           C  \n",
      "ATOM     69  O4'   A A   4       7.133  45.097  77.106  1.00  0.00           O  \n",
      "ATOM     70  C3'   A A   4       4.902  45.785  77.317  1.00  0.00           C  \n",
      "ATOM     71  O3'   A A   4       3.889  46.632  76.813  1.00  0.00           O  \n",
      "ATOM     72  C2'   A A   4       4.897  44.392  76.699  1.00  0.00           C  \n",
      "ATOM     73  O2'   A A   4       4.659  44.388  75.305  1.00  0.00           O  \n",
      "ATOM     74  C1'   A A   4       6.328  43.934  76.980  1.00  0.00           C  \n",
      "ATOM     75  N9    A A   4       6.411  43.154  78.243  1.00  0.00           N  \n",
      "ATOM     76  C8    A A   4       6.610  43.611  79.520  1.00  0.00           C  \n",
      "ATOM     77  N7    A A   4       6.590  42.666  80.430  1.00  0.00           N  \n",
      "ATOM     78  C5    A A   4       6.360  41.510  79.702  1.00  0.00           C  \n",
      "ATOM     79  C6    A A   4       6.230  40.162  80.083  1.00  0.00           C  \n",
      "ATOM     80  N6    A A   4       6.318  39.740  81.346  1.00  0.00           N  \n",
      "ATOM     81  N1    A A   4       6.004  39.255  79.109  1.00  0.00           N  \n",
      "ATOM     82  C2    A A   4       5.918  39.680  77.843  1.00  0.00           C  \n",
      "ATOM     83  N3    A A   4       6.024  40.916  77.362  1.00  0.00           N  \n",
      "ATOM     84  C4    A A   4       6.247  41.794  78.354  1.00  0.00           C  \n",
      "ATOM     85  P     C A   6      -1.382  43.104  74.040  1.00  0.00           P  \n",
      "ATOM     86  OP1   C A   6      -2.205  43.688  72.959  1.00  0.00           O  \n",
      "ATOM     87  OP2   C A   6      -1.722  43.387  75.451  1.00  0.00           O  \n",
      "ATOM     88  O5'   C A   6      -1.351  41.507  73.835  1.00  0.00           O  \n",
      "ATOM     89  C5'   C A   6      -0.723  40.941  72.679  1.00  0.00           C  \n",
      "ATOM     90  C4'   C A   6      -0.574  39.411  72.774  1.00  0.00           C  \n",
      "ATOM     91  O4'   C A   6       0.565  39.029  73.602  1.00  0.00           O  \n",
      "ATOM     92  C3'   C A   6      -1.784  38.815  73.403  1.00  0.00           C  \n",
      "ATOM     93  O3'   C A   6      -2.737  38.400  72.445  1.00  0.00           O  \n",
      "ATOM     94  C2'   C A   6      -1.310  37.689  74.243  1.00  0.00           C  \n",
      "ATOM     95  O2'   C A   6      -1.502  36.441  73.578  1.00  0.00           O  \n",
      "ATOM     96  C1'   C A   6       0.155  37.938  74.492  1.00  0.00           C  \n",
      "ATOM     97  N1    C A   6       0.364  38.316  75.866  1.00  0.00           N  \n",
      "ATOM     98  C2    C A   6       0.529  37.239  76.744  1.00  0.00           C  \n",
      "ATOM     99  O2    C A   6       0.753  36.111  76.272  1.00  0.00           O  \n",
      "ATOM    100  N3    C A   6       0.439  37.456  78.078  1.00  0.00           N  \n",
      "ATOM    101  C4    C A   6       0.196  38.684  78.539  1.00  0.00           C  \n",
      "ATOM    102  N4    C A   6       0.116  38.850  79.862  1.00  0.00           N  \n",
      "ATOM    103  C5    C A   6       0.026  39.788  77.666  1.00  0.00           C  \n",
      "ATOM    104  C6    C A   6       0.116  39.570  76.349  1.00  0.00           C  \n",
      "ATOM    105  P     A A   7      -4.425  38.217  72.895  1.00  0.00           P  \n",
      "ATOM    106  OP1   A A   7      -5.329  37.809  71.798  1.00  0.00           O  \n",
      "ATOM    107  OP2   A A   7      -4.848  39.237  73.883  1.00  0.00           O  \n",
      "ATOM    108  O5'   A A   7      -4.074  36.921  73.767  1.00  0.00           O  \n",
      "ATOM    109  C5'   A A   7      -3.810  35.693  73.100  1.00  0.00           C  \n",
      "ATOM    110  C4'   A A   7      -3.890  34.505  74.028  1.00  0.00           C  \n",
      "ATOM    111  O4'   A A   7      -2.692  34.446  74.844  1.00  0.00           O  \n",
      "ATOM    112  C3'   A A   7      -5.036  34.503  75.030  1.00  0.00           C  \n",
      "ATOM    113  O3'   A A   7      -6.269  34.045  74.487  1.00  0.00           O  \n",
      "ATOM    114  C2'   A A   7      -4.493  33.619  76.145  1.00  0.00           C  \n",
      "ATOM    115  O2'   A A   7      -4.612  32.246  75.803  1.00  0.00           O  \n",
      "ATOM    116  C1'   A A   7      -3.010  33.993  76.139  1.00  0.00           C  \n",
      "ATOM    117  N9    A A   7      -2.726  35.116  77.178  1.00  0.00           N  \n",
      "ATOM    118  C8    A A   7      -2.721  36.478  77.032  1.00  0.00           C  \n",
      "ATOM    119  N7    A A   7      -2.397  37.126  78.127  1.00  0.00           N  \n",
      "ATOM    120  C5    A A   7      -2.177  36.120  79.054  1.00  0.00           C  \n",
      "ATOM    121  C6    A A   7      -1.803  36.148  80.409  1.00  0.00           C  \n",
      "ATOM    122  N6    A A   7      -1.575  37.274  81.090  1.00  0.00           N  \n",
      "ATOM    123  N1    A A   7      -1.669  34.966  81.047  1.00  0.00           N  \n",
      "ATOM    124  C2    A A   7      -1.896  33.838  80.364  1.00  0.00           C  \n",
      "ATOM    125  N3    A A   7      -2.251  33.684  79.090  1.00  0.00           N  \n",
      "ATOM    126  C4    A A   7      -2.377  34.877  78.485  1.00  0.00           C  \n",
      "ATOM    127  P     U A   8      -7.768  34.590  75.064  1.00  0.00           P  \n",
      "ATOM    128  OP1   U A   8      -8.873  33.892  74.357  1.00  0.00           O  \n",
      "ATOM    129  OP2   U A   8      -7.543  36.042  74.827  1.00  0.00           O  \n",
      "ATOM    130  O5'   U A   8      -7.913  34.300  76.627  1.00  0.00           O  \n",
      "ATOM    131  C5'   U A   8      -8.297  33.000  77.060  1.00  0.00           C  \n",
      "ATOM    132  C4'   U A   8      -7.977  32.769  78.528  1.00  0.00           C  \n",
      "ATOM    133  O4'   U A   8      -6.607  33.139  78.831  1.00  0.00           O  \n",
      "ATOM    134  C3'   U A   8      -8.727  33.524  79.609  1.00  0.00           C  \n",
      "ATOM    135  O3'   U A   8     -10.059  33.059  79.793  1.00  0.00           O  \n",
      "ATOM    136  C2'   U A   8      -7.881  33.168  80.824  1.00  0.00           C  \n",
      "ATOM    137  O2'   U A   8      -8.098  31.848  81.273  1.00  0.00           O  \n",
      "ATOM    138  C1'   U A   8      -6.471  33.262  80.242  1.00  0.00           C  \n",
      "ATOM    139  N1    U A   8      -5.789  34.415  80.603  1.00  0.00           N  \n",
      "ATOM    140  C2    U A   8      -5.269  34.589  81.871  1.00  0.00           C  \n",
      "ATOM    141  O2    U A   8      -5.420  33.779  82.768  1.00  0.00           O  \n",
      "ATOM    142  N3    U A   8      -4.562  35.753  82.055  1.00  0.00           N  \n",
      "ATOM    143  C4    U A   8      -4.329  36.739  81.118  1.00  0.00           C  \n",
      "ATOM    144  O4    U A   8      -3.673  37.729  81.432  1.00  0.00           O  \n",
      "ATOM    145  C5    U A   8      -4.902  36.485  79.826  1.00  0.00           C  \n",
      "ATOM    146  C6    U A   8      -5.594  35.362  79.620  1.00  0.00           C  \n",
      "ATOM    147  P     A A   9     -11.085  34.165  80.330  1.00  0.00           P  \n",
      "ATOM    148  OP1   A A   9     -11.949  33.262  81.123  1.00  0.00           O  \n",
      "ATOM    149  OP2   A A   9     -11.675  35.201  79.455  1.00  0.00           O  \n",
      "ATOM    150  O5'   A A   9     -10.151  34.994  81.333  1.00  0.00           O  \n",
      "ATOM    151  C5'   A A   9      -9.780  34.495  82.611  1.00  0.00           C  \n",
      "ATOM    152  C4'   A A   9      -8.870  35.459  83.341  1.00  0.00           C  \n",
      "ATOM    153  O4'   A A   9      -7.814  35.906  82.447  1.00  0.00           O  \n",
      "ATOM    154  C3'   A A   9      -9.499  36.759  83.835  1.00  0.00           C  \n",
      "ATOM    155  O3'   A A   9     -10.215  36.615  85.054  1.00  0.00           O  \n",
      "ATOM    156  C2'   A A   9      -8.287  37.679  83.938  1.00  0.00           C  \n",
      "ATOM    157  O2'   A A   9      -7.503  37.361  85.081  1.00  0.00           O  \n",
      "ATOM    158  C1'   A A   9      -7.489  37.258  82.707  1.00  0.00           C  \n",
      "ATOM    159  N9    A A   9      -7.796  38.037  81.548  1.00  0.00           N  \n",
      "ATOM    160  C8    A A   9      -8.578  37.700  80.474  1.00  0.00           C  \n",
      "ATOM    161  N7    A A   9      -8.692  38.656  79.582  1.00  0.00           N  \n",
      "ATOM    162  C5    A A   9      -7.933  39.690  80.107  1.00  0.00           C  \n",
      "ATOM    163  C6    A A   9      -7.648  40.985  79.639  1.00  0.00           C  \n",
      "ATOM    164  N6    A A   9      -8.115  41.475  78.488  1.00  0.00           N  \n",
      "ATOM    165  N1    A A   9      -6.858  41.768  80.404  1.00  0.00           N  \n",
      "ATOM    166  C2    A A   9      -6.390  41.276  81.557  1.00  0.00           C  \n",
      "ATOM    167  N3    A A   9      -6.587  40.077  82.101  1.00  0.00           N  \n",
      "ATOM    168  C4    A A   9      -7.377  39.324  81.317  1.00  0.00           C  \n",
      "ATOM    169  P     U A  13     -15.459  53.872  86.250  1.00  0.00           P  \n",
      "ATOM    170  OP1   U A  13     -15.553  55.245  86.818  1.00  0.00           O  \n",
      "ATOM    171  OP2   U A  13     -15.490  52.661  87.148  1.00  0.00           O  \n",
      "ATOM    172  O5'   U A  13     -16.588  53.680  85.131  1.00  0.00           O  \n",
      "ATOM    173  C5'   U A  13     -16.755  54.687  84.128  1.00  0.00           C  \n",
      "ATOM    174  C4'   U A  13     -17.500  54.091  82.955  1.00  0.00           C  \n",
      "ATOM    175  O4'   U A  13     -16.890  52.822  82.643  1.00  0.00           O  \n",
      "ATOM    176  C3'   U A  13     -18.891  53.601  83.287  1.00  0.00           C  \n",
      "ATOM    177  O3'   U A  13     -19.799  54.690  83.483  1.00  0.00           O  \n",
      "ATOM    178  C2'   U A  13     -19.176  52.683  82.093  1.00  0.00           C  \n",
      "ATOM    179  O2'   U A  13     -19.459  53.331  80.858  1.00  0.00           O  \n",
      "ATOM    180  C1'   U A  13     -17.830  51.979  82.013  1.00  0.00           C  \n",
      "ATOM    181  N1    U A  13     -17.813  50.672  82.661  1.00  0.00           N  \n",
      "ATOM    182  C2    U A  13     -18.469  49.582  82.123  1.00  0.00           C  \n",
      "ATOM    183  O2    U A  13     -19.181  49.655  81.137  1.00  0.00           O  \n",
      "ATOM    184  N3    U A  13     -18.264  48.395  82.786  1.00  0.00           N  \n",
      "ATOM    185  C4    U A  13     -17.485  48.195  83.906  1.00  0.00           C  \n",
      "ATOM    186  O4    U A  13     -17.398  47.068  84.388  1.00  0.00           O  \n",
      "ATOM    187  C5    U A  13     -16.837  49.375  84.405  1.00  0.00           C  \n",
      "ATOM    188  C6    U A  13     -17.019  50.541  83.780  1.00  0.00           C  \n",
      "ATOM    189  P     U A  14     -20.695  54.553  84.704  1.00  0.00           P  \n",
      "ATOM    190  OP1   U A  14     -21.347  55.888  84.758  1.00  0.00           O  \n",
      "ATOM    191  OP2   U A  14     -20.227  53.924  85.961  1.00  0.00           O  \n",
      "ATOM    192  O5'   U A  14     -21.667  53.498  84.005  1.00  0.00           O  \n",
      "ATOM    193  C5'   U A  14     -22.440  53.850  82.841  1.00  0.00           C  \n",
      "ATOM    194  C4'   U A  14     -23.390  52.726  82.479  1.00  0.00           C  \n",
      "ATOM    195  O4'   U A  14     -22.631  51.565  82.048  1.00  0.00           O  \n",
      "ATOM    196  C3'   U A  14     -24.245  52.200  83.619  1.00  0.00           C  \n",
      "ATOM    197  O3'   U A  14     -25.394  52.999  83.856  1.00  0.00           O  \n",
      "ATOM    198  C2'   U A  14     -24.600  50.799  83.143  1.00  0.00           C  \n",
      "ATOM    199  O2'   U A  14     -25.638  50.779  82.189  1.00  0.00           O  \n",
      "ATOM    200  C1'   U A  14     -23.295  50.381  82.463  1.00  0.00           C  \n",
      "ATOM    201  N1    U A  14     -22.415  49.658  83.338  1.00  0.00           N  \n",
      "ATOM    202  C2    U A  14     -22.750  48.356  83.658  1.00  0.00           C  \n",
      "ATOM    203  O2    U A  14     -23.731  47.792  83.207  1.00  0.00           O  \n",
      "ATOM    204  N3    U A  14     -21.892  47.733  84.532  1.00  0.00           N  \n",
      "ATOM    205  C4    U A  14     -20.758  48.270  85.105  1.00  0.00           C  \n",
      "ATOM    206  O4    U A  14     -20.085  47.585  85.872  1.00  0.00           O  \n",
      "ATOM    207  C5    U A  14     -20.478  49.626  84.724  1.00  0.00           C  \n",
      "ATOM    208  C6    U A  14     -21.296  50.255  83.876  1.00  0.00           C  \n",
      "ATOM    209  P     U A  15     -26.120  52.926  85.287  1.00  0.00           P  \n",
      "ATOM    210  OP1   U A  15     -27.034  54.041  84.967  1.00  0.00           O  \n",
      "ATOM    211  OP2   U A  15     -24.992  53.081  86.224  1.00  0.00           O  \n",
      "ATOM    212  O5'   U A  15     -27.052  51.770  85.824  1.00  0.00           O  \n",
      "ATOM    213  C5'   U A  15     -28.234  51.499  85.132  1.00  0.00           C  \n",
      "ATOM    214  C4'   U A  15     -28.551  50.064  85.427  1.00  0.00           C  \n",
      "ATOM    215  O4'   U A  15     -27.462  49.201  85.014  1.00  0.00           O  \n",
      "ATOM    216  C3'   U A  15     -28.688  49.748  86.911  1.00  0.00           C  \n",
      "ATOM    217  O3'   U A  15     -29.867  50.377  87.417  1.00  0.00           O  \n",
      "ATOM    218  C2'   U A  15     -28.726  48.235  86.778  1.00  0.00           C  \n",
      "ATOM    219  O2'   U A  15     -29.952  47.786  86.213  1.00  0.00           O  \n",
      "ATOM    220  C1'   U A  15     -27.539  48.041  85.817  1.00  0.00           C  \n",
      "ATOM    221  N1    U A  15     -26.183  47.867  86.409  1.00  0.00           N  \n",
      "ATOM    222  C2    U A  15     -25.772  46.610  86.810  1.00  0.00           C  \n",
      "ATOM    223  O2    U A  15     -26.485  45.625  86.741  1.00  0.00           O  \n",
      "ATOM    224  N3    U A  15     -24.489  46.546  87.299  1.00  0.00           N  \n",
      "ATOM    225  C4    U A  15     -23.596  47.590  87.423  1.00  0.00           C  \n",
      "ATOM    226  O4    U A  15     -22.476  47.377  87.881  1.00  0.00           O  \n",
      "ATOM    227  C5    U A  15     -24.097  48.863  86.987  1.00  0.00           C  \n",
      "ATOM    228  C6    U A  15     -25.341  48.953  86.507  1.00  0.00           C  \n",
      "ATOM    229  P     U A  16     -30.235  50.514  89.011  1.00  0.00           P  \n",
      "ATOM    230  OP1   U A  16     -30.592  51.892  89.357  1.00  0.00           O  \n",
      "ATOM    231  OP2   U A  16     -28.895  50.008  89.357  1.00  0.00           O  \n",
      "ATOM    232  O5'   U A  16     -31.151  49.412  89.695  1.00  0.00           O  \n",
      "ATOM    233  C5'   U A  16     -31.393  48.208  88.994  1.00  0.00           C  \n",
      "ATOM    234  C4'   U A  16     -30.997  46.970  89.757  1.00  0.00           C  \n",
      "ATOM    235  O4'   U A  16     -29.924  46.303  89.062  1.00  0.00           O  \n",
      "ATOM    236  C3'   U A  16     -30.470  47.120  91.165  1.00  0.00           C  \n",
      "ATOM    237  O3'   U A  16     -31.568  47.241  92.014  1.00  0.00           O  \n",
      "ATOM    238  C2'   U A  16     -29.786  45.770  91.338  1.00  0.00           C  \n",
      "ATOM    239  O2'   U A  16     -30.676  44.718  91.635  1.00  0.00           O  \n",
      "ATOM    240  C1'   U A  16     -29.121  45.582  89.978  1.00  0.00           C  \n",
      "ATOM    241  N1    U A  16     -27.724  46.290  90.000  1.00  0.00           N  \n",
      "ATOM    242  C2    U A  16     -26.680  45.458  90.360  1.00  0.00           C  \n",
      "ATOM    243  O2    U A  16     -26.789  44.247  90.427  1.00  0.00           O  \n",
      "ATOM    244  N3    U A  16     -25.498  46.099  90.642  1.00  0.00           N  \n",
      "ATOM    245  C4    U A  16     -25.259  47.456  90.601  1.00  0.00           C  \n",
      "ATOM    246  O4    U A  16     -24.142  47.883  90.881  1.00  0.00           O  \n",
      "ATOM    247  C5    U A  16     -26.392  48.252  90.220  1.00  0.00           C  \n",
      "ATOM    248  C6    U A  16     -27.554  47.656  89.940  1.00  0.00           C  \n",
      "ATOM    249  P     G A  17     -31.359  47.349  93.546  1.00  0.00           P  \n",
      "ATOM    250  OP1   G A  17     -32.651  47.325  94.270  1.00  0.00           O  \n",
      "ATOM    251  OP2   G A  17     -30.623  48.633  93.418  1.00  0.00           O  \n",
      "ATOM    252  O5'   G A  17     -30.375  46.265  94.195  1.00  0.00           O  \n",
      "ATOM    253  C5'   G A  17     -30.887  44.998  94.579  1.00  0.00           C  \n",
      "ATOM    254  C4'   G A  17     -29.830  44.126  95.233  1.00  0.00           C  \n",
      "ATOM    255  O4'   G A  17     -28.730  43.909  94.298  1.00  0.00           O  \n",
      "ATOM    256  C3'   G A  17     -29.127  44.663  96.479  1.00  0.00           C  \n",
      "ATOM    257  O3'   G A  17     -29.862  44.537  97.699  1.00  0.00           O  \n",
      "ATOM    258  C2'   G A  17     -27.849  43.835  96.499  1.00  0.00           C  \n",
      "ATOM    259  O2'   G A  17     -28.043  42.519  96.980  1.00  0.00           O  \n",
      "ATOM    260  C1'   G A  17     -27.510  43.772  95.014  1.00  0.00           C  \n",
      "ATOM    261  N9    G A  17     -26.609  44.778  94.650  1.00  0.00           N  \n",
      "ATOM    262  C8    G A  17     -26.903  46.039  94.188  1.00  0.00           C  \n",
      "ATOM    263  N7    G A  17     -25.849  46.798  94.058  1.00  0.00           N  \n",
      "ATOM    264  C5    G A  17     -24.796  45.994  94.454  1.00  0.00           C  \n",
      "ATOM    265  C6    G A  17     -23.406  46.265  94.531  1.00  0.00           C  \n",
      "ATOM    266  O6    G A  17     -22.813  47.314  94.249  1.00  0.00           O  \n",
      "ATOM    267  N1    G A  17     -22.685  45.165  94.989  1.00  0.00           N  \n",
      "ATOM    268  C2    G A  17     -23.237  43.953  95.330  1.00  0.00           C  \n",
      "ATOM    269  N2    G A  17     -22.380  43.012  95.750  1.00  0.00           N  \n",
      "ATOM    270  N3    G A  17     -24.526  43.687  95.265  1.00  0.00           N  \n",
      "ATOM    271  C4    G A  17     -25.245  44.741  94.824  1.00  0.00           C  \n",
      "ATOM    272  P     A A  18     -29.374  45.423  99.048  1.00  0.00           P  \n",
      "ATOM    273  OP1   A A  18     -30.429  44.871  99.944  1.00  0.00           O  \n",
      "ATOM    274  OP2   A A  18     -29.370  46.873  98.740  1.00  0.00           O  \n",
      "ATOM    275  O5'   A A  18     -27.941  45.092  99.660  1.00  0.00           O  \n",
      "ATOM    276  C5'   A A  18     -27.734  43.889 100.384  1.00  0.00           C  \n",
      "ATOM    277  C4'   A A  18     -26.264  43.649 100.639  1.00  0.00           C  \n",
      "ATOM    278  O4'   A A  18     -25.534  43.699  99.381  1.00  0.00           O  \n",
      "ATOM    279  C3'   A A  18     -25.559  44.679 101.499  1.00  0.00           C  \n",
      "ATOM    280  O3'   A A  18     -25.825  44.474 102.878  1.00  0.00           O  \n",
      "ATOM    281  C2'   A A  18     -24.099  44.491 101.095  1.00  0.00           C  \n",
      "ATOM    282  O2'   A A  18     -23.486  43.353 101.661  1.00  0.00           O  \n",
      "ATOM    283  C1'   A A  18     -24.241  44.265  99.592  1.00  0.00           C  \n",
      "ATOM    284  N9    A A  18     -24.142  45.510  98.890  1.00  0.00           N  \n",
      "ATOM    285  C8    A A  18     -25.161  46.276  98.387  1.00  0.00           C  \n",
      "ATOM    286  N7    A A  18     -24.751  47.309  97.690  1.00  0.00           N  \n",
      "ATOM    287  C5    A A  18     -23.369  47.216  97.740  1.00  0.00           C  \n",
      "ATOM    288  C6    A A  18     -22.347  48.013  97.195  1.00  0.00           C  \n",
      "ATOM    289  N6    A A  18     -22.573  49.106  96.463  1.00  0.00           N  \n",
      "ATOM    290  N1    A A  18     -21.071  47.644  97.432  1.00  0.00           N  \n",
      "ATOM    291  C2    A A  18     -20.845  46.548  98.166  1.00  0.00           C  \n",
      "ATOM    292  N3    A A  18     -21.721  45.718  98.729  1.00  0.00           N  \n",
      "ATOM    293  C4    A A  18     -22.979  46.114  98.476  1.00  0.00           C  \n",
      "ATOM    294  P     C A  19     -25.890  45.706 103.820  1.00  0.00           P  \n",
      "ATOM    295  OP1   C A  19     -26.448  45.160 105.084  1.00  0.00           O  \n",
      "ATOM    296  OP2   C A  19     -26.707  46.625 102.988  1.00  0.00           O  \n",
      "ATOM    297  O5'   C A  19     -24.461  46.390 104.096  1.00  0.00           O  \n",
      "ATOM    298  C5'   C A  19     -23.437  45.678 104.774  1.00  0.00           C  \n",
      "ATOM    299  C4'   C A  19     -22.096  46.320 104.515  1.00  0.00           C  \n",
      "ATOM    300  O4'   C A  19     -21.720  46.113 103.138  1.00  0.00           O  \n",
      "ATOM    301  C3'   C A  19     -22.111  47.823 104.638  1.00  0.00           C  \n",
      "ATOM    302  O3'   C A  19     -21.949  48.214 105.963  1.00  0.00           O  \n",
      "ATOM    303  C2'   C A  19     -20.925  48.263 103.790  1.00  0.00           C  \n",
      "ATOM    304  O2'   C A  19     -19.661  48.199 104.432  1.00  0.00           O  \n",
      "ATOM    305  C1'   C A  19     -21.043  47.263 102.647  1.00  0.00           C  \n",
      "ATOM    306  N1    C A  19     -21.751  47.888 101.567  1.00  0.00           N  \n",
      "ATOM    307  C2    C A  19     -21.068  48.807 100.762  1.00  0.00           C  \n",
      "ATOM    308  O2    C A  19     -19.887  49.080 101.037  1.00  0.00           O  \n",
      "ATOM    309  N3    C A  19     -21.711  49.370  99.712  1.00  0.00           N  \n",
      "ATOM    310  C4    C A  19     -22.980  49.048  99.456  1.00  0.00           C  \n",
      "ATOM    311  N4    C A  19     -23.573  49.628  98.410  1.00  0.00           N  \n",
      "ATOM    312  C5    C A  19     -23.690  48.119 100.259  1.00  0.00           C  \n",
      "ATOM    313  C6    C A  19     -23.051  47.565 101.295  1.00  0.00           C  \n",
      "ATOM    314  P     G A  27     -15.876  57.939  92.113  1.00  0.00           P  \n",
      "ATOM    315  OP1   G A  27     -14.623  58.618  91.692  1.00  0.00           O  \n",
      "ATOM    316  OP2   G A  27     -16.524  56.961  91.201  1.00  0.00           O  \n",
      "ATOM    317  O5'   G A  27     -15.590  57.206  93.501  1.00  0.00           O  \n",
      "ATOM    318  C5'   G A  27     -15.137  55.851  93.528  1.00  0.00           C  \n",
      "ATOM    319  C4'   G A  27     -14.808  55.431  94.944  1.00  0.00           C  \n",
      "ATOM    320  O4'   G A  27     -15.941  55.739  95.808  1.00  0.00           O  \n",
      "ATOM    321  C3'   G A  27     -14.599  53.935  95.135  1.00  0.00           C  \n",
      "ATOM    322  O3'   G A  27     -13.288  53.480  94.816  1.00  0.00           O  \n",
      "ATOM    323  C2'   G A  27     -14.939  53.762  96.604  1.00  0.00           C  \n",
      "ATOM    324  O2'   G A  27     -13.924  54.234  97.468  1.00  0.00           O  \n",
      "ATOM    325  C1'   G A  27     -16.172  54.657  96.700  1.00  0.00           C  \n",
      "ATOM    326  N9    G A  27     -17.524  54.019  96.288  1.00  0.00           N  \n",
      "ATOM    327  C8    G A  27     -18.310  54.276  95.191  1.00  0.00           C  \n",
      "ATOM    328  N7    G A  27     -19.396  53.554  95.156  1.00  0.00           N  \n",
      "ATOM    329  C5    G A  27     -19.328  52.775  96.296  1.00  0.00           C  \n",
      "ATOM    330  C6    G A  27     -20.221  51.794  96.799  1.00  0.00           C  \n",
      "ATOM    331  O6    G A  27     -21.292  51.411  96.310  1.00  0.00           O  \n",
      "ATOM    332  N1    G A  27     -19.768  51.240  97.992  1.00  0.00           N  \n",
      "ATOM    333  C2    G A  27     -18.598  51.588  98.624  1.00  0.00           C  \n",
      "ATOM    334  N2    G A  27     -18.330  50.944  99.768  1.00  0.00           N  \n",
      "ATOM    335  N3    G A  27     -17.758  52.497  98.169  1.00  0.00           N  \n",
      "ATOM    336  C4    G A  27     -18.178  53.048  97.010  1.00  0.00           C  \n",
      "ATOM    337  P     U A  28     -13.062  52.028  93.829  1.00  0.00           P  \n",
      "ATOM    338  OP1   U A  28     -11.703  51.962  93.227  1.00  0.00           O  \n",
      "ATOM    339  OP2   U A  28     -14.230  52.151  92.924  1.00  0.00           O  \n",
      "ATOM    340  O5'   U A  28     -13.330  50.732  94.761  1.00  0.00           O  \n",
      "ATOM    341  C5'   U A  28     -12.434  50.388  95.837  1.00  0.00           C  \n",
      "ATOM    342  C4'   U A  28     -12.893  49.196  96.656  1.00  0.00           C  \n",
      "ATOM    343  O4'   U A  28     -14.027  49.575  97.489  1.00  0.00           O  \n",
      "ATOM    344  C3'   U A  28     -13.418  48.008  95.876  1.00  0.00           C  \n",
      "ATOM    345  O3'   U A  28     -12.356  47.203  95.424  1.00  0.00           O  \n",
      "ATOM    346  C2'   U A  28     -14.272  47.322  96.930  1.00  0.00           C  \n",
      "ATOM    347  O2'   U A  28     -13.515  46.718  97.962  1.00  0.00           O  \n",
      "ATOM    348  C1'   U A  28     -14.978  48.524  97.515  1.00  0.00           C  \n",
      "ATOM    349  N1    U A  28     -16.264  48.981  96.834  1.00  0.00           N  \n",
      "ATOM    350  C2    U A  28     -17.403  48.275  97.171  1.00  0.00           C  \n",
      "ATOM    351  O2    U A  28     -17.406  47.372  97.989  1.00  0.00           O  \n",
      "ATOM    352  N3    U A  28     -18.544  48.664  96.513  1.00  0.00           N  \n",
      "ATOM    353  C4    U A  28     -18.658  49.666  95.572  1.00  0.00           C  \n",
      "ATOM    354  O4    U A  28     -19.754  49.900  95.067  1.00  0.00           O  \n",
      "ATOM    355  C5    U A  28     -17.432  50.352  95.275  1.00  0.00           C  \n",
      "ATOM    356  C6    U A  28     -16.308  49.994  95.901  1.00  0.00           C  \n",
      "ATOM    357  P     C A  29     -12.408  46.537  93.950  1.00  0.00           P  \n",
      "ATOM    358  OP1   C A  29     -11.048  46.018  93.681  1.00  0.00           O  \n",
      "ATOM    359  OP2   C A  29     -13.080  47.410  92.962  1.00  0.00           O  \n",
      "ATOM    360  O5'   C A  29     -13.417  45.309  94.148  1.00  0.00           O  \n",
      "ATOM    361  C5'   C A  29     -13.050  44.222  94.987  1.00  0.00           C  \n",
      "ATOM    362  C4'   C A  29     -14.248  43.429  95.452  1.00  0.00           C  \n",
      "ATOM    363  O4'   C A  29     -15.226  44.311  96.062  1.00  0.00           O  \n",
      "ATOM    364  C3'   C A  29     -15.048  42.703  94.380  1.00  0.00           C  \n",
      "ATOM    365  O3'   C A  29     -14.449  41.496  93.945  1.00  0.00           O  \n",
      "ATOM    366  C2'   C A  29     -16.386  42.484  95.073  1.00  0.00           C  \n",
      "ATOM    367  O2'   C A  29     -16.306  41.388  95.972  1.00  0.00           O  \n",
      "ATOM    368  C1'   C A  29     -16.519  43.766  95.894  1.00  0.00           C  \n",
      "ATOM    369  N1    C A  29     -17.472  44.694  95.253  1.00  0.00           N  \n",
      "ATOM    370  C2    C A  29     -18.855  44.494  95.334  1.00  0.00           C  \n",
      "ATOM    371  O2    C A  29     -19.279  43.481  95.916  1.00  0.00           O  \n",
      "ATOM    372  N3    C A  29     -19.686  45.406  94.776  1.00  0.00           N  \n",
      "ATOM    373  C4    C A  29     -19.185  46.477  94.160  1.00  0.00           C  \n",
      "ATOM    374  N4    C A  29     -20.044  47.349  93.626  1.00  0.00           N  \n",
      "ATOM    375  C5    C A  29     -17.787  46.698  94.067  1.00  0.00           C  \n",
      "ATOM    376  C6    C A  29     -16.969  45.795  94.619  1.00  0.00           C  \n",
      "ATOM    377  P     A A  30     -14.767  40.926  92.535  1.00  0.00           P  \n",
      "ATOM    378  OP1   A A  30     -14.013  39.653  92.370  1.00  0.00           O  \n",
      "ATOM    379  OP2   A A  30     -14.753  41.930  91.437  1.00  0.00           O  \n",
      "ATOM    380  O5'   A A  30     -16.285  40.630  92.898  1.00  0.00           O  \n",
      "ATOM    381  C5'   A A  30     -16.641  39.544  93.770  1.00  0.00           C  \n",
      "ATOM    382  C4'   A A  30     -18.105  39.228  93.627  1.00  0.00           C  \n",
      "ATOM    383  O4'   A A  30     -18.882  40.292  94.233  1.00  0.00           O  \n",
      "ATOM    384  C3'   A A  30     -18.599  39.138  92.190  1.00  0.00           C  \n",
      "ATOM    385  O3'   A A  30     -18.430  37.834  91.651  1.00  0.00           O  \n",
      "ATOM    386  C2'   A A  30     -20.068  39.501  92.322  1.00  0.00           C  \n",
      "ATOM    387  O2'   A A  30     -20.858  38.402  92.698  1.00  0.00           O  \n",
      "ATOM    388  C1'   A A  30     -20.053  40.512  93.472  1.00  0.00           C  \n",
      "ATOM    389  N9    A A  30     -20.070  41.875  93.031  1.00  0.00           N  \n",
      "ATOM    390  C8    A A  30     -19.016  42.651  92.624  1.00  0.00           C  \n",
      "ATOM    391  N7    A A  30     -19.375  43.799  92.101  1.00  0.00           N  \n",
      "ATOM    392  C5    A A  30     -20.759  43.776  92.168  1.00  0.00           C  \n",
      "ATOM    393  C6    A A  30     -21.741  44.702  91.774  1.00  0.00           C  \n",
      "ATOM    394  N6    A A  30     -21.463  45.880  91.212  1.00  0.00           N  \n",
      "ATOM    395  N1    A A  30     -23.034  44.370  91.980  1.00  0.00           N  \n",
      "ATOM    396  C2    A A  30     -23.311  43.189  92.544  1.00  0.00           C  \n",
      "ATOM    397  N3    A A  30     -22.477  42.237  92.957  1.00  0.00           N  \n",
      "ATOM    398  C4    A A  30     -21.201  42.597  92.737  1.00  0.00           C  \n",
      "ATOM    399  P     U A  31     -17.987  37.628  89.982  1.00  0.00           P  \n",
      "ATOM    400  OP1   U A  31     -17.806  36.204  89.585  1.00  0.00           O  \n",
      "ATOM    401  OP2   U A  31     -17.179  38.677  89.298  1.00  0.00           O  \n",
      "ATOM    402  O5'   U A  31     -19.523  38.025  89.795  1.00  0.00           O  \n",
      "ATOM    403  C5'   U A  31     -20.542  37.121  90.180  1.00  0.00           C  \n",
      "ATOM    404  C4'   U A  31     -21.888  37.664  89.808  1.00  0.00           C  \n",
      "ATOM    405  O4'   U A  31     -22.079  38.977  90.363  1.00  0.00           O  \n",
      "ATOM    406  C3'   U A  31     -22.063  37.877  88.332  1.00  0.00           C  \n",
      "ATOM    407  O3'   U A  31     -22.418  36.646  87.760  1.00  0.00           O  \n",
      "ATOM    408  C2'   U A  31     -23.181  38.904  88.261  1.00  0.00           C  \n",
      "ATOM    409  O2'   U A  31     -24.487  38.398  88.266  1.00  0.00           O  \n",
      "ATOM    410  C1'   U A  31     -22.931  39.708  89.528  1.00  0.00           C  \n",
      "ATOM    411  N1    U A  31     -22.298  40.995  89.206  1.00  0.00           N  \n",
      "ATOM    412  C2    U A  31     -23.074  42.079  88.842  1.00  0.00           C  \n",
      "ATOM    413  O2    U A  31     -24.286  42.024  88.742  1.00  0.00           O  \n",
      "ATOM    414  N3    U A  31     -22.376  43.237  88.597  1.00  0.00           N  \n",
      "ATOM    415  C4    U A  31     -21.010  43.416  88.678  1.00  0.00           C  \n",
      "ATOM    416  O4    U A  31     -20.528  44.518  88.428  1.00  0.00           O  \n",
      "ATOM    417  C5    U A  31     -20.274  42.244  89.060  1.00  0.00           C  \n",
      "ATOM    418  C6    U A  31     -20.928  41.105  89.305  1.00  0.00           C  \n",
      "ATOM    419  P     A A  32     -21.997  36.553  86.957  1.00  0.00           P  \n",
      "ATOM    420  OP1   A A  32     -21.855  35.192  86.366  1.00  0.00           O  \n",
      "ATOM    421  OP2   A A  32     -20.837  37.475  86.939  1.00  0.00           O  \n",
      "ATOM    422  O5'   A A  32     -23.187  37.312  86.226  1.00  0.00           O  \n",
      "ATOM    423  C5'   A A  32     -24.437  36.683  85.977  1.00  0.00           C  \n",
      "ATOM    424  C4'   A A  32     -25.205  37.479  84.953  1.00  0.00           C  \n",
      "ATOM    425  O4'   A A  32     -25.672  38.714  85.560  1.00  0.00           O  \n",
      "ATOM    426  C3'   A A  32     -24.385  37.913  83.744  1.00  0.00           C  \n",
      "ATOM    427  O3'   A A  32     -24.372  36.947  82.699  1.00  0.00           O  \n",
      "ATOM    428  C2'   A A  32     -25.069  39.203  83.323  1.00  0.00           C  \n",
      "ATOM    429  O2'   A A  32     -26.237  38.945  82.579  1.00  0.00           O  \n",
      "ATOM    430  C1'   A A  32     -25.431  39.804  84.681  1.00  0.00           C  \n",
      "ATOM    431  N9    A A  32     -24.265  40.602  85.295  1.00  0.00           N  \n",
      "ATOM    432  C8    A A  32     -23.182  40.156  86.007  1.00  0.00           C  \n",
      "ATOM    433  N7    A A  32     -22.275  41.078  86.223  1.00  0.00           N  \n",
      "ATOM    434  C5    A A  32     -22.796  42.207  85.610  1.00  0.00           C  \n",
      "ATOM    435  C6    A A  32     -22.315  43.522  85.482  1.00  0.00           C  \n",
      "ATOM    436  N6    A A  32     -21.150  43.935  85.988  1.00  0.00           N  \n",
      "ATOM    437  N1    A A  32     -23.081  44.407  84.809  1.00  0.00           N  \n",
      "ATOM    438  C2    A A  32     -24.248  43.992  84.304  1.00  0.00           C  \n",
      "ATOM    439  N3    A A  32     -24.807  42.785  84.359  1.00  0.00           N  \n",
      "ATOM    440  C4    A A  32     -24.021  41.929  85.034  1.00  0.00           C  \n",
      "ATOM    441  P     A A  33     -22.997  36.840  81.769  1.00  0.00           P  \n",
      "ATOM    442  OP1   A A  33     -23.501  35.564  81.189  1.00  0.00           O  \n",
      "ATOM    443  OP2   A A  33     -21.574  36.957  82.162  1.00  0.00           O  \n",
      "ATOM    444  O5'   A A  33     -23.310  38.054  80.783  1.00  0.00           O  \n",
      "ATOM    445  C5'   A A  33     -24.610  38.244  80.233  1.00  0.00           C  \n",
      "ATOM    446  C4'   A A  33     -24.768  39.667  79.727  1.00  0.00           C  \n",
      "ATOM    447  O4'   A A  33     -24.735  40.601  80.848  1.00  0.00           O  \n",
      "ATOM    448  C3'   A A  33     -23.708  40.206  78.777  1.00  0.00           C  \n",
      "ATOM    449  O3'   A A  33     -23.940  39.820  77.425  1.00  0.00           O  \n",
      "ATOM    450  C2'   A A  33     -23.911  41.701  78.940  1.00  0.00           C  \n",
      "ATOM    451  O2'   A A  33     -25.130  42.084  78.328  1.00  0.00           O  \n",
      "ATOM    452  C1'   A A  33     -24.082  41.800  80.455  1.00  0.00           C  \n",
      "ATOM    453  N9    A A  33     -22.876  41.911  81.150  1.00  0.00           N  \n",
      "ATOM    454  C8    A A  33     -22.066  40.892  81.579  1.00  0.00           C  \n",
      "ATOM    455  N7    A A  33     -20.957  41.302  82.149  1.00  0.00           N  \n",
      "ATOM    456  C5    A A  33     -21.045  42.684  82.090  1.00  0.00           C  \n",
      "ATOM    457  C6    A A  33     -20.184  43.706  82.526  1.00  0.00           C  \n",
      "ATOM    458  N6    A A  33     -19.017  43.481  83.134  1.00  0.00           N  \n",
      "ATOM    459  N1    A A  33     -20.569  44.983  82.313  1.00  0.00           N  \n",
      "ATOM    460  C2    A A  33     -21.739  45.208  81.704  1.00  0.00           C  \n",
      "ATOM    461  N3    A A  33     -22.632  44.332  81.250  1.00  0.00           N  \n",
      "ATOM    462  C4    A A  33     -22.221  43.073  81.476  1.00  0.00           C  \n",
      "ATOM    463  P     C A  42      -6.638  46.740  93.020  1.00  0.00           P  \n",
      "ATOM    464  OP1   C A  42      -8.075  46.489  93.265  1.00  0.00           O  \n",
      "ATOM    465  OP2   C A  42      -6.181  48.103  92.658  1.00  0.00           O  \n",
      "ATOM    466  O5'   C A  42      -5.814  46.260  94.310  1.00  0.00           O  \n",
      "ATOM    467  C5'   C A  42      -6.209  45.079  94.995  1.00  0.00           C  \n",
      "ATOM    468  C4'   C A  42      -5.272  44.721  96.142  1.00  0.00           C  \n",
      "ATOM    469  O4'   C A  42      -3.900  44.620  95.676  1.00  0.00           O  \n",
      "ATOM    470  C3'   C A  42      -5.288  45.779  97.200  1.00  0.00           C  \n",
      "ATOM    471  O3'   C A  42      -6.260  45.531  98.220  1.00  0.00           O  \n",
      "ATOM    472  C2'   C A  42      -3.911  45.816  97.743  1.00  0.00           C  \n",
      "ATOM    473  O2'   C A  42      -3.803  44.985  98.894  1.00  0.00           O  \n",
      "ATOM    474  C1'   C A  42      -3.027  45.278  96.648  1.00  0.00           C  \n",
      "ATOM    475  N1    C A  42      -2.345  46.454  96.065  1.00  0.00           N  \n",
      "ATOM    476  C2    C A  42      -1.051  46.810  96.463  1.00  0.00           C  \n",
      "ATOM    477  O2    C A  42      -0.495  46.145  97.353  1.00  0.00           O  \n",
      "ATOM    478  N3    C A  42      -0.445  47.865  95.868  1.00  0.00           N  \n",
      "ATOM    479  C4    C A  42      -1.081  48.551  94.917  1.00  0.00           C  \n",
      "ATOM    480  N4    C A  42      -0.444  49.583  94.359  1.00  0.00           N  \n",
      "ATOM    481  C5    C A  42      -2.392  48.206  94.500  1.00  0.00           C  \n",
      "ATOM    482  C6    C A  42      -2.987  47.164  95.090  1.00  0.00           C  \n",
      "ATOM    483  P     G A  43      -7.028  46.968  99.392  1.00  0.00           P  \n",
      "ATOM    484  OP1   G A  43      -7.985  46.626 100.469  1.00  0.00           O  \n",
      "ATOM    485  OP2   G A  43      -7.227  48.201  98.599  1.00  0.00           O  \n",
      "ATOM    486  O5'   G A  43      -5.575  47.012 100.040  1.00  0.00           O  \n",
      "ATOM    487  C5'   G A  43      -5.341  46.374 101.288  1.00  0.00           C  \n",
      "ATOM    488  C4'   G A  43      -4.175  47.002 102.011  1.00  0.00           C  \n",
      "ATOM    489  O4'   G A  43      -2.979  46.836 101.230  1.00  0.00           O  \n",
      "ATOM    490  C3'   G A  43      -4.260  48.477 102.318  1.00  0.00           C  \n",
      "ATOM    491  O3'   G A  43      -4.912  48.555 103.575  1.00  0.00           O  \n",
      "ATOM    492  C2'   G A  43      -2.788  48.875 102.408  1.00  0.00           C  \n",
      "ATOM    493  O2'   G A  43      -2.204  48.523 103.634  1.00  0.00           O  \n",
      "ATOM    494  C1'   G A  43      -2.127  47.935 101.412  1.00  0.00           C  \n",
      "ATOM    495  N9    G A  43      -1.904  48.489 100.034  1.00  0.00           N  \n",
      "ATOM    496  C8    G A  43      -2.652  48.576  98.885  1.00  0.00           C  \n",
      "ATOM    497  N7    G A  43      -2.221  49.488  98.058  1.00  0.00           N  \n",
      "ATOM    498  C5    G A  43      -1.124  50.038  98.694  1.00  0.00           C  \n",
      "ATOM    499  C6    G A  43      -0.244  51.074  98.288  1.00  0.00           C  \n",
      "ATOM    500  O6    G A  43      -0.268  51.732  97.240  1.00  0.00           O  \n",
      "ATOM    501  N1    G A  43       0.742  51.322  99.239  1.00  0.00           N  \n",
      "ATOM    502  C2    G A  43       0.865  50.655 100.434  1.00  0.00           C  \n",
      "ATOM    503  N2    G A  43       1.881  51.035 101.221  1.00  0.00           N  \n",
      "ATOM    504  N3    G A  43       0.055  49.691 100.825  1.00  0.00           N  \n",
      "ATOM    505  C4    G A  43      -0.911  49.433  99.918  1.00  0.00           C  \n",
      "ATOM    506  P     G A  44      -5.266  50.024 104.226  1.00  0.00           P  \n",
      "ATOM    507  OP1   G A  44      -5.725  49.895 105.628  1.00  0.00           O  \n",
      "ATOM    508  OP2   G A  44      -6.164  50.595 103.200  1.00  0.00           O  \n",
      "ATOM    509  O5'   G A  44      -3.973  50.967 104.193  1.00  0.00           O  \n",
      "ATOM    510  C5'   G A  44      -2.920  50.745 105.119  1.00  0.00           C  \n",
      "ATOM    511  C4'   G A  44      -2.046  51.963 105.260  1.00  0.00           C  \n",
      "ATOM    512  O4'   G A  44      -1.071  52.028 104.186  1.00  0.00           O  \n",
      "ATOM    513  C3'   G A  44      -2.766  53.294 105.157  1.00  0.00           C  \n",
      "ATOM    514  O3'   G A  44      -3.478  53.636 106.330  1.00  0.00           O  \n",
      "ATOM    515  C2'   G A  44      -1.623  54.241 104.822  1.00  0.00           C  \n",
      "ATOM    516  O2'   G A  44      -0.826  54.483 105.970  1.00  0.00           O  \n",
      "ATOM    517  C1'   G A  44      -0.819  53.378 103.851  1.00  0.00           C  \n",
      "ATOM    518  N9    G A  44      -1.361  53.583 102.464  1.00  0.00           N  \n",
      "ATOM    519  C8    G A  44      -2.451  53.016 101.849  1.00  0.00           C  \n",
      "ATOM    520  N7    G A  44      -2.626  53.433 100.624  1.00  0.00           N  \n",
      "ATOM    521  C5    G A  44      -1.592  54.327 100.415  1.00  0.00           C  \n",
      "ATOM    522  C6    G A  44      -1.259  55.102  99.275  1.00  0.00           C  \n",
      "ATOM    523  O6    G A  44      -1.839  55.147  98.183  1.00  0.00           O  \n",
      "ATOM    524  N1    G A  44      -0.126  55.882  99.489  1.00  0.00           N  \n",
      "ATOM    525  C2    G A  44       0.597  55.912 100.658  1.00  0.00           C  \n",
      "ATOM    526  N2    G A  44       1.660  56.727 100.674  1.00  0.00           N  \n",
      "ATOM    527  N3    G A  44       0.298  55.198 101.726  1.00  0.00           N  \n",
      "ATOM    528  C4    G A  44      -0.799  54.434 101.541  1.00  0.00           C  \n",
      "ATOM    529  P     A A  45      -4.676  54.221 106.063  1.00  0.00           P  \n",
      "ATOM    530  OP1   A A  45      -5.124  54.271 107.481  1.00  0.00           O  \n",
      "ATOM    531  OP2   A A  45      -5.623  53.821 104.984  1.00  0.00           O  \n",
      "ATOM    532  O5'   A A  45      -3.939  55.582 105.650  1.00  0.00           O  \n",
      "ATOM    533  C5'   A A  45      -3.192  56.330 106.619  1.00  0.00           C  \n",
      "ATOM    534  C4'   A A  45      -2.260  57.353 105.967  1.00  0.00           C  \n",
      "ATOM    535  O4'   A A  45      -1.605  56.789 104.785  1.00  0.00           O  \n",
      "ATOM    536  C3'   A A  45      -2.856  58.660 105.455  1.00  0.00           C  \n",
      "ATOM    537  O3'   A A  45      -3.134  59.631 106.467  1.00  0.00           O  \n",
      "ATOM    538  C2'   A A  45      -1.792  59.132 104.464  1.00  0.00           C  \n",
      "ATOM    539  O2'   A A  45      -0.642  59.673 105.078  1.00  0.00           O  \n",
      "ATOM    540  C1'   A A  45      -1.367  57.819 103.825  1.00  0.00           C  \n",
      "ATOM    541  N9    A A  45      -2.203  57.598 102.595  1.00  0.00           N  \n",
      "ATOM    542  C8    A A  45      -3.135  56.615 102.390  1.00  0.00           C  \n",
      "ATOM    543  N7    A A  45      -3.571  56.547 101.154  1.00  0.00           N  \n",
      "ATOM    544  C5    A A  45      -2.877  57.555 100.503  1.00  0.00           C  \n",
      "ATOM    545  C6    A A  45      -2.887  58.001  99.169  1.00  0.00           C  \n",
      "ATOM    546  N6    A A  45      -3.650  57.463  98.216  1.00  0.00           N  \n",
      "ATOM    547  N1    A A  45      -2.076  59.031  98.847  1.00  0.00           N  \n",
      "ATOM    548  C2    A A  45      -1.311  59.569  99.804  1.00  0.00           C  \n",
      "ATOM    549  N3    A A  45      -1.213  59.237 101.089  1.00  0.00           N  \n",
      "ATOM    550  C4    A A  45      -2.032  58.212 101.377  1.00  0.00           C  \n",
      "ATOM    551  P     A A  46      -4.072  60.367 106.168  1.00  0.00           P  \n",
      "ATOM    552  OP1   A A  46      -4.298  60.814 107.561  1.00  0.00           O  \n",
      "ATOM    553  OP2   A A  46      -5.112  59.577 105.470  1.00  0.00           O  \n",
      "ATOM    554  O5'   A A  46      -3.839  61.643 105.224  1.00  0.00           O  \n",
      "ATOM    555  C5'   A A  46      -3.058  62.742 105.675  1.00  0.00           C  \n",
      "ATOM    556  C4'   A A  46      -2.597  63.627 104.541  1.00  0.00           C  \n",
      "ATOM    557  O4'   A A  46      -2.082  62.814 103.452  1.00  0.00           O  \n",
      "ATOM    558  C3'   A A  46      -3.652  64.499 103.872  1.00  0.00           C  \n",
      "ATOM    559  O3'   A A  46      -3.972  65.674 104.598  1.00  0.00           O  \n",
      "ATOM    560  C2'   A A  46      -3.019  64.777 102.514  1.00  0.00           C  \n",
      "ATOM    561  O2'   A A  46      -2.000  65.761 102.618  1.00  0.00           O  \n",
      "ATOM    562  C1'   A A  46      -2.364  63.430 102.212  1.00  0.00           C  \n",
      "ATOM    563  N9    A A  46      -3.280  62.550 101.463  1.00  0.00           N  \n",
      "ATOM    564  C8    A A  46      -4.110  61.620 102.033  1.00  0.00           C  \n",
      "ATOM    565  N7    A A  46      -4.843  60.963 101.165  1.00  0.00           N  \n",
      "ATOM    566  C5    A A  46      -4.469  61.499  99.943  1.00  0.00           C  \n",
      "ATOM    567  C6    A A  46      -4.881  61.229  98.626  1.00  0.00           C  \n",
      "ATOM    568  N6    A A  46      -5.798  60.311  98.312  1.00  0.00           N  \n",
      "ATOM    569  N1    A A  46      -4.311  61.943  97.632  1.00  0.00           N  \n",
      "ATOM    570  C2    A A  46      -3.391  62.862  97.948  1.00  0.00           C  \n",
      "ATOM    571  N3    A A  46      -2.922  63.205  99.145  1.00  0.00           N  \n",
      "ATOM    572  C4    A A  46      -3.508  62.478 100.110  1.00  0.00           C  \n",
      "ATOM    573  P     U A  47      -5.460  66.456 104.401  1.00  0.00           P  \n",
      "ATOM    574  OP1   U A  47      -5.693  67.645 105.249  1.00  0.00           O  \n",
      "ATOM    575  OP2   U A  47      -6.557  65.483 104.212  1.00  0.00           O  \n",
      "ATOM    576  O5'   U A  47      -5.016  66.956 102.943  1.00  0.00           O  \n",
      "ATOM    577  C5'   U A  47      -4.399  68.227 102.687  1.00  0.00           C  \n",
      "ATOM    578  C4'   U A  47      -4.491  68.596 101.203  1.00  0.00           C  \n",
      "ATOM    579  O4'   U A  47      -4.030  67.473 100.429  1.00  0.00           O  \n",
      "ATOM    580  C3'   U A  47      -5.923  68.767 100.721  1.00  0.00           C  \n",
      "ATOM    581  O3'   U A  47      -6.644  69.950 101.144  1.00  0.00           O  \n",
      "ATOM    582  C2'   U A  47      -5.833  68.450  99.236  1.00  0.00           C  \n",
      "ATOM    583  O2'   U A  47      -5.295  69.537  98.475  1.00  0.00           O  \n",
      "ATOM    584  C1'   U A  47      -4.804  67.320  99.214  1.00  0.00           C  \n",
      "ATOM    585  N1    U A  47      -5.388  66.160  99.113  1.00  0.00           N  \n",
      "ATOM    586  C2    U A  47      -5.739  65.737  97.845  1.00  0.00           C  \n",
      "ATOM    587  O2    U A  47      -5.333  66.275  96.830  1.00  0.00           O  \n",
      "ATOM    588  N3    U A  47      -6.588  64.658  97.806  1.00  0.00           N  \n",
      "ATOM    589  C4    U A  47      -7.109  63.973  98.884  1.00  0.00           C  \n",
      "ATOM    590  O4    U A  47      -7.859  63.020  98.690  1.00  0.00           O  \n",
      "ATOM    591  C5    U A  47      -6.699  64.472 100.166  1.00  0.00           C  \n",
      "ATOM    592  C6    U A  47      -5.874  65.521 100.233  1.00  0.00           C  \n",
      "ATOM    593  P     A A  48      -7.040  71.655 100.242  1.00  0.00           P  \n",
      "ATOM    594  OP1   A A  48      -6.805  73.069 100.601  1.00  0.00           O  \n",
      "ATOM    595  OP2   A A  48      -7.906  70.802 101.077  1.00  0.00           O  \n",
      "ATOM    596  O5'   A A  48      -7.617  71.615  98.754  1.00  0.00           O  \n",
      "ATOM    597  C5'   A A  48      -7.115  72.513  97.763  1.00  0.00           C  \n",
      "ATOM    598  C4'   A A  48      -7.350  71.970  96.361  1.00  0.00           C  \n",
      "ATOM    599  O4'   A A  48      -7.081  70.543  96.274  1.00  0.00           O  \n",
      "ATOM    600  C3'   A A  48      -8.778  72.085  95.866  1.00  0.00           C  \n",
      "ATOM    601  O3'   A A  48      -9.006  73.416  95.460  1.00  0.00           O  \n",
      "ATOM    602  C2'   A A  48      -8.767  71.089  94.709  1.00  0.00           C  \n",
      "ATOM    603  O2'   A A  48      -8.159  71.574  93.527  1.00  0.00           O  \n",
      "ATOM    604  C1'   A A  48      -7.934  69.961  95.302  1.00  0.00           C  \n",
      "ATOM    605  N9    A A  48      -8.722  68.924  95.980  1.00  0.00           N  \n",
      "ATOM    606  C8    A A  48      -8.874  68.690  97.322  1.00  0.00           C  \n",
      "ATOM    607  N7    A A  48      -9.565  67.609  97.595  1.00  0.00           N  \n",
      "ATOM    608  C5    A A  48      -9.889  67.098  96.348  1.00  0.00           C  \n",
      "ATOM    609  C6    A A  48     -10.613  65.961  95.951  1.00  0.00           C  \n",
      "ATOM    610  N6    A A  48     -11.164  65.098  96.809  1.00  0.00           N  \n",
      "ATOM    611  N1    A A  48     -10.754  65.739  94.627  1.00  0.00           N  \n",
      "ATOM    612  C2    A A  48     -10.202  66.603  93.768  1.00  0.00           C  \n",
      "ATOM    613  N3    A A  48      -9.499  67.705  94.020  1.00  0.00           N  \n",
      "ATOM    614  C4    A A  48      -9.377  67.898  95.344  1.00  0.00           C  \n",
      "ATOM    615  P     U A  56     -15.307  57.331  87.254  1.00  0.00           P  \n",
      "ATOM    616  OP1   U A  56     -14.861  56.684  85.995  1.00  0.00           O  \n",
      "ATOM    617  OP2   U A  56     -15.910  56.498  88.338  1.00  0.00           O  \n",
      "ATOM    618  O5'   U A  56     -14.099  58.133  87.905  1.00  0.00           O  \n",
      "ATOM    619  C5'   U A  56     -14.295  58.854  89.129  1.00  0.00           C  \n",
      "ATOM    620  C4'   U A  56     -13.645  60.210  89.049  1.00  0.00           C  \n",
      "ATOM    621  O4'   U A  56     -14.139  61.023  90.131  1.00  0.00           O  \n",
      "ATOM    622  C3'   U A  56     -12.136  60.204  89.193  1.00  0.00           C  \n",
      "ATOM    623  O3'   U A  56     -11.554  60.092  87.914  1.00  0.00           O  \n",
      "ATOM    624  C2'   U A  56     -11.838  61.557  89.825  1.00  0.00           C  \n",
      "ATOM    625  O2'   U A  56     -11.741  62.597  88.865  1.00  0.00           O  \n",
      "ATOM    626  C1'   U A  56     -13.082  61.774  90.688  1.00  0.00           C  \n",
      "ATOM    627  N1    U A  56     -13.377  62.055  91.907  1.00  0.00           N  \n",
      "ATOM    628  C2    U A  56     -12.805  63.186  92.456  1.00  0.00           C  \n",
      "ATOM    629  O2    U A  56     -12.550  64.185  91.806  1.00  0.00           O  \n",
      "ATOM    630  N3    U A  56     -12.538  63.108  93.802  1.00  0.00           N  \n",
      "ATOM    631  C4    U A  56     -12.781  62.035  94.634  1.00  0.00           C  \n",
      "ATOM    632  O4    U A  56     -12.487  62.114  95.824  1.00  0.00           O  \n",
      "ATOM    633  C5    U A  56     -13.375  60.898  93.989  1.00  0.00           C  \n",
      "ATOM    634  C6    U A  56     -13.645  60.948  92.682  1.00  0.00           C  \n",
      "ATOM    635  P     A A  57     -10.171  58.860  87.502  1.00  0.00           P  \n",
      "ATOM    636  OP1   A A  57      -9.573  58.329  86.254  1.00  0.00           O  \n",
      "ATOM    637  OP2   A A  57     -10.386  57.972  88.667  1.00  0.00           O  \n",
      "ATOM    638  O5'   A A  57      -9.244  60.031  88.075  1.00  0.00           O  \n",
      "ATOM    639  C5'   A A  57      -8.975  61.138  87.233  1.00  0.00           C  \n",
      "ATOM    640  C4'   A A  57      -8.114  62.168  87.912  1.00  0.00           C  \n",
      "ATOM    641  O4'   A A  57      -8.838  62.783  89.006  1.00  0.00           O  \n",
      "ATOM    642  C3'   A A  57      -6.851  61.643  88.570  1.00  0.00           C  \n",
      "ATOM    643  O3'   A A  57      -5.817  61.386  87.638  1.00  0.00           O  \n",
      "ATOM    644  C2'   A A  57      -6.521  62.738  89.576  1.00  0.00           C  \n",
      "ATOM    645  O2'   A A  57      -5.882  63.838  88.943  1.00  0.00           O  \n",
      "ATOM    646  C1'   A A  57      -7.919  63.187  89.999  1.00  0.00           C  \n",
      "ATOM    647  N9    A A  57      -8.338  62.776  91.341  1.00  0.00           N  \n",
      "ATOM    648  C8    A A  57      -9.010  61.644  91.725  1.00  0.00           C  \n",
      "ATOM    649  N7    A A  57      -9.187  61.548  93.021  1.00  0.00           N  \n",
      "ATOM    650  C5    A A  57      -8.590  62.694  93.523  1.00  0.00           C  \n",
      "ATOM    651  C6    A A  57      -8.438  63.185  94.832  1.00  0.00           C  \n",
      "ATOM    652  N6    A A  57      -8.896  62.555  95.916  1.00  0.00           N  \n",
      "ATOM    653  N1    A A  57      -7.791  64.360  94.989  1.00  0.00           N  \n",
      "ATOM    654  C2    A A  57      -7.332  64.990  93.901  1.00  0.00           C  \n",
      "ATOM    655  N3    A A  57      -7.415  64.630  92.623  1.00  0.00           N  \n",
      "ATOM    656  C4    A A  57      -8.062  63.459  92.501  1.00  0.00           C  \n",
      "ATOM    657  P     U A  58      -5.076  60.081  87.802  1.00  0.00           P  \n",
      "ATOM    658  OP1   U A  58      -4.919  60.599  86.427  1.00  0.00           O  \n",
      "ATOM    659  OP2   U A  58      -4.256  58.935  88.262  1.00  0.00           O  \n",
      "ATOM    660  O5'   U A  58      -4.776  61.280  88.793  1.00  0.00           O  \n",
      "ATOM    661  C5'   U A  58      -4.229  62.490  88.309  1.00  0.00           C  \n",
      "ATOM    662  C4'   U A  58      -3.564  63.256  89.427  1.00  0.00           C  \n",
      "ATOM    663  O4'   U A  58      -4.522  63.522  90.483  1.00  0.00           O  \n",
      "ATOM    664  C3'   U A  58      -2.447  62.541  90.150  1.00  0.00           C  \n",
      "ATOM    665  O3'   U A  58      -1.250  62.629  89.393  1.00  0.00           O  \n",
      "ATOM    666  C2'   U A  58      -2.385  63.326  91.454  1.00  0.00           C  \n",
      "ATOM    667  O2'   U A  58      -1.843  64.614  91.271  1.00  0.00           O  \n",
      "ATOM    668  C1'   U A  58      -3.868  63.516  91.741  1.00  0.00           C  \n",
      "ATOM    669  N1    U A  58      -4.446  62.446  92.622  1.00  0.00           N  \n",
      "ATOM    670  C2    U A  58      -4.300  62.554  93.992  1.00  0.00           C  \n",
      "ATOM    671  O2    U A  58      -3.704  63.474  94.525  1.00  0.00           O  \n",
      "ATOM    672  N3    U A  58      -4.878  61.543  94.720  1.00  0.00           N  \n",
      "ATOM    673  C4    U A  58      -5.572  60.457  94.227  1.00  0.00           C  \n",
      "ATOM    674  O4    U A  58      -6.035  59.630  95.008  1.00  0.00           O  \n",
      "ATOM    675  C5    U A  58      -5.680  60.415  92.796  1.00  0.00           C  \n",
      "ATOM    676  C6    U A  58      -5.127  61.386  92.064  1.00  0.00           C  \n",
      "ATOM    677  P     U A  59      -0.154  61.468  89.510  1.00  0.00           P  \n",
      "ATOM    678  OP1   U A  59       0.376  61.873  88.188  1.00  0.00           O  \n",
      "ATOM    679  OP2   U A  59      -0.661  60.091  89.706  1.00  0.00           O  \n",
      "ATOM    680  O5'   U A  59       1.000  61.613  90.603  1.00  0.00           O  \n",
      "ATOM    681  C5'   U A  59       1.366  62.914  91.034  1.00  0.00           C  \n",
      "ATOM    682  C4'   U A  59       1.596  62.978  92.524  1.00  0.00           C  \n",
      "ATOM    683  O4'   U A  59       0.341  62.841  93.242  1.00  0.00           O  \n",
      "ATOM    684  C3'   U A  59       2.471  61.884  93.116  1.00  0.00           C  \n",
      "ATOM    685  O3'   U A  59       3.852  62.116  92.921  1.00  0.00           O  \n",
      "ATOM    686  C2'   U A  59       2.074  61.908  94.582  1.00  0.00           C  \n",
      "ATOM    687  O2'   U A  59       2.724  62.983  95.243  1.00  0.00           O  \n",
      "ATOM    688  C1'   U A  59       0.581  62.228  94.492  1.00  0.00           C  \n",
      "ATOM    689  N1    U A  59      -0.265  61.109  94.638  1.00  0.00           N  \n",
      "ATOM    690  C2    U A  59      -0.567  60.647  95.905  1.00  0.00           C  \n",
      "ATOM    691  O2    U A  59      -0.153  61.178  96.921  1.00  0.00           O  \n",
      "ATOM    692  N3    U A  59      -1.373  59.535  95.942  1.00  0.00           N  \n",
      "ATOM    693  C4    U A  59      -1.897  58.854  94.863  1.00  0.00           C  \n",
      "ATOM    694  O4    U A  59      -2.607  57.870  95.056  1.00  0.00           O  \n",
      "ATOM    695  C5    U A  59      -1.538  59.394  93.582  1.00  0.00           C  \n",
      "ATOM    696  C6    U A  59      -0.755  60.474  93.517  1.00  0.00           C  \n",
      "ATOM    697  P     C A  60       4.871  60.903  92.781  1.00  0.00           P  \n",
      "ATOM    698  OP1   C A  60       6.135  61.514  92.309  1.00  0.00           O  \n",
      "ATOM    699  OP2   C A  60       4.135  60.035  91.888  1.00  0.00           O  \n",
      "ATOM    700  O5'   C A  60       5.139  60.198  94.147  1.00  0.00           O  \n",
      "ATOM    701  C5'   C A  60       6.012  60.978  94.919  1.00  0.00           C  \n",
      "ATOM    702  C4'   C A  60       5.774  60.706  96.363  1.00  0.00           C  \n",
      "ATOM    703  O4'   C A  60       4.385  60.841  96.672  1.00  0.00           O  \n",
      "ATOM    704  C3'   C A  60       6.072  59.281  96.628  1.00  0.00           C  \n",
      "ATOM    705  O3'   C A  60       7.441  59.157  96.610  1.00  0.00           O  \n",
      "ATOM    706  C2'   C A  60       5.372  59.159  97.968  1.00  0.00           C  \n",
      "ATOM    707  O2'   C A  60       6.072  59.683  99.073  1.00  0.00           O  \n",
      "ATOM    708  C1'   C A  60       4.115  59.975  97.749  1.00  0.00           C  \n",
      "ATOM    709  N1    C A  60       3.074  58.915  97.317  1.00  0.00           N  \n",
      "ATOM    710  C2    C A  60       2.413  58.097  98.240  1.00  0.00           C  \n",
      "ATOM    711  O2    C A  60       2.800  58.094  99.421  1.00  0.00           O  \n",
      "ATOM    712  N3    C A  60       1.375  57.335  97.821  1.00  0.00           N  \n",
      "ATOM    713  C4    C A  60       0.994  57.370  96.543  1.00  0.00           C  \n",
      "ATOM    714  N4    C A  60      -0.034  56.601  96.177  1.00  0.00           N  \n",
      "ATOM    715  C5    C A  60       1.651  58.192  95.592  1.00  0.00           C  \n",
      "ATOM    716  C6    C A  60       2.676  58.943  96.010  1.00  0.00           C  \n",
      "ATOM    717  P     U A  61       8.142  58.065  96.081  1.00  0.00           P  \n",
      "ATOM    718  OP1   U A  61       9.613  58.309  96.131  1.00  0.00           O  \n",
      "ATOM    719  OP2   U A  61       7.489  57.713  94.804  1.00  0.00           O  \n",
      "ATOM    720  O5'   U A  61       7.721  56.928  97.116  1.00  0.00           O  \n",
      "ATOM    721  C5'   U A  61       8.148  57.013  98.466  1.00  0.00           C  \n",
      "ATOM    722  C4'   U A  61       7.420  56.021  99.342  1.00  0.00           C  \n",
      "ATOM    723  O4'   U A  61       5.999  56.332  99.370  1.00  0.00           O  \n",
      "ATOM    724  C3'   U A  61       7.475  54.562  98.915  1.00  0.00           C  \n",
      "ATOM    725  O3'   U A  61       8.687  53.929  99.338  1.00  0.00           O  \n",
      "ATOM    726  C2'   U A  61       6.250  53.982  99.614  1.00  0.00           C  \n",
      "ATOM    727  O2'   U A  61       6.464  53.671 100.972  1.00  0.00           O  \n",
      "ATOM    728  C1'   U A  61       5.258  55.141  99.538  1.00  0.00           C  \n",
      "ATOM    729  N1    U A  61       4.315  54.911  98.434  1.00  0.00           N  \n",
      "ATOM    730  C2    U A  61       3.247  54.057  98.638  1.00  0.00           C  \n",
      "ATOM    731  O2    U A  61       3.018  53.525  99.709  1.00  0.00           O  \n",
      "ATOM    732  N3    U A  61       2.453  53.847  97.536  1.00  0.00           N  \n",
      "ATOM    733  C4    U A  61       2.616  54.392  96.280  1.00  0.00           C  \n",
      "ATOM    734  O4    U A  61       1.818  54.109  95.390  1.00  0.00           O  \n",
      "ATOM    735  C5    U A  61       3.747  55.267  96.148  1.00  0.00           C  \n",
      "ATOM    736  C6    U A  61       4.536  55.489  97.203  1.00  0.00           C  \n",
      "ATOM    737  P     G A  62       9.267  52.545  98.526  1.00  0.00           P  \n",
      "ATOM    738  OP1   G A  62      10.685  52.378  98.914  1.00  0.00           O  \n",
      "ATOM    739  OP2   G A  62       8.893  52.653  97.097  1.00  0.00           O  \n",
      "ATOM    740  O5'   G A  62       8.373  51.333  99.081  1.00  0.00           O  \n",
      "ATOM    741  C5'   G A  62       8.625  50.796 100.372  1.00  0.00           C  \n",
      "ATOM    742  C4'   G A  62       7.593  49.777 100.793  1.00  0.00           C  \n",
      "ATOM    743  O4'   G A  62       6.263  50.343 100.646  1.00  0.00           O  \n",
      "ATOM    744  C3'   G A  62       7.540  48.476  99.997  1.00  0.00           C  \n",
      "ATOM    745  O3'   G A  62       8.520  47.520 100.375  1.00  0.00           O  \n",
      "ATOM    746  C2'   G A  62       6.117  48.003 100.266  1.00  0.00           C  \n",
      "ATOM    747  O2'   G A  62       6.028  47.398 101.550  1.00  0.00           O  \n",
      "ATOM    748  C1'   G A  62       5.351  49.327 100.290  1.00  0.00           C  \n",
      "ATOM    749  N9    G A  62       4.736  49.667  99.063  1.00  0.00           N  \n",
      "ATOM    750  C8    G A  62       5.264  50.479  98.089  1.00  0.00           C  \n",
      "ATOM    751  N7    G A  62       4.521  50.550  97.018  1.00  0.00           N  \n",
      "ATOM    752  C5    G A  62       3.436  49.741  97.299  1.00  0.00           C  \n",
      "ATOM    753  C6    G A  62       2.296  49.421  96.517  1.00  0.00           C  \n",
      "ATOM    754  O6    G A  62       2.015  49.811  95.377  1.00  0.00           O  \n",
      "ATOM    755  N1    G A  62       1.434  48.556  97.185  1.00  0.00           N  \n",
      "ATOM    756  C2    G A  62       1.644  48.060  98.449  1.00  0.00           C  \n",
      "ATOM    757  N2    G A  62       0.698  47.239  98.926  1.00  0.00           N  \n",
      "ATOM    758  N3    G A  62       2.698  48.347  99.187  1.00  0.00           N  \n",
      "ATOM    759  C4    G A  62       3.550  49.185  98.559  1.00  0.00           C  \n",
      "ATOM    760  P     U A  65       6.388  37.969  92.644  1.00  0.00           P  \n",
      "ATOM    761  OP1   U A  65       5.812  36.719  93.228  1.00  0.00           O  \n",
      "ATOM    762  OP2   U A  65       7.837  38.251  92.781  1.00  0.00           O  \n",
      "ATOM    763  O5'   U A  65       5.994  38.027  91.100  1.00  0.00           O  \n",
      "ATOM    764  C5'   U A  65       4.612  38.137  90.698  1.00  0.00           C  \n",
      "ATOM    765  C4'   U A  65       4.511  38.852  89.377  1.00  0.00           C  \n",
      "ATOM    766  O4'   U A  65       5.140  38.056  88.356  1.00  0.00           O  \n",
      "ATOM    767  C3'   U A  65       3.101  39.040  88.843  1.00  0.00           C  \n",
      "ATOM    768  O3'   U A  65       2.592  40.240  89.427  1.00  0.00           O  \n",
      "ATOM    769  C2'   U A  65       3.328  39.226  87.339  1.00  0.00           C  \n",
      "ATOM    770  O2'   U A  65       3.525  40.579  86.982  1.00  0.00           O  \n",
      "ATOM    771  C1'   U A  65       4.634  38.453  87.106  1.00  0.00           C  \n",
      "ATOM    772  N1    U A  65       5.011  39.046  86.054  1.00  0.00           N  \n",
      "ATOM    773  C2    U A  65       5.155  39.749  84.873  1.00  0.00           C  \n",
      "ATOM    774  O2    U A  65       5.325  40.955  84.834  1.00  0.00           O  \n",
      "ATOM    775  N3    U A  65       5.090  38.987  83.732  1.00  0.00           N  \n",
      "ATOM    776  C4    U A  65       4.901  37.623  83.655  1.00  0.00           C  \n",
      "ATOM    777  O4    U A  65       4.867  37.078  82.554  1.00  0.00           O  \n",
      "ATOM    778  C5    U A  65       4.759  36.965  84.923  1.00  0.00           C  \n",
      "ATOM    779  C6    U A  65       4.818  37.682  86.048  1.00  0.00           C  \n",
      "ATOM    780  P     A A  66       1.256  40.505  89.924  1.00  0.00           P  \n",
      "ATOM    781  OP1   A A  66       0.638  40.984  88.660  1.00  0.00           O  \n",
      "ATOM    782  OP2   A A  66       1.030  41.259  91.183  1.00  0.00           O  \n",
      "ATOM    783  O5'   A A  66       0.804  38.994  90.147  1.00  0.00           O  \n",
      "ATOM    784  C5'   A A  66       0.693  38.436  91.469  1.00  0.00           C  \n",
      "ATOM    785  C4'   A A  66      -0.074  37.139  91.411  1.00  0.00           C  \n",
      "ATOM    786  O4'   A A  66      -1.403  37.412  90.891  1.00  0.00           O  \n",
      "ATOM    787  C3'   A A  66       0.507  36.114  90.450  1.00  0.00           C  \n",
      "ATOM    788  O3'   A A  66       1.532  35.338  91.067  1.00  0.00           O  \n",
      "ATOM    789  C2'   A A  66      -0.717  35.292  90.071  1.00  0.00           C  \n",
      "ATOM    790  O2'   A A  66      -1.080  34.353  91.063  1.00  0.00           O  \n",
      "ATOM    791  C1'   A A  66      -1.790  36.380  89.997  1.00  0.00           C  \n",
      "ATOM    792  N9    A A  66      -1.776  37.240  88.566  1.00  0.00           N  \n",
      "ATOM    793  C8    A A  66      -1.077  38.343  88.151  1.00  0.00           C  \n",
      "ATOM    794  N7    A A  66      -1.165  38.571  86.861  1.00  0.00           N  \n",
      "ATOM    795  C5    A A  66      -1.976  37.547  86.398  1.00  0.00           C  \n",
      "ATOM    796  C6    A A  66      -2.451  37.223  85.115  1.00  0.00           C  \n",
      "ATOM    797  N6    A A  66      -2.165  37.931  84.020  1.00  0.00           N  \n",
      "ATOM    798  N1    A A  66      -3.240  36.134  84.996  1.00  0.00           N  \n",
      "ATOM    799  C2    A A  66      -3.527  35.425  86.094  1.00  0.00           C  \n",
      "ATOM    800  N3    A A  66      -3.141  35.630  87.351  1.00  0.00           N  \n",
      "ATOM    801  C4    A A  66      -2.359  36.718  87.436  1.00  0.00           C  \n",
      "ATOM    802  P     U A  67       3.033  34.953  90.148  1.00  0.00           P  \n",
      "ATOM    803  OP1   U A  67       4.064  34.253  90.956  1.00  0.00           O  \n",
      "ATOM    804  OP2   U A  67       3.436  36.065  89.256  1.00  0.00           O  \n",
      "ATOM    805  O5'   U A  67       2.274  33.883  89.243  1.00  0.00           O  \n",
      "ATOM    806  C5'   U A  67       1.795  32.646  89.800  1.00  0.00           C  \n",
      "ATOM    807  C4'   U A  67       1.222  31.772  88.711  1.00  0.00           C  \n",
      "ATOM    808  O4'   U A  67       0.069  32.424  88.122  1.00  0.00           O  \n",
      "ATOM    809  C3'   U A  67       2.140  31.494  87.532  1.00  0.00           C  \n",
      "ATOM    810  O3'   U A  67       3.019  30.414  87.836  1.00  0.00           O  \n",
      "ATOM    811  C2'   U A  67       1.147  31.139  86.434  1.00  0.00           C  \n",
      "ATOM    812  O2'   U A  67       0.666  29.821  86.558  1.00  0.00           O  \n",
      "ATOM    813  C1'   U A  67      -0.011  32.089  86.750  1.00  0.00           C  \n",
      "ATOM    814  N1    U A  67       0.004  33.366  85.959  1.00  0.00           N  \n",
      "ATOM    815  C2    U A  67      -0.601  33.326  84.718  1.00  0.00           C  \n",
      "ATOM    816  O2    U A  67      -1.136  32.327  84.271  1.00  0.00           O  \n",
      "ATOM    817  N3    U A  67      -0.557  34.504  84.011  1.00  0.00           N  \n",
      "ATOM    818  C4    U A  67       0.019  35.691  84.414  1.00  0.00           C  \n",
      "ATOM    819  O4    U A  67      -0.022  36.667  83.668  1.00  0.00           O  \n",
      "ATOM    820  C5    U A  67       0.627  35.652  85.714  1.00  0.00           C  \n",
      "ATOM    821  C6    U A  67       0.599  34.520  86.422  1.00  0.00           C  \n",
      "ATOM    822  P     G A  68       4.580  30.352  87.239  1.00  0.00           P  \n",
      "ATOM    823  OP1   G A  68       5.579  29.652  88.079  1.00  0.00           O  \n",
      "ATOM    824  OP2   G A  68       4.794  31.769  86.861  1.00  0.00           O  \n",
      "ATOM    825  O5'   G A  68       4.361  29.501  85.897  1.00  0.00           O  \n",
      "ATOM    826  C5'   G A  68       4.718  30.036  84.629  1.00  0.00           C  \n",
      "ATOM    827  C4'   G A  68       3.910  29.412  83.504  1.00  0.00           C  \n",
      "ATOM    828  O4'   G A  68       2.544  29.896  83.528  1.00  0.00           O  \n",
      "ATOM    829  C3'   G A  68       4.498  29.800  82.180  1.00  0.00           C  \n",
      "ATOM    830  O3'   G A  68       5.222  28.739  81.583  1.00  0.00           O  \n",
      "ATOM    831  C2'   G A  68       3.380  30.254  81.335  1.00  0.00           C  \n",
      "ATOM    832  O2'   G A  68       2.986  29.249  80.398  1.00  0.00           O  \n",
      "ATOM    833  C1'   G A  68       2.264  30.586  82.278  1.00  0.00           C  \n",
      "ATOM    834  N9    G A  68       2.256  32.054  82.472  1.00  0.00           N  \n",
      "ATOM    835  C8    G A  68       2.543  32.768  83.611  1.00  0.00           C  \n",
      "ATOM    836  N7    G A  68       2.483  34.060  83.437  1.00  0.00           N  \n",
      "ATOM    837  C5    G A  68       2.134  34.212  82.108  1.00  0.00           C  \n",
      "ATOM    838  C6    G A  68       1.921  35.384  81.338  1.00  0.00           C  \n",
      "ATOM    839  O6    G A  68       2.004  36.564  81.700  1.00  0.00           O  \n",
      "ATOM    840  N1    G A  68       1.582  35.087  80.021  1.00  0.00           N  \n",
      "ATOM    841  C2    G A  68       1.461  33.817  79.509  1.00  0.00           C  \n",
      "ATOM    842  N2    G A  68       1.124  33.731  78.215  1.00  0.00           N  \n",
      "ATOM    843  N3    G A  68       1.656  32.719  80.212  1.00  0.00           N  \n",
      "ATOM    844  C4    G A  68       1.988  32.983  81.494  1.00  0.00           C  \n",
      "ATOM    845  P     U A  69       7.045  28.650  81.399  1.00  0.00           P  \n",
      "ATOM    846  OP1   U A  69       6.383  27.337  81.577  1.00  0.00           O  \n",
      "ATOM    847  OP2   U A  69       8.512  28.763  81.568  1.00  0.00           O  \n",
      "ATOM    848  O5'   U A  69       6.672  29.240  79.959  1.00  0.00           O  \n",
      "ATOM    849  C5'   U A  69       7.278  30.450  79.528  1.00  0.00           C  \n",
      "ATOM    850  C4'   U A  69       6.602  30.991  78.284  1.00  0.00           C  \n",
      "ATOM    851  O4'   U A  69       5.266  31.451  78.619  1.00  0.00           O  \n",
      "ATOM    852  C3'   U A  69       7.308  32.191  77.667  1.00  0.00           C  \n",
      "ATOM    853  O3'   U A  69       8.251  31.759  76.692  1.00  0.00           O  \n",
      "ATOM    854  C2'   U A  69       6.144  32.927  77.015  1.00  0.00           C  \n",
      "ATOM    855  O2'   U A  69       5.791  32.340  75.779  1.00  0.00           O  \n",
      "ATOM    856  C1'   U A  69       5.030  32.719  78.040  1.00  0.00           C  \n",
      "ATOM    857  N1    U A  69       5.048  33.720  79.087  1.00  0.00           N  \n",
      "ATOM    858  C2    U A  69       4.961  35.030  78.656  1.00  0.00           C  \n",
      "ATOM    859  O2    U A  69       4.830  35.337  77.484  1.00  0.00           O  \n",
      "ATOM    860  N3    U A  69       5.034  35.975  79.650  1.00  0.00           N  \n",
      "ATOM    861  C4    U A  69       5.182  35.747  81.002  1.00  0.00           C  \n",
      "ATOM    862  O4    U A  69       5.232  36.700  81.775  1.00  0.00           O  \n",
      "ATOM    863  C5    U A  69       5.266  34.361  81.370  1.00  0.00           C  \n",
      "ATOM    864  C6    U A  69       5.197  33.422  80.423  1.00  0.00           C  \n",
      "ATOM    865  P     A A  70      10.061  32.097  76.775  1.00  0.00           P  \n",
      "ATOM    866  OP1   A A  70      11.023  31.042  76.387  1.00  0.00           O  \n",
      "ATOM    867  OP2   A A  70       9.934  32.500  78.193  1.00  0.00           O  \n",
      "ATOM    868  O5'   A A  70      10.369  33.396  75.896  1.00  0.00           O  \n",
      "ATOM    869  C5'   A A  70      10.022  33.411  74.516  1.00  0.00           C  \n",
      "ATOM    870  C4'   A A  70      10.097  34.828  73.990  1.00  0.00           C  \n",
      "ATOM    871  O4'   A A  70       9.156  35.652  74.718  1.00  0.00           O  \n",
      "ATOM    872  C3'   A A  70      11.467  35.459  74.176  1.00  0.00           C  \n",
      "ATOM    873  O3'   A A  70      12.193  35.369  72.951  1.00  0.00           O  \n",
      "ATOM    874  C2'   A A  70      11.173  36.909  74.557  1.00  0.00           C  \n",
      "ATOM    875  O2'   A A  70      11.270  37.776  73.443  1.00  0.00           O  \n",
      "ATOM    876  C1'   A A  70       9.743  36.880  75.096  1.00  0.00           C  \n",
      "ATOM    877  N9    A A  70       9.519  36.841  76.518  1.00  0.00           N  \n",
      "ATOM    878  C8    A A  70       9.687  35.759  77.342  1.00  0.00           C  \n",
      "ATOM    879  N7    A A  70       9.768  36.070  78.614  1.00  0.00           N  \n",
      "ATOM    880  C5    A A  70       9.646  37.451  78.626  1.00  0.00           C  \n",
      "ATOM    881  C6    A A  70       9.651  38.392  79.671  1.00  0.00           C  \n",
      "ATOM    882  N6    A A  70       9.789  38.066  80.958  1.00  0.00           N  \n",
      "ATOM    883  N1    A A  70       9.508  39.693  79.343  1.00  0.00           N  \n",
      "ATOM    884  C2    A A  70       9.369  40.018  78.052  1.00  0.00           C  \n",
      "ATOM    885  N3    A A  70       9.348  39.226  76.983  1.00  0.00           N  \n",
      "ATOM    886  C4    A A  70       9.493  37.940  77.343  1.00  0.00           C  \n",
      "ATOM    887  P     U A  71      13.931  35.045  72.876  1.00  0.00           P  \n",
      "ATOM    888  OP1   U A  71      14.667  35.057  71.587  1.00  0.00           O  \n",
      "ATOM    889  OP2   U A  71      14.186  33.959  73.862  1.00  0.00           O  \n",
      "ATOM    890  O5'   U A  71      14.120  36.446  73.622  1.00  0.00           O  \n",
      "ATOM    891  C5'   U A  71      14.147  37.666  72.882  1.00  0.00           C  \n",
      "ATOM    892  C4'   U A  71      14.405  38.853  73.786  1.00  0.00           C  \n",
      "ATOM    893  O4'   U A  71      13.308  39.003  74.718  1.00  0.00           O  \n",
      "ATOM    894  C3'   U A  71      15.659  38.864  74.648  1.00  0.00           C  \n",
      "ATOM    895  O3'   U A  71      16.791  39.365  73.940  1.00  0.00           O  \n",
      "ATOM    896  C2'   U A  71      15.284  39.844  75.749  1.00  0.00           C  \n",
      "ATOM    897  O2'   U A  71      15.481  41.171  75.312  1.00  0.00           O  \n",
      "ATOM    898  C1'   U A  71      13.783  39.586  75.915  1.00  0.00           C  \n",
      "ATOM    899  N1    U A  71      13.367  38.765  77.054  1.00  0.00           N  \n",
      "ATOM    900  C2    U A  71      13.321  39.393  78.283  1.00  0.00           C  \n",
      "ATOM    901  O2    U A  71      13.505  40.589  78.425  1.00  0.00           O  \n",
      "ATOM    902  N3    U A  71      13.051  38.568  79.348  1.00  0.00           N  \n",
      "ATOM    903  C4    U A  71      12.828  37.207  79.307  1.00  0.00           C  \n",
      "ATOM    904  O4    U A  71      12.596  36.601  80.351  1.00  0.00           O  \n",
      "ATOM    905  C5    U A  71      12.894  36.628  77.995  1.00  0.00           C  \n",
      "ATOM    906  C6    U A  71      13.154  37.408  76.942  1.00  0.00           C  \n",
      "ATOM    907  P     A A  72      18.216  38.697  75.833  1.00  0.00           P  \n",
      "ATOM    908  OP1   A A  72      16.997  38.874  74.999  1.00  0.00           O  \n",
      "ATOM    909  OP2   A A  72      19.492  38.276  75.192  1.00  0.00           O  \n",
      "ATOM    910  O5'   A A  72      18.502  40.038  76.646  1.00  0.00           O  \n",
      "ATOM    911  C5'   A A  72      18.638  41.272  75.958  1.00  0.00           C  \n",
      "ATOM    912  C4'   A A  72      18.473  42.437  76.904  1.00  0.00           C  \n",
      "ATOM    913  O4'   A A  72      19.712  42.651  77.639  1.00  0.00           O  \n",
      "ATOM    914  C3'   A A  72      18.246  43.744  76.163  1.00  0.00           C  \n",
      "ATOM    915  O3'   A A  72      16.874  43.917  75.840  1.00  0.00           O  \n",
      "ATOM    916  C2'   A A  72      18.809  44.785  77.119  1.00  0.00           C  \n",
      "ATOM    917  O2'   A A  72      17.919  45.138  78.163  1.00  0.00           O  \n",
      "ATOM    918  C1'   A A  72      20.016  44.038  77.689  1.00  0.00           C  \n",
      "ATOM    919  N9    A A  72      16.965  40.968  79.527  1.00  0.00           N  \n",
      "ATOM    920  C8    A A  72      16.933  39.716  78.971  1.00  0.00           C  \n",
      "ATOM    921  N7    A A  72      16.550  38.777  79.804  1.00  0.00           N  \n",
      "ATOM    922  C5    A A  72      16.316  39.459  80.988  1.00  0.00           C  \n",
      "ATOM    923  C6    A A  72      15.886  39.032  82.257  1.00  0.00           C  \n",
      "ATOM    924  N6    A A  72      15.604  37.761  82.552  1.00  0.00           N  \n",
      "ATOM    925  N1    A A  72      15.755  39.967  83.221  1.00  0.00           N  \n",
      "ATOM    926  C2    A A  72      16.036  41.241  82.923  1.00  0.00           C  \n",
      "ATOM    927  N3    A A  72      16.447  41.764  81.770  1.00  0.00           N  \n",
      "ATOM    928  C4    A A  72      16.568  40.809  80.833  1.00  0.00           C  \n",
      "TER     929        A A  72                                                       \n",
      "END\n"
     ]
    }
   ],
   "source": [
    "%%bash\n",
    "less example/a04_9c6339e0-591c-498d-9745-1a828f9ee81d_ALL-000001_AA.pdb"
   ]
  },
  {
   "cell_type": "code",
   "execution_count": 9,
   "metadata": {
    "collapsed": false
   },
   "outputs": [
    {
     "name": "stdout",
     "output_type": "stream",
     "text": [
      "\n",
      "\n",
      "  RMDS   : 7.161515498281355\n",
      "  DI_ALL : 8.45634000612583\n",
      "  INF_ALL: 0.846881214934\n"
     ]
    }
   ],
   "source": [
    "# calculate InteractionNetworkFidelity and Deformation Index for RNA structures\n",
    "# need to have MA-annotate in the directory or set in mcannotate.py\n",
    "rmsd, DI_ALL, INF_ALL, INF_WC, INF_NWC,INF_STACK = interaction_network_fidelity(\"example/a04_9c6339e0-591c-498d-9745-1a828f9ee81d_ALL-000001_AA.pdb\",\n",
    "          None,\n",
    "          \"example/a04_9c6339e0-591c-498d-9745-1a828f9ee81d_ALL-000084_AA.pdb\",\n",
    "          None)\n",
    "\n",
    "print \"  RMDS   :\", rmsd\n",
    "print \"  DI_ALL :\", DI_ALL\n",
    "print \"  INF_ALL:\", INF_ALL"
   ]
  },
  {
   "cell_type": "code",
   "execution_count": 1,
   "metadata": {
    "collapsed": false
   },
   "outputs": [
    {
     "name": "stdout",
     "output_type": "stream",
     "text": [
      "/Users/magnus\n"
     ]
    }
   ],
   "source": [
    "cd ../../"
   ]
  },
  {
   "cell_type": "markdown",
   "metadata": {
    "collapsed": true
   },
   "source": [
    "# Deformation Profile"
   ]
  },
  {
   "cell_type": "markdown",
   "metadata": {},
   "source": [
    "Read [DeformationProfile Manual.pdf](https://github.com/RNA-Puzzles/DeformationProfile/blob/master/manual_1_0_1.pdf) for more details. "
   ]
  },
  {
   "cell_type": "code",
   "execution_count": 1,
   "metadata": {
    "collapsed": false
   },
   "outputs": [
    {
     "name": "stdout",
     "output_type": "stream",
     "text": [
      "/Users/magnus/work-src/rna-tools/rna_tools/opt\n"
     ]
    }
   ],
   "source": [
    "cd rna_tools/opt/"
   ]
  },
  {
   "cell_type": "code",
   "execution_count": 91,
   "metadata": {
    "collapsed": false
   },
   "outputs": [
    {
     "name": "stderr",
     "output_type": "stream",
     "text": [
      "Cloning into 'DeformationProfile'...\n"
     ]
    }
   ],
   "source": [
    "%%bash\n",
    "git clone https://github.com/RNA-Puzzles/DeformationProfile.git"
   ]
  },
  {
   "cell_type": "markdown",
   "metadata": {},
   "source": [
    "## Comparing two similar models"
   ]
  },
  {
   "cell_type": "code",
   "execution_count": 3,
   "metadata": {
    "collapsed": false
   },
   "outputs": [
    {
     "name": "stdout",
     "output_type": "stream",
     "text": [
      "/Users/magnus/work-src/rna-tools/rna_tools/opt/DeformationProfile\n"
     ]
    }
   ],
   "source": [
    "cd DeformationProfile"
   ]
  },
  {
   "cell_type": "code",
   "execution_count": 4,
   "metadata": {
    "collapsed": false
   },
   "outputs": [
    {
     "name": "stdout",
     "output_type": "stream",
     "text": [
      "- - - - - - - - - - - - - - - - - - - - - - - - - - - - - - \n",
      "reference:    a.pdb\n",
      "comparing:    b.pdb\n",
      "\n",
      "ref id:       201 202 203 204 205 206 207 208 209 210 211 212 213 214 215 216 217 218 219 220 \n",
      "cmp id:       201 202 203 204 205 206 207 208 209 210 211 212 213 214 215 216 217 218 219 220 \n",
      "\n",
      "ref chain:      B   B   B   B   B   B   B   B   B   B   B   B   B   B   B   B   B   B   B   B \n",
      "cmp chain:      B   B   B   B   B   B   B   B   B   B   B   B   B   B   B   B   B   B   B   B \n",
      "ref residues:   G   G   A   C   U   A   G   C   G   G   A   G   G   C   U   A   G   U   C   C \n",
      "cmp residues:   G   G   A   C   U   A   G   C   G   G   A   G   G   C   U   A   G   U   C   C \n",
      "align. index:   0   1   2   3   4   5   6   7   8   9  10  11  12  13  14  15  16  17  18  19 \n",
      "- - - - - - - - - - - - - - - - - - - - - - - - - - - - - - \n"
     ]
    },
    {
     "name": "stderr",
     "output_type": "stream",
     "text": [
      "opening reference file: 'examples/ex1/a.pdb'\n",
      "opening comparing file: 'examples/ex1/b.pdb'\n",
      "comparing models...\n",
      "\b\b\b\b\b\b\b\b\b\b\b\b\b\b\b\b\b\b\b\b\b\b\b\b\b\b\b\b\b\b\b\b\b\b\b\b\b\b\b\bstep: 0 of 19\b\b\b\b\b\b\b\b\b\b\b\b\b\b\b\b\b\b\b\b\b\b\b\b\b\b\b\b\b\b\b\b\b\b\b\b\b\b\b\bstep: 1 of 19\b\b\b\b\b\b\b\b\b\b\b\b\b\b\b\b\b\b\b\b\b\b\b\b\b\b\b\b\b\b\b\b\b\b\b\b\b\b\b\bstep: 2 of 19\b\b\b\b\b\b\b\b\b\b\b\b\b\b\b\b\b\b\b\b\b\b\b\b\b\b\b\b\b\b\b\b\b\b\b\b\b\b\b\bstep: 3 of 19\b\b\b\b\b\b\b\b\b\b\b\b\b\b\b\b\b\b\b\b\b\b\b\b\b\b\b\b\b\b\b\b\b\b\b\b\b\b\b\bstep: 4 of 19\b\b\b\b\b\b\b\b\b\b\b\b\b\b\b\b\b\b\b\b\b\b\b\b\b\b\b\b\b\b\b\b\b\b\b\b\b\b\b\bstep: 5 of 19\b\b\b\b\b\b\b\b\b\b\b\b\b\b\b\b\b\b\b\b\b\b\b\b\b\b\b\b\b\b\b\b\b\b\b\b\b\b\b\bstep: 6 of 19\b\b\b\b\b\b\b\b\b\b\b\b\b\b\b\b\b\b\b\b\b\b\b\b\b\b\b\b\b\b\b\b\b\b\b\b\b\b\b\bstep: 7 of 19\b\b\b\b\b\b\b\b\b\b\b\b\b\b\b\b\b\b\b\b\b\b\b\b\b\b\b\b\b\b\b\b\b\b\b\b\b\b\b\bstep: 8 of 19\b\b\b\b\b\b\b\b\b\b\b\b\b\b\b\b\b\b\b\b\b\b\b\b\b\b\b\b\b\b\b\b\b\b\b\b\b\b\b\bstep: 9 of 19\b\b\b\b\b\b\b\b\b\b\b\b\b\b\b\b\b\b\b\b\b\b\b\b\b\b\b\b\b\b\b\b\b\b\b\b\b\b\b\bstep: 10 of 19\b\b\b\b\b\b\b\b\b\b\b\b\b\b\b\b\b\b\b\b\b\b\b\b\b\b\b\b\b\b\b\b\b\b\b\b\b\b\b\bstep: 11 of 19\b\b\b\b\b\b\b\b\b\b\b\b\b\b\b\b\b\b\b\b\b\b\b\b\b\b\b\b\b\b\b\b\b\b\b\b\b\b\b\bstep: 12 of 19\b\b\b\b\b\b\b\b\b\b\b\b\b\b\b\b\b\b\b\b\b\b\b\b\b\b\b\b\b\b\b\b\b\b\b\b\b\b\b\bstep: 13 of 19\b\b\b\b\b\b\b\b\b\b\b\b\b\b\b\b\b\b\b\b\b\b\b\b\b\b\b\b\b\b\b\b\b\b\b\b\b\b\b\bstep: 14 of 19\b\b\b\b\b\b\b\b\b\b\b\b\b\b\b\b\b\b\b\b\b\b\b\b\b\b\b\b\b\b\b\b\b\b\b\b\b\b\b\bstep: 15 of 19\b\b\b\b\b\b\b\b\b\b\b\b\b\b\b\b\b\b\b\b\b\b\b\b\b\b\b\b\b\b\b\b\b\b\b\b\b\b\b\bstep: 16 of 19\b\b\b\b\b\b\b\b\b\b\b\b\b\b\b\b\b\b\b\b\b\b\b\b\b\b\b\b\b\b\b\b\b\b\b\b\b\b\b\bstep: 17 of 19\b\b\b\b\b\b\b\b\b\b\b\b\b\b\b\b\b\b\b\b\b\b\b\b\b\b\b\b\b\b\b\b\b\b\b\b\b\b\b\bstep: 18 of 19\b\b\b\b\b\b\b\b\b\b\b\b\b\b\b\b\b\b\b\b\b\b\b\b\b\b\b\b\b\b\b\b\b\b\b\b\b\b\b\bstep: 19 of 19\b\b\b\b\b\b\b\b\b\b\b\b\b\b\b\b\b\b\b\b\b\b\b\b\b\b\b\b\b\b\b\b\b\b\b\b\b\b\b\bdone\n",
      "saving data file...\n",
      "saving svg file...\n"
     ]
    }
   ],
   "source": [
    "%%bash\n",
    "python dp.py examples/ex1/a.pdb examples/ex1/b.pdb"
   ]
  },
  {
   "cell_type": "markdown",
   "metadata": {},
   "source": [
    "![x](rna_tools/opt/DeformationProfile/examples/ex1/b.svg)"
   ]
  },
  {
   "cell_type": "code",
   "execution_count": 6,
   "metadata": {
    "collapsed": false
   },
   "outputs": [
    {
     "name": "stdout",
     "output_type": "stream",
     "text": [
      "#DP 1.0\n",
      "REF_PDB\texamples/ex1/a.pdb\n",
      "REF_MODEL\t0\n",
      "REF_MODEL_SEQUENCE\tGGACUAGCGGAGGCUAGUCC\n",
      "REF_MODEL_RESIDUES\t(B:201:'G  ')(B:202:'G  ')(B:203:'A  ')(B:204:'C  ')(B:205:'U  ')(B:206:'A  ')(B:207:'G  ')(B:208:'C  ')(B:209:'G  ')(B:210:'G  ')(B:211:'A  ')(B:212:'G  ')(B:213:'G  ')(B:214:'C  ')(B:215:'U  ')(B:216:'A  ')(B:217:'G  ')(B:218:'U  ')(B:219:'C  ')(B:220:'C  ')\n",
      "CMP_PDB\texamples/ex1/b.pdb\n",
      "CMP_MODEL\t0\n",
      "CMP_MODEL_SEQUENCE\tGGACUAGCGGAGGCUAGUCC\n",
      "CMP_MODEL_RESIDUES\t(B:201:'G  ')(B:202:'G  ')(B:203:'A  ')(B:204:'C  ')(B:205:'U  ')(B:206:'A  ')(B:207:'G  ')(B:208:'C  ')(B:209:'G  ')(B:210:'G  ')(B:211:'A  ')(B:212:'G  ')(B:213:'G  ')(B:214:'C  ')(B:215:'U  ')(B:216:'A  ')(B:217:'G  ')(B:218:'U  ')(B:219:'C  ')(B:220:'C  ')\n",
      "LOCAL_RMSD\t0.455\t0.170\t0.093\t0.386\t0.876\t0.140\t0.162\t0.361\t0.782\t1.005\t0.132\t0.488\t0.977\t0.388\t0.338\t0.484\t0.115\t0.164\t0.106\t0.072\n",
      "ROW_MEANS\t3.090\t2.476\t2.573\t2.873\t2.802\t1.524\t1.490\t1.833\t4.401\t3.858\t2.353\t2.725\t6.356\t2.263\t1.805\t2.301\t2.531\t2.065\t2.437\t3.917\n",
      "COL_MEANS\t3.518\t3.125\t2.749\t2.337\t1.941\t1.827\t1.979\t2.699\t3.295\t4.629\t4.076\t3.247\t3.234\t2.218\t1.947\t1.768\t1.826\t2.388\t3.021\t3.851\n",
      "ROW_0\t0.275\t0.775\t1.311\t1.894\t2.631\t2.695\t2.894\t4.142\t5.199\t6.791\t6.582\t5.425\t5.092\t3.335\t2.708\t2.299\t2.138\t2.176\t1.817\t1.619\n",
      "ROW_1\t0.598\t0.146\t0.228\t0.514\t0.817\t1.478\t2.389\t4.116\t5.210\t7.493\t6.986\t5.288\t5.262\t3.322\t2.458\t1.217\t0.537\t0.260\t0.297\t0.897\n",
      "ROW_2\t0.784\t0.280\t0.079\t0.410\t0.925\t1.524\t2.457\t4.141\t5.234\t7.380\t7.018\t5.348\t5.437\t3.579\t2.793\t1.595\t0.786\t0.505\t0.314\t0.882\n"
     ]
    }
   ],
   "source": [
    "%%bash\n",
    "head -n 15 examples/ex1/b.dat"
   ]
  },
  {
   "cell_type": "markdown",
   "metadata": {},
   "source": [
    "## Comparing many similar models in single run"
   ]
  },
  {
   "cell_type": "code",
   "execution_count": 14,
   "metadata": {
    "collapsed": false
   },
   "outputs": [
    {
     "name": "stdout",
     "output_type": "stream",
     "text": [
      "- - - - - - - - - - - - - - - - - - - - - - - - - - - - - - \n",
      "reference:    a.pdb\n",
      "comparing:    b1.pdb\n",
      "\n",
      "ref id:       201 202 203 204 205 206 207 208 209 210 211 212 213 214 215 216 217 218 219 220 \n",
      "cmp id:       201 202 203 204 205 206 207 208 209 210 211 212 213 214 215 216 217 218 219 220 \n",
      "\n",
      "ref chain:      B   B   B   B   B   B   B   B   B   B   B   B   B   B   B   B   B   B   B   B \n",
      "cmp chain:      B   B   B   B   B   B   B   B   B   B   B   B   B   B   B   B   B   B   B   B \n",
      "ref residues:   G   G   A   C   U   A   G   C   G   G   A   G   G   C   U   A   G   U   C   C \n",
      "cmp residues:   G   G   A   C   U   A   G   C   G   G   A   G   G   C   U   A   G   U   C   C \n",
      "align. index:   0   1   2   3   4   5   6   7   8   9  10  11  12  13  14  15  16  17  18  19 \n",
      "- - - - - - - - - - - - - - - - - - - - - - - - - - - - - - \n",
      "- - - - - - - - - - - - - - - - - - - - - - - - - - - - - - \n",
      "reference:    a.pdb\n",
      "comparing:    b2.pdb\n",
      "\n",
      "ref id:       201 202 203 204 205 206 207 208 209 210 211 212 213 214 215 216 217 218 219 220 \n",
      "cmp id:       201 202 203 204 205 206 207 208 209 210 211 212 213 214 215 216 217 218 219 220 \n",
      "\n",
      "ref chain:      B   B   B   B   B   B   B   B   B   B   B   B   B   B   B   B   B   B   B   B \n",
      "cmp chain:      B   B   B   B   B   B   B   B   B   B   B   B   B   B   B   B   B   B   B   B \n",
      "ref residues:   G   G   A   C   U   A   G   C   G   G   A   G   G   C   U   A   G   U   C   C \n",
      "cmp residues:   G   G   A   C   U   A   G   C   G   G   A   G   G   C   U   A   G   U   C   C \n",
      "align. index:   0   1   2   3   4   5   6   7   8   9  10  11  12  13  14  15  16  17  18  19 \n",
      "- - - - - - - - - - - - - - - - - - - - - - - - - - - - - - \n",
      "- - - - - - - - - - - - - - - - - - - - - - - - - - - - - - \n",
      "reference:    a.pdb\n",
      "comparing:    b3.pdb\n",
      "\n",
      "ref id:       201 202 203 204 205 206 207 208 209 210 211 212 213 214 215 216 217 218 219 220 \n",
      "cmp id:       201 202 203 204 205 206 207 208 209 210 211 212 213 214 215 216 217 218 219 220 \n",
      "\n",
      "ref chain:      B   B   B   B   B   B   B   B   B   B   B   B   B   B   B   B   B   B   B   B \n",
      "cmp chain:      B   B   B   B   B   B   B   B   B   B   B   B   B   B   B   B   B   B   B   B \n",
      "ref residues:   G   G   A   C   U   A   G   C   G   G   A   G   G   C   U   A   G   U   C   C \n",
      "cmp residues:   G   G   A   C   U   A   G   C   G   G   A   G   G   C   U   A   G   U   C   C \n",
      "align. index:   0   1   2   3   4   5   6   7   8   9  10  11  12  13  14  15  16  17  18  19 \n",
      "- - - - - - - - - - - - - - - - - - - - - - - - - - - - - - \n"
     ]
    },
    {
     "name": "stderr",
     "output_type": "stream",
     "text": [
      "mkdir: out: File exists\n",
      "opening reference file: './ref/a.pdb'\n",
      "opening comparing file: './cmp/b1.pdb'\n",
      "comparing models...\n",
      "\b\b\b\b\b\b\b\b\b\b\b\b\b\b\b\b\b\b\b\b\b\b\b\b\b\b\b\b\b\b\b\b\b\b\b\b\b\b\b\bstep: 0 of 19\b\b\b\b\b\b\b\b\b\b\b\b\b\b\b\b\b\b\b\b\b\b\b\b\b\b\b\b\b\b\b\b\b\b\b\b\b\b\b\bstep: 1 of 19\b\b\b\b\b\b\b\b\b\b\b\b\b\b\b\b\b\b\b\b\b\b\b\b\b\b\b\b\b\b\b\b\b\b\b\b\b\b\b\bstep: 2 of 19\b\b\b\b\b\b\b\b\b\b\b\b\b\b\b\b\b\b\b\b\b\b\b\b\b\b\b\b\b\b\b\b\b\b\b\b\b\b\b\bstep: 3 of 19\b\b\b\b\b\b\b\b\b\b\b\b\b\b\b\b\b\b\b\b\b\b\b\b\b\b\b\b\b\b\b\b\b\b\b\b\b\b\b\bstep: 4 of 19\b\b\b\b\b\b\b\b\b\b\b\b\b\b\b\b\b\b\b\b\b\b\b\b\b\b\b\b\b\b\b\b\b\b\b\b\b\b\b\bstep: 5 of 19\b\b\b\b\b\b\b\b\b\b\b\b\b\b\b\b\b\b\b\b\b\b\b\b\b\b\b\b\b\b\b\b\b\b\b\b\b\b\b\bstep: 6 of 19\b\b\b\b\b\b\b\b\b\b\b\b\b\b\b\b\b\b\b\b\b\b\b\b\b\b\b\b\b\b\b\b\b\b\b\b\b\b\b\bstep: 7 of 19\b\b\b\b\b\b\b\b\b\b\b\b\b\b\b\b\b\b\b\b\b\b\b\b\b\b\b\b\b\b\b\b\b\b\b\b\b\b\b\bstep: 8 of 19\b\b\b\b\b\b\b\b\b\b\b\b\b\b\b\b\b\b\b\b\b\b\b\b\b\b\b\b\b\b\b\b\b\b\b\b\b\b\b\bstep: 9 of 19\b\b\b\b\b\b\b\b\b\b\b\b\b\b\b\b\b\b\b\b\b\b\b\b\b\b\b\b\b\b\b\b\b\b\b\b\b\b\b\bstep: 10 of 19\b\b\b\b\b\b\b\b\b\b\b\b\b\b\b\b\b\b\b\b\b\b\b\b\b\b\b\b\b\b\b\b\b\b\b\b\b\b\b\bstep: 11 of 19\b\b\b\b\b\b\b\b\b\b\b\b\b\b\b\b\b\b\b\b\b\b\b\b\b\b\b\b\b\b\b\b\b\b\b\b\b\b\b\bstep: 12 of 19\b\b\b\b\b\b\b\b\b\b\b\b\b\b\b\b\b\b\b\b\b\b\b\b\b\b\b\b\b\b\b\b\b\b\b\b\b\b\b\bstep: 13 of 19\b\b\b\b\b\b\b\b\b\b\b\b\b\b\b\b\b\b\b\b\b\b\b\b\b\b\b\b\b\b\b\b\b\b\b\b\b\b\b\bstep: 14 of 19\b\b\b\b\b\b\b\b\b\b\b\b\b\b\b\b\b\b\b\b\b\b\b\b\b\b\b\b\b\b\b\b\b\b\b\b\b\b\b\bstep: 15 of 19\b\b\b\b\b\b\b\b\b\b\b\b\b\b\b\b\b\b\b\b\b\b\b\b\b\b\b\b\b\b\b\b\b\b\b\b\b\b\b\bstep: 16 of 19\b\b\b\b\b\b\b\b\b\b\b\b\b\b\b\b\b\b\b\b\b\b\b\b\b\b\b\b\b\b\b\b\b\b\b\b\b\b\b\bstep: 17 of 19\b\b\b\b\b\b\b\b\b\b\b\b\b\b\b\b\b\b\b\b\b\b\b\b\b\b\b\b\b\b\b\b\b\b\b\b\b\b\b\bstep: 18 of 19\b\b\b\b\b\b\b\b\b\b\b\b\b\b\b\b\b\b\b\b\b\b\b\b\b\b\b\b\b\b\b\b\b\b\b\b\b\b\b\bstep: 19 of 19\b\b\b\b\b\b\b\b\b\b\b\b\b\b\b\b\b\b\b\b\b\b\b\b\b\b\b\b\b\b\b\b\b\b\b\b\b\b\b\bdone\n",
      "saving data file...\n",
      "saving svg file...\n",
      "opening comparing file: './cmp/b2.pdb'\n",
      "comparing models...\n",
      "\b\b\b\b\b\b\b\b\b\b\b\b\b\b\b\b\b\b\b\b\b\b\b\b\b\b\b\b\b\b\b\b\b\b\b\b\b\b\b\bstep: 0 of 19\b\b\b\b\b\b\b\b\b\b\b\b\b\b\b\b\b\b\b\b\b\b\b\b\b\b\b\b\b\b\b\b\b\b\b\b\b\b\b\bstep: 1 of 19\b\b\b\b\b\b\b\b\b\b\b\b\b\b\b\b\b\b\b\b\b\b\b\b\b\b\b\b\b\b\b\b\b\b\b\b\b\b\b\bstep: 2 of 19\b\b\b\b\b\b\b\b\b\b\b\b\b\b\b\b\b\b\b\b\b\b\b\b\b\b\b\b\b\b\b\b\b\b\b\b\b\b\b\bstep: 3 of 19\b\b\b\b\b\b\b\b\b\b\b\b\b\b\b\b\b\b\b\b\b\b\b\b\b\b\b\b\b\b\b\b\b\b\b\b\b\b\b\bstep: 4 of 19\b\b\b\b\b\b\b\b\b\b\b\b\b\b\b\b\b\b\b\b\b\b\b\b\b\b\b\b\b\b\b\b\b\b\b\b\b\b\b\bstep: 5 of 19\b\b\b\b\b\b\b\b\b\b\b\b\b\b\b\b\b\b\b\b\b\b\b\b\b\b\b\b\b\b\b\b\b\b\b\b\b\b\b\bstep: 6 of 19\b\b\b\b\b\b\b\b\b\b\b\b\b\b\b\b\b\b\b\b\b\b\b\b\b\b\b\b\b\b\b\b\b\b\b\b\b\b\b\bstep: 7 of 19\b\b\b\b\b\b\b\b\b\b\b\b\b\b\b\b\b\b\b\b\b\b\b\b\b\b\b\b\b\b\b\b\b\b\b\b\b\b\b\bstep: 8 of 19\b\b\b\b\b\b\b\b\b\b\b\b\b\b\b\b\b\b\b\b\b\b\b\b\b\b\b\b\b\b\b\b\b\b\b\b\b\b\b\bstep: 9 of 19\b\b\b\b\b\b\b\b\b\b\b\b\b\b\b\b\b\b\b\b\b\b\b\b\b\b\b\b\b\b\b\b\b\b\b\b\b\b\b\bstep: 10 of 19\b\b\b\b\b\b\b\b\b\b\b\b\b\b\b\b\b\b\b\b\b\b\b\b\b\b\b\b\b\b\b\b\b\b\b\b\b\b\b\bstep: 11 of 19\b\b\b\b\b\b\b\b\b\b\b\b\b\b\b\b\b\b\b\b\b\b\b\b\b\b\b\b\b\b\b\b\b\b\b\b\b\b\b\bstep: 12 of 19\b\b\b\b\b\b\b\b\b\b\b\b\b\b\b\b\b\b\b\b\b\b\b\b\b\b\b\b\b\b\b\b\b\b\b\b\b\b\b\bstep: 13 of 19\b\b\b\b\b\b\b\b\b\b\b\b\b\b\b\b\b\b\b\b\b\b\b\b\b\b\b\b\b\b\b\b\b\b\b\b\b\b\b\bstep: 14 of 19\b\b\b\b\b\b\b\b\b\b\b\b\b\b\b\b\b\b\b\b\b\b\b\b\b\b\b\b\b\b\b\b\b\b\b\b\b\b\b\bstep: 15 of 19\b\b\b\b\b\b\b\b\b\b\b\b\b\b\b\b\b\b\b\b\b\b\b\b\b\b\b\b\b\b\b\b\b\b\b\b\b\b\b\bstep: 16 of 19\b\b\b\b\b\b\b\b\b\b\b\b\b\b\b\b\b\b\b\b\b\b\b\b\b\b\b\b\b\b\b\b\b\b\b\b\b\b\b\bstep: 17 of 19\b\b\b\b\b\b\b\b\b\b\b\b\b\b\b\b\b\b\b\b\b\b\b\b\b\b\b\b\b\b\b\b\b\b\b\b\b\b\b\bstep: 18 of 19\b\b\b\b\b\b\b\b\b\b\b\b\b\b\b\b\b\b\b\b\b\b\b\b\b\b\b\b\b\b\b\b\b\b\b\b\b\b\b\bstep: 19 of 19\b\b\b\b\b\b\b\b\b\b\b\b\b\b\b\b\b\b\b\b\b\b\b\b\b\b\b\b\b\b\b\b\b\b\b\b\b\b\b\bdone\n",
      "saving data file...\n",
      "saving svg file...\n",
      "opening comparing file: './cmp/b3.pdb'\n",
      "comparing models...\n",
      "\b\b\b\b\b\b\b\b\b\b\b\b\b\b\b\b\b\b\b\b\b\b\b\b\b\b\b\b\b\b\b\b\b\b\b\b\b\b\b\bstep: 0 of 19\b\b\b\b\b\b\b\b\b\b\b\b\b\b\b\b\b\b\b\b\b\b\b\b\b\b\b\b\b\b\b\b\b\b\b\b\b\b\b\bstep: 1 of 19\b\b\b\b\b\b\b\b\b\b\b\b\b\b\b\b\b\b\b\b\b\b\b\b\b\b\b\b\b\b\b\b\b\b\b\b\b\b\b\bstep: 2 of 19\b\b\b\b\b\b\b\b\b\b\b\b\b\b\b\b\b\b\b\b\b\b\b\b\b\b\b\b\b\b\b\b\b\b\b\b\b\b\b\bstep: 3 of 19\b\b\b\b\b\b\b\b\b\b\b\b\b\b\b\b\b\b\b\b\b\b\b\b\b\b\b\b\b\b\b\b\b\b\b\b\b\b\b\bstep: 4 of 19\b\b\b\b\b\b\b\b\b\b\b\b\b\b\b\b\b\b\b\b\b\b\b\b\b\b\b\b\b\b\b\b\b\b\b\b\b\b\b\bstep: 5 of 19\b\b\b\b\b\b\b\b\b\b\b\b\b\b\b\b\b\b\b\b\b\b\b\b\b\b\b\b\b\b\b\b\b\b\b\b\b\b\b\bstep: 6 of 19\b\b\b\b\b\b\b\b\b\b\b\b\b\b\b\b\b\b\b\b\b\b\b\b\b\b\b\b\b\b\b\b\b\b\b\b\b\b\b\bstep: 7 of 19\b\b\b\b\b\b\b\b\b\b\b\b\b\b\b\b\b\b\b\b\b\b\b\b\b\b\b\b\b\b\b\b\b\b\b\b\b\b\b\bstep: 8 of 19\b\b\b\b\b\b\b\b\b\b\b\b\b\b\b\b\b\b\b\b\b\b\b\b\b\b\b\b\b\b\b\b\b\b\b\b\b\b\b\bstep: 9 of 19\b\b\b\b\b\b\b\b\b\b\b\b\b\b\b\b\b\b\b\b\b\b\b\b\b\b\b\b\b\b\b\b\b\b\b\b\b\b\b\bstep: 10 of 19\b\b\b\b\b\b\b\b\b\b\b\b\b\b\b\b\b\b\b\b\b\b\b\b\b\b\b\b\b\b\b\b\b\b\b\b\b\b\b\bstep: 11 of 19\b\b\b\b\b\b\b\b\b\b\b\b\b\b\b\b\b\b\b\b\b\b\b\b\b\b\b\b\b\b\b\b\b\b\b\b\b\b\b\bstep: 12 of 19\b\b\b\b\b\b\b\b\b\b\b\b\b\b\b\b\b\b\b\b\b\b\b\b\b\b\b\b\b\b\b\b\b\b\b\b\b\b\b\bstep: 13 of 19\b\b\b\b\b\b\b\b\b\b\b\b\b\b\b\b\b\b\b\b\b\b\b\b\b\b\b\b\b\b\b\b\b\b\b\b\b\b\b\bstep: 14 of 19\b\b\b\b\b\b\b\b\b\b\b\b\b\b\b\b\b\b\b\b\b\b\b\b\b\b\b\b\b\b\b\b\b\b\b\b\b\b\b\bstep: 15 of 19\b\b\b\b\b\b\b\b\b\b\b\b\b\b\b\b\b\b\b\b\b\b\b\b\b\b\b\b\b\b\b\b\b\b\b\b\b\b\b\bstep: 16 of 19\b\b\b\b\b\b\b\b\b\b\b\b\b\b\b\b\b\b\b\b\b\b\b\b\b\b\b\b\b\b\b\b\b\b\b\b\b\b\b\bstep: 17 of 19\b\b\b\b\b\b\b\b\b\b\b\b\b\b\b\b\b\b\b\b\b\b\b\b\b\b\b\b\b\b\b\b\b\b\b\b\b\b\b\bstep: 18 of 19\b\b\b\b\b\b\b\b\b\b\b\b\b\b\b\b\b\b\b\b\b\b\b\b\b\b\b\b\b\b\b\b\b\b\b\b\b\b\b\bstep: 19 of 19\b\b\b\b\b\b\b\b\b\b\b\b\b\b\b\b\b\b\b\b\b\b\b\b\b\b\b\b\b\b\b\b\b\b\b\b\b\b\b\bdone\n",
      "saving data file...\n",
      "saving svg file...\n"
     ]
    }
   ],
   "source": [
    "%%bash\n",
    "cd examples/ex2/\n",
    "mkdir out\n",
    "python ../../dp.py -c ex2a.cfg"
   ]
  },
  {
   "cell_type": "code",
   "execution_count": 17,
   "metadata": {
    "collapsed": false
   },
   "outputs": [
    {
     "name": "stdout",
     "output_type": "stream",
     "text": [
      "- - - - - - - - - - - - - - - - - - - - - - - - - - - - - - \n",
      "reference:    a.pdb\n",
      "comparing:    b.pdb\n",
      "\n",
      "ref id:       201 202 203 204 205 206 207 208 209   0   1   2   3   4   5   6   7   8   9  10 \n",
      "cmp id:         1   2   3   4   5   6   7   8   9  10  11  12  13  14  15  16  17  18  19  20 \n",
      "\n",
      "ref chain:      B   B   B   B   B   B   B   B   B   B   B   B   B   B   B   B   B   B   B   B \n",
      "cmp chain:      A   A   A   A   A   A   A   A   A   A   A   A   A   A   A   A   A   A   A   A \n",
      "ref residues:   G   G   A   C   U   A   G   C   G   G   A   G   G   C   U   A   G   U   C   C \n",
      "cmp residues:   G   G   A   C   U   A   G   C   G   G   A   G   G   C   U   A   G   U   C   C \n",
      "align. index:   0   1   2   3   4   5   6   7   8   9  10  11  12  13  14  15  16  17  18  19 \n",
      "- - - - - - - - - - - - - - - - - - - - - - - - - - - - - - \n"
     ]
    },
    {
     "name": "stderr",
     "output_type": "stream",
     "text": [
      "opening reference file: 'a.pdb'\n",
      "opening comparing file: 'b.pdb'\n",
      "comparing models...\n",
      "\b\b\b\b\b\b\b\b\b\b\b\b\b\b\b\b\b\b\b\b\b\b\b\b\b\b\b\b\b\b\b\b\b\b\b\b\b\b\b\bstep: 0 of 19\b\b\b\b\b\b\b\b\b\b\b\b\b\b\b\b\b\b\b\b\b\b\b\b\b\b\b\b\b\b\b\b\b\b\b\b\b\b\b\bstep: 1 of 19\b\b\b\b\b\b\b\b\b\b\b\b\b\b\b\b\b\b\b\b\b\b\b\b\b\b\b\b\b\b\b\b\b\b\b\b\b\b\b\bstep: 2 of 19\b\b\b\b\b\b\b\b\b\b\b\b\b\b\b\b\b\b\b\b\b\b\b\b\b\b\b\b\b\b\b\b\b\b\b\b\b\b\b\bstep: 3 of 19\b\b\b\b\b\b\b\b\b\b\b\b\b\b\b\b\b\b\b\b\b\b\b\b\b\b\b\b\b\b\b\b\b\b\b\b\b\b\b\bstep: 4 of 19\b\b\b\b\b\b\b\b\b\b\b\b\b\b\b\b\b\b\b\b\b\b\b\b\b\b\b\b\b\b\b\b\b\b\b\b\b\b\b\bstep: 5 of 19\b\b\b\b\b\b\b\b\b\b\b\b\b\b\b\b\b\b\b\b\b\b\b\b\b\b\b\b\b\b\b\b\b\b\b\b\b\b\b\bstep: 6 of 19\b\b\b\b\b\b\b\b\b\b\b\b\b\b\b\b\b\b\b\b\b\b\b\b\b\b\b\b\b\b\b\b\b\b\b\b\b\b\b\bstep: 7 of 19\b\b\b\b\b\b\b\b\b\b\b\b\b\b\b\b\b\b\b\b\b\b\b\b\b\b\b\b\b\b\b\b\b\b\b\b\b\b\b\bstep: 8 of 19\b\b\b\b\b\b\b\b\b\b\b\b\b\b\b\b\b\b\b\b\b\b\b\b\b\b\b\b\b\b\b\b\b\b\b\b\b\b\b\bstep: 9 of 19\b\b\b\b\b\b\b\b\b\b\b\b\b\b\b\b\b\b\b\b\b\b\b\b\b\b\b\b\b\b\b\b\b\b\b\b\b\b\b\bstep: 10 of 19\b\b\b\b\b\b\b\b\b\b\b\b\b\b\b\b\b\b\b\b\b\b\b\b\b\b\b\b\b\b\b\b\b\b\b\b\b\b\b\bstep: 11 of 19\b\b\b\b\b\b\b\b\b\b\b\b\b\b\b\b\b\b\b\b\b\b\b\b\b\b\b\b\b\b\b\b\b\b\b\b\b\b\b\bstep: 12 of 19\b\b\b\b\b\b\b\b\b\b\b\b\b\b\b\b\b\b\b\b\b\b\b\b\b\b\b\b\b\b\b\b\b\b\b\b\b\b\b\bstep: 13 of 19\b\b\b\b\b\b\b\b\b\b\b\b\b\b\b\b\b\b\b\b\b\b\b\b\b\b\b\b\b\b\b\b\b\b\b\b\b\b\b\bstep: 14 of 19\b\b\b\b\b\b\b\b\b\b\b\b\b\b\b\b\b\b\b\b\b\b\b\b\b\b\b\b\b\b\b\b\b\b\b\b\b\b\b\bstep: 15 of 19\b\b\b\b\b\b\b\b\b\b\b\b\b\b\b\b\b\b\b\b\b\b\b\b\b\b\b\b\b\b\b\b\b\b\b\b\b\b\b\bstep: 16 of 19\b\b\b\b\b\b\b\b\b\b\b\b\b\b\b\b\b\b\b\b\b\b\b\b\b\b\b\b\b\b\b\b\b\b\b\b\b\b\b\bstep: 17 of 19\b\b\b\b\b\b\b\b\b\b\b\b\b\b\b\b\b\b\b\b\b\b\b\b\b\b\b\b\b\b\b\b\b\b\b\b\b\b\b\bstep: 18 of 19\b\b\b\b\b\b\b\b\b\b\b\b\b\b\b\b\b\b\b\b\b\b\b\b\b\b\b\b\b\b\b\b\b\b\b\b\b\b\b\bstep: 19 of 19\b\b\b\b\b\b\b\b\b\b\b\b\b\b\b\b\b\b\b\b\b\b\b\b\b\b\b\b\b\b\b\b\b\b\b\b\b\b\b\bdone\n",
      "saving data file...\n",
      "saving svg file...\n"
     ]
    }
   ],
   "source": [
    "%%bash\n",
    "cd examples/ex3/\n",
    "python ../../dp.py -c ex3.cfg"
   ]
  },
  {
   "cell_type": "markdown",
   "metadata": {},
   "source": [
    "![x](rna_tools/opt/DeformationProfile/examples/ex3/b.svg)"
   ]
  },
  {
   "cell_type": "code",
   "execution_count": 24,
   "metadata": {
    "collapsed": false
   },
   "outputs": [
    {
     "name": "stdout",
     "output_type": "stream",
     "text": [
      "- - - - - - - - - - - - - - - - - - - - - - - - - - - - - - \n",
      "reference:    a.pdb\n",
      "comparing:    b.pdb\n",
      "\n",
      "ref id:       201 202 203 204 205 206 207 208 209 210 211 212 213 214 215 216 217 218 219 220 \n",
      "cmp id:       201 202 203 204 205 206 207 208 209 210 211 212 213 214 215 216 217 218 219 220 \n",
      "\n",
      "ref chain:      B   B   B   B   B   B   B   B   B   B   B   B   B   B   B   B   B   B   B   B \n",
      "cmp chain:      B   B   B   B   B   B   B   B   B   B   B   B   B   B   B   B   B   B   B   B \n",
      "ref residues:   G   G   A   C   U   A   G   C   G   G   A   G   G   C   U   A   G   U   C   C \n",
      "cmp residues:   G   G   A   C   U   A   G   C   G   G   A   G   G   C   U   A   G   U   C   C \n",
      "align. index:   0   1   2   3   4   5   6   7   8   9  10  11  12  13  14  15  16  17  18  19 \n",
      "- - - - - - - - - - - - - - - - - - - - - - - - - - - - - - \n"
     ]
    },
    {
     "name": "stderr",
     "output_type": "stream",
     "text": [
      "opening reference file: 'a.pdb'\n",
      "opening comparing file: 'b.pdb'\n",
      "comparing models...\n",
      "\b\b\b\b\b\b\b\b\b\b\b\b\b\b\b\b\b\b\b\b\b\b\b\b\b\b\b\b\b\b\b\b\b\b\b\b\b\b\b\bstep: 0 of 19\b\b\b\b\b\b\b\b\b\b\b\b\b\b\b\b\b\b\b\b\b\b\b\b\b\b\b\b\b\b\b\b\b\b\b\b\b\b\b\bstep: 1 of 19\b\b\b\b\b\b\b\b\b\b\b\b\b\b\b\b\b\b\b\b\b\b\b\b\b\b\b\b\b\b\b\b\b\b\b\b\b\b\b\bstep: 2 of 19\b\b\b\b\b\b\b\b\b\b\b\b\b\b\b\b\b\b\b\b\b\b\b\b\b\b\b\b\b\b\b\b\b\b\b\b\b\b\b\bstep: 3 of 19\b\b\b\b\b\b\b\b\b\b\b\b\b\b\b\b\b\b\b\b\b\b\b\b\b\b\b\b\b\b\b\b\b\b\b\b\b\b\b\bstep: 4 of 19\b\b\b\b\b\b\b\b\b\b\b\b\b\b\b\b\b\b\b\b\b\b\b\b\b\b\b\b\b\b\b\b\b\b\b\b\b\b\b\bstep: 5 of 19\b\b\b\b\b\b\b\b\b\b\b\b\b\b\b\b\b\b\b\b\b\b\b\b\b\b\b\b\b\b\b\b\b\b\b\b\b\b\b\bstep: 6 of 19\b\b\b\b\b\b\b\b\b\b\b\b\b\b\b\b\b\b\b\b\b\b\b\b\b\b\b\b\b\b\b\b\b\b\b\b\b\b\b\bstep: 7 of 19\b\b\b\b\b\b\b\b\b\b\b\b\b\b\b\b\b\b\b\b\b\b\b\b\b\b\b\b\b\b\b\b\b\b\b\b\b\b\b\bstep: 8 of 19\b\b\b\b\b\b\b\b\b\b\b\b\b\b\b\b\b\b\b\b\b\b\b\b\b\b\b\b\b\b\b\b\b\b\b\b\b\b\b\bstep: 9 of 19\b\b\b\b\b\b\b\b\b\b\b\b\b\b\b\b\b\b\b\b\b\b\b\b\b\b\b\b\b\b\b\b\b\b\b\b\b\b\b\bstep: 10 of 19\b\b\b\b\b\b\b\b\b\b\b\b\b\b\b\b\b\b\b\b\b\b\b\b\b\b\b\b\b\b\b\b\b\b\b\b\b\b\b\bstep: 11 of 19\b\b\b\b\b\b\b\b\b\b\b\b\b\b\b\b\b\b\b\b\b\b\b\b\b\b\b\b\b\b\b\b\b\b\b\b\b\b\b\bstep: 12 of 19\b\b\b\b\b\b\b\b\b\b\b\b\b\b\b\b\b\b\b\b\b\b\b\b\b\b\b\b\b\b\b\b\b\b\b\b\b\b\b\bstep: 13 of 19\b\b\b\b\b\b\b\b\b\b\b\b\b\b\b\b\b\b\b\b\b\b\b\b\b\b\b\b\b\b\b\b\b\b\b\b\b\b\b\bstep: 14 of 19\b\b\b\b\b\b\b\b\b\b\b\b\b\b\b\b\b\b\b\b\b\b\b\b\b\b\b\b\b\b\b\b\b\b\b\b\b\b\b\bstep: 15 of 19\b\b\b\b\b\b\b\b\b\b\b\b\b\b\b\b\b\b\b\b\b\b\b\b\b\b\b\b\b\b\b\b\b\b\b\b\b\b\b\bstep: 16 of 19\b\b\b\b\b\b\b\b\b\b\b\b\b\b\b\b\b\b\b\b\b\b\b\b\b\b\b\b\b\b\b\b\b\b\b\b\b\b\b\bstep: 17 of 19\b\b\b\b\b\b\b\b\b\b\b\b\b\b\b\b\b\b\b\b\b\b\b\b\b\b\b\b\b\b\b\b\b\b\b\b\b\b\b\bstep: 18 of 19\b\b\b\b\b\b\b\b\b\b\b\b\b\b\b\b\b\b\b\b\b\b\b\b\b\b\b\b\b\b\b\b\b\b\b\b\b\b\b\bstep: 19 of 19\b\b\b\b\b\b\b\b\b\b\b\b\b\b\b\b\b\b\b\b\b\b\b\b\b\b\b\b\b\b\b\b\b\b\b\b\b\b\b\bdone\n",
      "saving data file...\n",
      "saving svg file...\n"
     ]
    }
   ],
   "source": [
    "%%bash\n",
    "cd examples/ex4/\n",
    "python ../../dp.py -c ex4a.cfg"
   ]
  },
  {
   "cell_type": "markdown",
   "metadata": {},
   "source": [
    "![x](rna_tools/opt/DeformationProfile/examples/ex4/b.svg)"
   ]
  },
  {
   "cell_type": "code",
   "execution_count": 25,
   "metadata": {
    "collapsed": false
   },
   "outputs": [
    {
     "name": "stdout",
     "output_type": "stream",
     "text": [
      "- - - - - - - - - - - - - - - - - - - - - - - - - - - - - - \n",
      "reference:    a.pdb\n",
      "comparing:    b.pdb\n",
      "\n",
      "ref id:       201 202 203 204 205 206 207 208 209 210 211 212 213 214 215 216 217 218 219 220 \n",
      "cmp id:       201 202 203 204 205 206 207 208 209 210 211 212 213 214 215 216 217 218 219 220 \n",
      "\n",
      "ref chain:      B   B   B   B   B   B   B   B   B   B   B   B   B   B   B   B   B   B   B   B \n",
      "cmp chain:      B   B   B   B   B   B   B   B   B   B   B   B   B   B   B   B   B   B   B   B \n",
      "ref residues:   G   G   A   C   U   A   G   C   G   G   A   G   G   C   U   A   G   U   C   C \n",
      "cmp residues:   G   G   A   C   U   A   G   C   G   G   A   G   G   C   U   A   G   U   C   C \n",
      "align. index:   0   1   2   3   4   5   6   7   8   9  10  11  12  13  14  15  16  17  18  19 \n",
      "- - - - - - - - - - - - - - - - - - - - - - - - - - - - - - \n"
     ]
    },
    {
     "name": "stderr",
     "output_type": "stream",
     "text": [
      "opening reference file: 'a.pdb'\n",
      "opening comparing file: 'b.pdb'\n",
      "comparing models...\n",
      "\b\b\b\b\b\b\b\b\b\b\b\b\b\b\b\b\b\b\b\b\b\b\b\b\b\b\b\b\b\b\b\b\b\b\b\b\b\b\b\bstep: 0 of 19\b\b\b\b\b\b\b\b\b\b\b\b\b\b\b\b\b\b\b\b\b\b\b\b\b\b\b\b\b\b\b\b\b\b\b\b\b\b\b\bstep: 1 of 19\b\b\b\b\b\b\b\b\b\b\b\b\b\b\b\b\b\b\b\b\b\b\b\b\b\b\b\b\b\b\b\b\b\b\b\b\b\b\b\bstep: 2 of 19\b\b\b\b\b\b\b\b\b\b\b\b\b\b\b\b\b\b\b\b\b\b\b\b\b\b\b\b\b\b\b\b\b\b\b\b\b\b\b\bstep: 3 of 19\b\b\b\b\b\b\b\b\b\b\b\b\b\b\b\b\b\b\b\b\b\b\b\b\b\b\b\b\b\b\b\b\b\b\b\b\b\b\b\bstep: 4 of 19\b\b\b\b\b\b\b\b\b\b\b\b\b\b\b\b\b\b\b\b\b\b\b\b\b\b\b\b\b\b\b\b\b\b\b\b\b\b\b\bstep: 5 of 19\b\b\b\b\b\b\b\b\b\b\b\b\b\b\b\b\b\b\b\b\b\b\b\b\b\b\b\b\b\b\b\b\b\b\b\b\b\b\b\bstep: 6 of 19\b\b\b\b\b\b\b\b\b\b\b\b\b\b\b\b\b\b\b\b\b\b\b\b\b\b\b\b\b\b\b\b\b\b\b\b\b\b\b\bstep: 7 of 19\b\b\b\b\b\b\b\b\b\b\b\b\b\b\b\b\b\b\b\b\b\b\b\b\b\b\b\b\b\b\b\b\b\b\b\b\b\b\b\bstep: 8 of 19\b\b\b\b\b\b\b\b\b\b\b\b\b\b\b\b\b\b\b\b\b\b\b\b\b\b\b\b\b\b\b\b\b\b\b\b\b\b\b\bstep: 9 of 19\b\b\b\b\b\b\b\b\b\b\b\b\b\b\b\b\b\b\b\b\b\b\b\b\b\b\b\b\b\b\b\b\b\b\b\b\b\b\b\bstep: 10 of 19\b\b\b\b\b\b\b\b\b\b\b\b\b\b\b\b\b\b\b\b\b\b\b\b\b\b\b\b\b\b\b\b\b\b\b\b\b\b\b\bstep: 11 of 19\b\b\b\b\b\b\b\b\b\b\b\b\b\b\b\b\b\b\b\b\b\b\b\b\b\b\b\b\b\b\b\b\b\b\b\b\b\b\b\bstep: 12 of 19\b\b\b\b\b\b\b\b\b\b\b\b\b\b\b\b\b\b\b\b\b\b\b\b\b\b\b\b\b\b\b\b\b\b\b\b\b\b\b\bstep: 13 of 19\b\b\b\b\b\b\b\b\b\b\b\b\b\b\b\b\b\b\b\b\b\b\b\b\b\b\b\b\b\b\b\b\b\b\b\b\b\b\b\bstep: 14 of 19\b\b\b\b\b\b\b\b\b\b\b\b\b\b\b\b\b\b\b\b\b\b\b\b\b\b\b\b\b\b\b\b\b\b\b\b\b\b\b\bstep: 15 of 19\b\b\b\b\b\b\b\b\b\b\b\b\b\b\b\b\b\b\b\b\b\b\b\b\b\b\b\b\b\b\b\b\b\b\b\b\b\b\b\bstep: 16 of 19\b\b\b\b\b\b\b\b\b\b\b\b\b\b\b\b\b\b\b\b\b\b\b\b\b\b\b\b\b\b\b\b\b\b\b\b\b\b\b\bstep: 17 of 19\b\b\b\b\b\b\b\b\b\b\b\b\b\b\b\b\b\b\b\b\b\b\b\b\b\b\b\b\b\b\b\b\b\b\b\b\b\b\b\bstep: 18 of 19\b\b\b\b\b\b\b\b\b\b\b\b\b\b\b\b\b\b\b\b\b\b\b\b\b\b\b\b\b\b\b\b\b\b\b\b\b\b\b\bstep: 19 of 19\b\b\b\b\b\b\b\b\b\b\b\b\b\b\b\b\b\b\b\b\b\b\b\b\b\b\b\b\b\b\b\b\b\b\b\b\b\b\b\bdone\n",
      "saving data file...\n",
      "saving svg file...\n"
     ]
    }
   ],
   "source": [
    "%%bash\n",
    "cd examples/ex4/\n",
    "python ../../dp.py -c ex4b.cfg"
   ]
  },
  {
   "cell_type": "markdown",
   "metadata": {},
   "source": [
    "![x](rna_tools/opt/DeformationProfile/examples/ex4/b.svg)"
   ]
  },
  {
   "cell_type": "markdown",
   "metadata": {},
   "source": [
    "# mcq-cli"
   ]
  },
  {
   "cell_type": "markdown",
   "metadata": {},
   "source": [
    "[MCQ (Mean of Circular Quantities)](https://github.com/tzok/mcq4structures) has been first presented in the paper “MCQ4Structures to compute similarity of molecule structures” by Zok et al. (Central European Journal of Operations Research, 2014;22(3):457-474. doi: 10.1007/s10100-013-0296-5).\n",
    "\n",
    "[LCS-TA (Longest Continuous Segments in Torsion Angle space)](https://github.com/tzok/mcq4structures) applies a measure first described in the paper “LCS-TA to identify similar fragments in RNA 3D structures” by Wiedemann et al. (BMC Bioinformatics, 2017;18(1):456. doi: 10.1186/s12859-017-1867-6). A full implementation of both methods can be found on github, maintained by Zok and Wiedemann.\n",
    "\n",
    "Most important features of both methods / measures:\n",
    "\n",
    "- MCQ\n",
    "    - The method applies to a pair of 3D structures and is size independent.\n",
    "    - It can be used for a set of structures in all-against-all or all-against-target mode.\n",
    "    - It translates typical algebraic representation of a 3D structure into the trigonometric one (a set of torsion angles).\n",
    "    - It computes the distance between structures in torsion angle space.\n",
    "    - The distance is measured as mean of local distances between the corresponding angles, and provided in degrees.\n",
    "    - The measure is sequence independent.\n",
    "\n",
    "- LCS-TA\n",
    "    - The method applies to a pair of 3D structures and is size independent.\n",
    "    - It uses MCQ-based measure for structure comparison.\n",
    "    - Within the compared structures, it finds the longest continuous segments which display similarity in torsion angle space.\n",
    "    - Two segments are considered similar if their MCQ is below predefined threshold.\n",
    "    - The method provides segment length and its position in the structure.\n",
    "    - The length of the longest continuous segment is a measure of similarity of two structures.\n",
    "    - The method can be run in sequence dependent or sequence independent mode.\n",
    "\n",
    "MCQ is maintained by Zok, while LCS-TA is maintained by Wiedemann"
   ]
  },
  {
   "cell_type": "markdown",
   "metadata": {},
   "source": [
    "Copy some demo files to your Docker image."
   ]
  },
  {
   "cell_type": "code",
   "execution_count": 25,
   "metadata": {
    "collapsed": false
   },
   "outputs": [
    {
     "name": "stdout",
     "output_type": "stream",
     "text": [
      "See if the file are at the Docker image:\n",
      "Run mcq\n",
      "total 36\n",
      "drwxr-xr-x 2 demo demo 4096 Oct 28 20:43 hsperfdata_demo\n",
      "drwxr-xr-x 7 demo demo 4096 Oct 28 20:43 99228ed0-d1af-4b60-9903-da360aa8ce1c\n",
      "drwxr-xr-x 7 demo demo 4096 Oct 28 20:42 14001637-0e41-444a-af71-255c38fbf006\n",
      "drwxr-xr-x 7 demo demo 4096 Oct 28 20:41 42d358d6-f908-488f-b288-4dd52c1dce59\n",
      "drwxr-xr-x 7 demo demo 4096 Oct 28 20:40 87997101-cc0f-4a7e-8b6e-bc5b81702a3a\n",
      "drwxr-xr-x 7 demo demo 4096 Oct 28 20:40 04390fe6-a085-4240-a4e3-d90e7ab9053c\n",
      "drwxr-xr-x 7 demo demo 4096 Oct 28 20:37 0010b609-890c-48ff-a925-a9fd7b7d3cd0\n",
      "drwxr-xr-x 7 demo demo 4096 Oct 28 20:33 a1c796dc-2003-4ba9-91fa-dd7b909bdf48\n",
      "drwxr-xr-x 7 demo demo 4096 Oct 28 20:21 50e0fa17-d097-4a06-9694-f19146192e3e\n"
     ]
    }
   ],
   "source": [
    "%%bash \n",
    "\n",
    "docker cp rna_pdb_tools/input/rp18 306468777bc5:/home/demo\n",
    "echo 'See if the file are at the Docker image:'\n",
    "#docker exec -i 306468777bc5 /bin/ls -l .\n",
    "echo 'Run mcq'\n",
    "echo 'done'"
   ]
  },
  {
   "cell_type": "markdown",
   "metadata": {},
   "source": [
    "## Local"
   ]
  },
  {
   "cell_type": "code",
   "execution_count": 24,
   "metadata": {
    "collapsed": false
   },
   "outputs": [
    {
     "name": "stdout",
     "output_type": "stream",
     "text": [
      "Results are available in: /tmp/99228ed0-d1af-4b60-9903-da360aa8ce1c\n"
     ]
    }
   ],
   "source": [
    "%%bash\n",
    "docker exec -i 306468777bc5 sh -c \"/home/demo/rna-puzzles-toolkit/mcq-cli/local -m /home/demo/rp18/18_Rh* -t /home/demo/rp18/18_0_solution_5TPY_rpr.pdb\""
   ]
  },
  {
   "cell_type": "code",
   "execution_count": 26,
   "metadata": {
    "collapsed": false
   },
   "outputs": [
    {
     "name": "stdout",
     "output_type": "stream",
     "text": [
      "total 36\n",
      "drwxr-xr-x 2 demo demo 4096 Oct 28 20:43 hsperfdata_demo\n",
      "drwxr-xr-x 7 demo demo 4096 Oct 28 20:43 99228ed0-d1af-4b60-9903-da360aa8ce1c\n",
      "drwxr-xr-x 7 demo demo 4096 Oct 28 20:42 14001637-0e41-444a-af71-255c38fbf006\n",
      "drwxr-xr-x 7 demo demo 4096 Oct 28 20:41 42d358d6-f908-488f-b288-4dd52c1dce59\n",
      "drwxr-xr-x 7 demo demo 4096 Oct 28 20:40 87997101-cc0f-4a7e-8b6e-bc5b81702a3a\n",
      "drwxr-xr-x 7 demo demo 4096 Oct 28 20:40 04390fe6-a085-4240-a4e3-d90e7ab9053c\n",
      "drwxr-xr-x 7 demo demo 4096 Oct 28 20:37 0010b609-890c-48ff-a925-a9fd7b7d3cd0\n",
      "drwxr-xr-x 7 demo demo 4096 Oct 28 20:33 a1c796dc-2003-4ba9-91fa-dd7b909bdf48\n",
      "drwxr-xr-x 7 demo demo 4096 Oct 28 20:21 50e0fa17-d097-4a06-9694-f19146192e3e\n"
     ]
    }
   ],
   "source": [
    "%%bash\n",
    "docker exec -i 306468777bc5 sh -c \"ls -lt /tmp\""
   ]
  },
  {
   "cell_type": "markdown",
   "metadata": {},
   "source": [
    "Generate a plot based on the table."
   ]
  },
  {
   "cell_type": "code",
   "execution_count": 48,
   "metadata": {
    "collapsed": false
   },
   "outputs": [
    {
     "name": "stdout",
     "output_type": "stream",
     "text": [
      "null device \n",
      "          1 \n"
     ]
    }
   ],
   "source": [
    "%%bash\n",
    "docker exec -i 306468777bc5 sh -c 'cd /tmp/99228ed0-d1af-4b60-9903-da360aa8ce1c/ && ~/rna-puzzles-toolkit/mcq-cli/colorbars.R table.csv'"
   ]
  },
  {
   "cell_type": "code",
   "execution_count": 49,
   "metadata": {
    "collapsed": false
   },
   "outputs": [
    {
     "name": "stdout",
     "output_type": "stream",
     "text": [
      "18_Rhiju_1_rpr.pdb\n",
      "18_Rhiju_2_rpr.pdb\n",
      "18_Rhiju_3_rpr.pdb\n",
      "18_Rhiju_4_rpr.pdb\n",
      "18_Rhiju_5_rpr.pdb\n",
      "colorbars.pdf\n",
      "table.csv\n"
     ]
    }
   ],
   "source": [
    "%%bash\n",
    "docker exec -i 306468777bc5 sh -c \"ls /tmp/99228ed0-d1af-4b60-9903-da360aa8ce1c/\""
   ]
  },
  {
   "cell_type": "markdown",
   "metadata": {},
   "source": [
    "Copy the results to your local temp."
   ]
  },
  {
   "cell_type": "code",
   "execution_count": 50,
   "metadata": {
    "collapsed": false
   },
   "outputs": [
    {
     "name": "stdout",
     "output_type": "stream",
     "text": [
      "18_Rhiju_1_rpr.pdb\n",
      "18_Rhiju_2_rpr.pdb\n",
      "18_Rhiju_3_rpr.pdb\n",
      "18_Rhiju_4_rpr.pdb\n",
      "18_Rhiju_5_rpr.pdb\n",
      "colorbars.pdf\n",
      "table.csv\n"
     ]
    }
   ],
   "source": [
    "%%bash\n",
    "docker cp 306468777bc5:/tmp/99228ed0-d1af-4b60-9903-da360aa8ce1c /tmp/\n",
    "ls /tmp/99228ed0-d1af-4b60-9903-da360aa8ce1c"
   ]
  },
  {
   "cell_type": "markdown",
   "metadata": {},
   "source": [
    "View the results using Pandas."
   ]
  },
  {
   "cell_type": "code",
   "execution_count": 51,
   "metadata": {
    "collapsed": false
   },
   "outputs": [
    {
     "data": {
      "text/html": [
       "<div>\n",
       "<table border=\"1\" class=\"dataframe\">\n",
       "  <thead>\n",
       "    <tr style=\"text-align: right;\">\n",
       "      <th></th>\n",
       "      <th>Unnamed: 0</th>\n",
       "      <th>A.G1</th>\n",
       "      <th>A.G2</th>\n",
       "      <th>A.G3</th>\n",
       "      <th>A.U4</th>\n",
       "      <th>A.C5</th>\n",
       "      <th>A.A6</th>\n",
       "      <th>A.G7</th>\n",
       "      <th>A.G8</th>\n",
       "      <th>A.C9</th>\n",
       "      <th>...</th>\n",
       "      <th>A.C62</th>\n",
       "      <th>A.G63</th>\n",
       "      <th>A.A64</th>\n",
       "      <th>A.A65</th>\n",
       "      <th>A.A66</th>\n",
       "      <th>A.G67</th>\n",
       "      <th>A.U68</th>\n",
       "      <th>A.G69</th>\n",
       "      <th>A.G70</th>\n",
       "      <th>A.G71</th>\n",
       "    </tr>\n",
       "  </thead>\n",
       "  <tbody>\n",
       "    <tr>\n",
       "      <th>0</th>\n",
       "      <td>NaN</td>\n",
       "      <td>.</td>\n",
       "      <td>.</td>\n",
       "      <td>{</td>\n",
       "      <td>.</td>\n",
       "      <td>(</td>\n",
       "      <td>(</td>\n",
       "      <td>(</td>\n",
       "      <td>(</td>\n",
       "      <td>(</td>\n",
       "      <td>...</td>\n",
       "      <td>(</td>\n",
       "      <td>.</td>\n",
       "      <td>.</td>\n",
       "      <td>.</td>\n",
       "      <td>.</td>\n",
       "      <td>)</td>\n",
       "      <td>)</td>\n",
       "      <td>)</td>\n",
       "      <td>)</td>\n",
       "      <td>)</td>\n",
       "    </tr>\n",
       "    <tr>\n",
       "      <th>1</th>\n",
       "      <td>18_Rhiju_1_rpr.pdb</td>\n",
       "      <td>47.82113725714628</td>\n",
       "      <td>94.33688052900935</td>\n",
       "      <td>31.39543325853087</td>\n",
       "      <td>18.076285941192126</td>\n",
       "      <td>12.151729157844537</td>\n",
       "      <td>8.501493434485806</td>\n",
       "      <td>8.598837669174692</td>\n",
       "      <td>42.59522171589118</td>\n",
       "      <td>20.87230553973775</td>\n",
       "      <td>...</td>\n",
       "      <td>5.670652702133741</td>\n",
       "      <td>10.452237697487197</td>\n",
       "      <td>10.899236647164763</td>\n",
       "      <td>20.403828903308945</td>\n",
       "      <td>33.634631786172775</td>\n",
       "      <td>40.07917778882871</td>\n",
       "      <td>2.8105157237558216</td>\n",
       "      <td>3.12268503958415</td>\n",
       "      <td>3.38706035222638</td>\n",
       "      <td>5.593981802971269</td>\n",
       "    </tr>\n",
       "    <tr>\n",
       "      <th>2</th>\n",
       "      <td>18_Rhiju_2_rpr.pdb</td>\n",
       "      <td>47.814634236400245</td>\n",
       "      <td>94.36427399419372</td>\n",
       "      <td>31.370981142647096</td>\n",
       "      <td>18.089484899307735</td>\n",
       "      <td>12.147480701577837</td>\n",
       "      <td>8.650831027408056</td>\n",
       "      <td>8.63040256878347</td>\n",
       "      <td>42.56551078528806</td>\n",
       "      <td>20.851341100772423</td>\n",
       "      <td>...</td>\n",
       "      <td>5.677884657321962</td>\n",
       "      <td>10.452737639486374</td>\n",
       "      <td>10.890558433434231</td>\n",
       "      <td>20.403397216819638</td>\n",
       "      <td>33.620206985666044</td>\n",
       "      <td>40.080335425773846</td>\n",
       "      <td>2.817183422703433</td>\n",
       "      <td>3.126361110146106</td>\n",
       "      <td>3.3941886507573806</td>\n",
       "      <td>5.589145358542448</td>\n",
       "    </tr>\n",
       "    <tr>\n",
       "      <th>3</th>\n",
       "      <td>18_Rhiju_3_rpr.pdb</td>\n",
       "      <td>47.81641584104296</td>\n",
       "      <td>94.33716713819841</td>\n",
       "      <td>31.381629086411603</td>\n",
       "      <td>18.09762029066829</td>\n",
       "      <td>12.488499179888773</td>\n",
       "      <td>7.761124375253679</td>\n",
       "      <td>8.446983647092896</td>\n",
       "      <td>42.5977909315378</td>\n",
       "      <td>20.874485775991467</td>\n",
       "      <td>...</td>\n",
       "      <td>5.693305680051093</td>\n",
       "      <td>10.461824200944507</td>\n",
       "      <td>10.897447127771594</td>\n",
       "      <td>20.391915532271337</td>\n",
       "      <td>33.63770508870173</td>\n",
       "      <td>40.08087253048741</td>\n",
       "      <td>2.804217011141902</td>\n",
       "      <td>3.1233132994034736</td>\n",
       "      <td>3.0792003889587933</td>\n",
       "      <td>4.145803549416084</td>\n",
       "    </tr>\n",
       "    <tr>\n",
       "      <th>4</th>\n",
       "      <td>18_Rhiju_4_rpr.pdb</td>\n",
       "      <td>47.8123326942324</td>\n",
       "      <td>94.3496976110549</td>\n",
       "      <td>31.38130853181125</td>\n",
       "      <td>18.09916815587993</td>\n",
       "      <td>12.154305729867458</td>\n",
       "      <td>8.057636320487854</td>\n",
       "      <td>8.431397105940157</td>\n",
       "      <td>42.586465159687144</td>\n",
       "      <td>20.87291438951094</td>\n",
       "      <td>...</td>\n",
       "      <td>5.670652702133741</td>\n",
       "      <td>10.452237697487197</td>\n",
       "      <td>10.899236647164763</td>\n",
       "      <td>20.403828903308945</td>\n",
       "      <td>33.634631786172775</td>\n",
       "      <td>40.07917778882871</td>\n",
       "      <td>2.8105157237558216</td>\n",
       "      <td>3.12268503958415</td>\n",
       "      <td>3.38706035222638</td>\n",
       "      <td>5.593981802971269</td>\n",
       "    </tr>\n",
       "    <tr>\n",
       "      <th>5</th>\n",
       "      <td>18_Rhiju_5_rpr.pdb</td>\n",
       "      <td>30.244337414416037</td>\n",
       "      <td>49.040831717487315</td>\n",
       "      <td>38.528085614747795</td>\n",
       "      <td>24.496042938467244</td>\n",
       "      <td>28.577976739037847</td>\n",
       "      <td>17.340345024766222</td>\n",
       "      <td>8.424235985713661</td>\n",
       "      <td>42.56798606775238</td>\n",
       "      <td>20.870294429470505</td>\n",
       "      <td>...</td>\n",
       "      <td>15.110266980984632</td>\n",
       "      <td>30.30188070737533</td>\n",
       "      <td>12.54596966689406</td>\n",
       "      <td>15.542425288298308</td>\n",
       "      <td>13.00847949411069</td>\n",
       "      <td>43.67364096067794</td>\n",
       "      <td>3.053039560544712</td>\n",
       "      <td>6.671760440953921</td>\n",
       "      <td>46.73693054868335</td>\n",
       "      <td>27.501814192468878</td>\n",
       "    </tr>\n",
       "  </tbody>\n",
       "</table>\n",
       "<p>6 rows × 72 columns</p>\n",
       "</div>"
      ],
      "text/plain": [
       "           Unnamed: 0                A.G1                A.G2  \\\n",
       "0                 NaN                   .                   .   \n",
       "1  18_Rhiju_1_rpr.pdb   47.82113725714628   94.33688052900935   \n",
       "2  18_Rhiju_2_rpr.pdb  47.814634236400245   94.36427399419372   \n",
       "3  18_Rhiju_3_rpr.pdb   47.81641584104296   94.33716713819841   \n",
       "4  18_Rhiju_4_rpr.pdb    47.8123326942324    94.3496976110549   \n",
       "5  18_Rhiju_5_rpr.pdb  30.244337414416037  49.040831717487315   \n",
       "\n",
       "                 A.G3                A.U4                A.C5  \\\n",
       "0                   {                   .                   (   \n",
       "1   31.39543325853087  18.076285941192126  12.151729157844537   \n",
       "2  31.370981142647096  18.089484899307735  12.147480701577837   \n",
       "3  31.381629086411603   18.09762029066829  12.488499179888773   \n",
       "4   31.38130853181125   18.09916815587993  12.154305729867458   \n",
       "5  38.528085614747795  24.496042938467244  28.577976739037847   \n",
       "\n",
       "                 A.A6               A.G7                A.G8  \\\n",
       "0                   (                  (                   (   \n",
       "1   8.501493434485806  8.598837669174692   42.59522171589118   \n",
       "2   8.650831027408056   8.63040256878347   42.56551078528806   \n",
       "3   7.761124375253679  8.446983647092896    42.5977909315378   \n",
       "4   8.057636320487854  8.431397105940157  42.586465159687144   \n",
       "5  17.340345024766222  8.424235985713661   42.56798606775238   \n",
       "\n",
       "                 A.C9         ...                       A.C62  \\\n",
       "0                   (         ...                           (   \n",
       "1   20.87230553973775         ...           5.670652702133741   \n",
       "2  20.851341100772423         ...           5.677884657321962   \n",
       "3  20.874485775991467         ...           5.693305680051093   \n",
       "4   20.87291438951094         ...           5.670652702133741   \n",
       "5  20.870294429470505         ...          15.110266980984632   \n",
       "\n",
       "                A.G63               A.A64               A.A65  \\\n",
       "0                   .                   .                   .   \n",
       "1  10.452237697487197  10.899236647164763  20.403828903308945   \n",
       "2  10.452737639486374  10.890558433434231  20.403397216819638   \n",
       "3  10.461824200944507  10.897447127771594  20.391915532271337   \n",
       "4  10.452237697487197  10.899236647164763  20.403828903308945   \n",
       "5   30.30188070737533   12.54596966689406  15.542425288298308   \n",
       "\n",
       "                A.A66               A.G67               A.U68  \\\n",
       "0                   .                   )                   )   \n",
       "1  33.634631786172775   40.07917778882871  2.8105157237558216   \n",
       "2  33.620206985666044  40.080335425773846   2.817183422703433   \n",
       "3   33.63770508870173   40.08087253048741   2.804217011141902   \n",
       "4  33.634631786172775   40.07917778882871  2.8105157237558216   \n",
       "5   13.00847949411069   43.67364096067794   3.053039560544712   \n",
       "\n",
       "                A.G69               A.G70               A.G71  \n",
       "0                   )                   )                   )  \n",
       "1    3.12268503958415    3.38706035222638   5.593981802971269  \n",
       "2   3.126361110146106  3.3941886507573806   5.589145358542448  \n",
       "3  3.1233132994034736  3.0792003889587933   4.145803549416084  \n",
       "4    3.12268503958415    3.38706035222638   5.593981802971269  \n",
       "5   6.671760440953921   46.73693054868335  27.501814192468878  \n",
       "\n",
       "[6 rows x 72 columns]"
      ]
     },
     "execution_count": 51,
     "metadata": {},
     "output_type": "execute_result"
    }
   ],
   "source": [
    "import pandas as pd\n",
    "table = pd.read_csv('/tmp/99228ed0-d1af-4b60-9903-da360aa8ce1c/table.csv')\n",
    "table"
   ]
  },
  {
   "cell_type": "code",
   "execution_count": 52,
   "metadata": {
    "collapsed": true
   },
   "outputs": [],
   "source": [
    "%%bash\n",
    "cp /tmp/99228ed0-d1af-4b60-9903-da360aa8ce1c/18_Rhiju_1_rpr.pdb/delta.svg detla.svg"
   ]
  },
  {
   "cell_type": "markdown",
   "metadata": {},
   "source": [
    "![x](detla.svg)"
   ]
  },
  {
   "cell_type": "markdown",
   "metadata": {},
   "source": [
    "![x](colorbars.pdf)"
   ]
  },
  {
   "cell_type": "markdown",
   "metadata": {},
   "source": [
    "# rnaqua: A tool supporting quality assessment of RNA 3D structures"
   ]
  },
  {
   "cell_type": "markdown",
   "metadata": {},
   "source": [
    "[RNAQUA (RNA QUality Assessment)](https://github.com/mantczak/rnaqua) is a web service based wrapper of basic RNA comparison metrics. It is a RESTful web service client developed in Java. The tool provides a set of web services initially designed for RNAssess (Lukasiak et al., Nucleic Acids Research, 2015;43(W1):W502-W506. doi:10.1093/nar/gkv557) to support the quality assessment of RNA 3D structures. RNAQUA requires a stable release of JRE 7 (or later) installed on a user workstation with an internet access. Full implementation of the tool is stored on github and maintained by Antczak. The binaries and use cases can be downloaded from here. Most important features of RNAQUA:\n",
    "\n",
    "- At the input, a user provides RNA 3D structure(s) in PDB format.\n",
    "- Output data are returned in XML format.\n",
    "- RNAQUA allows to compute the following measures:\n",
    "    - ClashScore,\n",
    "    - Root-mean-square deviation (RMSD),\n",
    "    - Interaction network fidelity (INF),\n",
    "    - Deformation index (DI),\n",
    "    - P-value (either for entire RNA 3D structure(s) or for a set of discontinuous 3D substructures).\n",
    "- Two processing modes are available:\n",
    "    - An analysis of single RNA 3D structure (PDB validation, ClashScore, sequence-based analysis, structure unification),\n",
    "    - An analysis of RNA 3D model(s) with respect to the reference structure (RMSD, INF, DI, P-value, Deformation profile, sequence-based differences between structures, multiple models over the reference structure superposition).\n",
    "- Optionally, the user can define alignment between the reference structure and all corresponding RNA 3D model(s) which is helpful if there are differences in sequence, distribution of chains or residue numbering.\n",
    "\n",
    "This metric tool is maintained by Antczak.\n",
    "\n",
    "**DEMO**\n",
    "\n",
    "Run rnaqua using Docker."
   ]
  },
  {
   "cell_type": "code",
   "execution_count": 6,
   "metadata": {
    "collapsed": false
   },
   "outputs": [
    {
     "name": "stdout",
     "output_type": "stream",
     "text": [
      "usage: rnaqua\n",
      " -c,--command <arg>   supported commands: PDB-VALIDATION, DEFORMATION-PROFILE, CLASH-SCORE, ROOT-MEAN-SQUARE-DEVIATION, ALL-INTERACTION-NETWORK-FIDELITY-SCORES-AT-ONCE,\n",
      "                      INTERACTION-NETWORK-FIDELITY-WATSON-CRICK, INTERACTION-NETWORK-FIDELITY-NON-WATSON-CRICK, INTERACTION-NETWORK-FIDELITY-STACKING, INTERACTION-NETWORK-FIDELITY-ALL, P-VALUE,\n",
      "                      DEFORMATION-INDEX, ALL-SCORES-AT-ONCE, SEQUENCE, FRAGMENT, ORIGINAL-3D, RENUMERATED-3D\n"
     ]
    }
   ],
   "source": [
    "%%bash \n",
    "docker exec -i rnapuzzles_toolkit_1 /home/demo/rna-puzzles-toolkit/rnaqua-binary/bin/rnaqua.sh -h"
   ]
  },
  {
   "cell_type": "markdown",
   "metadata": {},
   "source": [
    "## PDB-VALIDATION\n"
   ]
  },
  {
   "cell_type": "code",
   "execution_count": 20,
   "metadata": {
    "collapsed": false
   },
   "outputs": [
    {
     "name": "stdout",
     "output_type": "stream",
     "text": [
      "13 Oct 2018 17:54:20 : Command: PDB-VALIDATION\n",
      "Base pairs identification tool: MC-ANNOTATE\n",
      "Consider atoms supported by RNA-Puzzles only: N\n",
      "Output file path: /tmp/validation.xml\n",
      "Multiple PDB models directory path: rna-puzzles-toolkit/rnaqua-binary/use-cases/SINGLE-STRUCTURE-ANALYSIS/PDB-VALIDATION/models/\n",
      "13 Oct 2018 17:54:21 : Command processed properly\n"
     ]
    }
   ],
   "source": [
    "%%bash \n",
    "docker exec -i rnapuzzles_toolkit_1 /home/demo/rna-puzzles-toolkit/rnaqua-binary/bin/rnaqua.sh \\\n",
    "--command PDB-VALIDATION \\\n",
    "--multiple-models-directory-path rna-puzzles-toolkit/rnaqua-binary/use-cases/SINGLE-STRUCTURE-ANALYSIS/PDB-VALIDATION/models/ \\\n",
    "--output-file-path /tmp/validation.xml\n",
    "docker exec -i rnapuzzles_toolkit_1 cat /tmp/validation.xml"
   ]
  },
  {
   "cell_type": "code",
   "execution_count": 21,
   "metadata": {
    "collapsed": false
   },
   "outputs": [
    {
     "name": "stdout",
     "output_type": "stream",
     "text": [
      "<?xml version=\"1.0\" encoding=\"UTF-8\" standalone=\"yes\"?><descriptions><basics><filename>model.pdb</filename><errors><error>No. 5: Omitted record. Atom serial number is not integer (   A5). Residue sequence number is not integer ( 2A1). Unrecognized residue name (Z). X coordinate is not floating-point number (   2.A25). Y coordinate is not floating-point number ( -2A.462). Z coordinate is not floating-point number (  -3.A25).</error></errors></basics></descriptions>"
     ]
    }
   ],
   "source": [
    "%%bash\n",
    "docker exec -i rnapuzzles_toolkit_1 cat /tmp/validation.xml"
   ]
  },
  {
   "cell_type": "code",
   "execution_count": 25,
   "metadata": {
    "collapsed": false
   },
   "outputs": [
    {
     "name": "stdout",
     "output_type": "stream",
     "text": [
      "13 Oct 2018 17:59:12 : Command: PDB-VALIDATION\n",
      "Base pairs identification tool: MC-ANNOTATE\n",
      "Consider atoms supported by RNA-Puzzles only: N\n",
      "Output file path: /tmp/validation.xml\n",
      "Single model PDB file path: rna-puzzles-toolkit/rnaqua-binary/use-cases/SINGLE-STRUCTURE-ANALYSIS/PDB-VALIDATION/models/model.pdb\n",
      "13 Oct 2018 17:59:12 : Command processed properly\n"
     ]
    }
   ],
   "source": [
    "%%bash\n",
    "docker exec -i rnapuzzles_toolkit_1 /home/demo/rna-puzzles-toolkit/rnaqua-binary/bin/rnaqua.sh \\\n",
    "--command PDB-VALIDATION \\\n",
    "--single-model-file-path rna-puzzles-toolkit/rnaqua-binary/use-cases/SINGLE-STRUCTURE-ANALYSIS/PDB-VALIDATION/models/model.pdb \\\n",
    "--output-file-path /tmp/validation.xml"
   ]
  },
  {
   "cell_type": "code",
   "execution_count": 30,
   "metadata": {
    "collapsed": false
   },
   "outputs": [
    {
     "name": "stderr",
     "output_type": "stream",
     "text": [
      "Exception in thread \"main\" javax.ws.rs.ProcessingException: java.net.ConnectException: Connection refused (Connection refused)\n",
      "\tat org.glassfish.jersey.client.internal.HttpUrlConnector.apply(HttpUrlConnector.java:287)\n",
      "\tat org.glassfish.jersey.client.ClientRuntime.invoke(ClientRuntime.java:252)\n",
      "\tat org.glassfish.jersey.client.JerseyInvocation$2.call(JerseyInvocation.java:701)\n",
      "\tat org.glassfish.jersey.internal.Errors.process(Errors.java:315)\n",
      "\tat org.glassfish.jersey.internal.Errors.process(Errors.java:297)\n",
      "\tat org.glassfish.jersey.internal.Errors.process(Errors.java:228)\n",
      "\tat org.glassfish.jersey.process.internal.RequestScope.runInScope(RequestScope.java:444)\n",
      "\tat org.glassfish.jersey.client.JerseyInvocation.invoke(JerseyInvocation.java:697)\n",
      "\tat org.glassfish.jersey.client.JerseyInvocation$Builder.method(JerseyInvocation.java:420)\n",
      "\tat org.glassfish.jersey.client.JerseyInvocation$Builder.get(JerseyInvocation.java:316)\n",
      "\tat edu.put.ma.Assessment.getTemplates(Assessment.java:58)\n",
      "\tat edu.put.ma.Assessment.initTemplates(Assessment.java:53)\n",
      "\tat edu.put.ma.Assessment.<init>(Assessment.java:48)\n",
      "\tat edu.put.ma.Assessment.main(Assessment.java:89)\n",
      "Caused by: java.net.ConnectException: Connection refused (Connection refused)\n",
      "\tat java.net.PlainSocketImpl.socketConnect(Native Method)\n",
      "\tat java.net.AbstractPlainSocketImpl.doConnect(AbstractPlainSocketImpl.java:350)\n",
      "\tat java.net.AbstractPlainSocketImpl.connectToAddress(AbstractPlainSocketImpl.java:206)\n",
      "\tat java.net.AbstractPlainSocketImpl.connect(AbstractPlainSocketImpl.java:188)\n",
      "\tat java.net.SocksSocketImpl.connect(SocksSocketImpl.java:392)\n",
      "\tat java.net.Socket.connect(Socket.java:589)\n",
      "\tat sun.security.ssl.SSLSocketImpl.connect(SSLSocketImpl.java:673)\n",
      "\tat sun.net.NetworkClient.doConnect(NetworkClient.java:175)\n",
      "\tat sun.net.www.http.HttpClient.openServer(HttpClient.java:463)\n",
      "\tat sun.net.www.http.HttpClient.openServer(HttpClient.java:558)\n",
      "\tat sun.net.www.protocol.https.HttpsClient.<init>(HttpsClient.java:264)\n",
      "\tat sun.net.www.protocol.https.HttpsClient.New(HttpsClient.java:367)\n",
      "\tat sun.net.www.protocol.https.AbstractDelegateHttpsURLConnection.getNewHttpClient(AbstractDelegateHttpsURLConnection.java:191)\n",
      "\tat sun.net.www.protocol.http.HttpURLConnection.plainConnect0(HttpURLConnection.java:1156)\n",
      "\tat sun.net.www.protocol.http.HttpURLConnection.plainConnect(HttpURLConnection.java:1050)\n",
      "\tat sun.net.www.protocol.https.AbstractDelegateHttpsURLConnection.connect(AbstractDelegateHttpsURLConnection.java:177)\n",
      "\tat sun.net.www.protocol.http.HttpURLConnection.getInputStream0(HttpURLConnection.java:1564)\n",
      "\tat sun.net.www.protocol.http.HttpURLConnection.getInputStream(HttpURLConnection.java:1492)\n",
      "\tat java.net.HttpURLConnection.getResponseCode(HttpURLConnection.java:480)\n",
      "\tat sun.net.www.protocol.https.HttpsURLConnectionImpl.getResponseCode(HttpsURLConnectionImpl.java:347)\n",
      "\tat org.glassfish.jersey.client.internal.HttpUrlConnector._apply(HttpUrlConnector.java:399)\n",
      "\tat org.glassfish.jersey.client.internal.HttpUrlConnector.apply(HttpUrlConnector.java:285)\n",
      "\t... 13 more\n"
     ]
    }
   ],
   "source": [
    "%%bash\n",
    "CURRENT_DIR=\"/home/demo/rna-puzzles-toolkit/rnaqua-binary/use-cases/ANALYSIS-WITHIN-CONTEXT-OF-REFERENCE-STRUCTURE/SCORES/INTERACTION-NETWORK-FIDELITY-ALL\"\n",
    "docker exec -i rnapuzzles_toolkit_1 /home/demo/rna-puzzles-toolkit/rnaqua-binary/bin/rnaqua.sh \\\n",
    "--command INTERACTION-NETWORK-FIDELITY-ALL \\\n",
    "--reference-structure-file-path \"${CURRENT_DIR}/continuous-models/8_0_solution_4L81_rpr.pdb\" \\\n",
    "--multiple-models-directory-path \"${CURRENT_DIR}/continuous-models/models\" \\\n",
    "--output-file-path /tmp/14_ChenPostExp_1_rpr.xml\n",
    "docker exec -i rnapuzzles_toolkit_1 cat /tmp/14_ChenPostExp_1_rpr.xml"
   ]
  },
  {
   "cell_type": "markdown",
   "metadata": {},
   "source": [
    "## Clash Score"
   ]
  },
  {
   "cell_type": "markdown",
   "metadata": {},
   "source": [
    "    14_ChenPostExp_1_rpr.pdb:U_1,31|U_33,29"
   ]
  },
  {
   "cell_type": "code",
   "execution_count": 6,
   "metadata": {
    "collapsed": false
   },
   "outputs": [
    {
     "name": "stdout",
     "output_type": "stream",
     "text": [
      "14 Oct 2018 17:38:19 : Command: CLASH-SCORE\n",
      "Alignment: 14_ChenPostExp_1_rpr.pdb:U_1_ ,31|U_33_ ,29\n",
      "Base pairs identification tool: MC-ANNOTATE\n",
      "Consider atoms supported by RNA-Puzzles only: N\n",
      "Output file path: /tmp/14_ChenPostExp_1_rpr.xml\n",
      "Single model PDB file path: rna-puzzles-toolkit/rnaqua-binary/use-cases/SINGLE-STRUCTURE-ANALYSIS/SCORES/CLASH-SCORE/incontinuous-models/14_ChenPostExp_1_rpr.pdb\n",
      "14 Oct 2018 17:38:30 : Command processed properly\n"
     ]
    }
   ],
   "source": [
    "%%bash\n",
    "CURRENT_DIR=\"rna-puzzles-toolkit/rnaqua-binary/use-cases/SINGLE-STRUCTURE-ANALYSIS/SCORES/CLASH-SCORE\"\n",
    "docker exec -i rnapuzzles_toolkit_1 /home/demo/rna-puzzles-toolkit/rnaqua-binary/bin/rnaqua.sh --command CLASH-SCORE --single-model-file-path \\\n",
    "\"${CURRENT_DIR}/incontinuous-models/14_ChenPostExp_1_rpr.pdb\" \\\n",
    "--alignment \"14_ChenPostExp_1_rpr.pdb:U_1,31|U_33,29\" --output-file-path /tmp/14_ChenPostExp_1_rpr.xml"
   ]
  },
  {
   "cell_type": "code",
   "execution_count": 7,
   "metadata": {
    "collapsed": false
   },
   "outputs": [
    {
     "name": "stdout",
     "output_type": "stream",
     "text": [
      "<?xml version=\"1.0\" encoding=\"UTF-8\" standalone=\"yes\"?><measureScores><structure><description><filename>14_ChenPostExp_1_rpr.pdb</filename><errors/></description><score>2.06</score></structure></measureScores>"
     ]
    }
   ],
   "source": [
    "%%bash\n",
    "CURRENT_DIR=\"rna-puzzles-toolkit/rnaqua-binary/use-cases/SINGLE-STRUCTURE-ANALYSIS/SCORES/CLASH-SCORE\"\n",
    "docker exec -i rnapuzzles_toolkit_1 cat /tmp/14_ChenPostExp_1_rpr.xml\n",
    "#\n",
    "#<?xml version=\"1.0\" encoding=\"UTF-8\" standalone=\"yes\"?>\n",
    "#<measureScores><structure><description><filename>14_ChenPostExp_1_rpr.pdb</filename><errors/></description><score>2.06</score></structure></measureScores>\n",
    "#"
   ]
  },
  {
   "cell_type": "markdown",
   "metadata": {},
   "source": [
    "## Structure 3D"
   ]
  },
  {
   "cell_type": "markdown",
   "metadata": {},
   "source": [
    "**ORIGINAL-3D** and **RENUMERATED-3D**\n",
    "\n",
    "An extraction (**ORIGINAL-3D**) and unification (**RENUMERATED-3D**) of RNA 3D model(s) or a set of incontinuous 3D substructures specified by the user which are additionally superimposed over the corresponding 3D structure/substructures of the reference. At the output, ZIP archive including the coordinates of the reference structure as well as all considered RNA 3D model(s) is returned."
   ]
  },
  {
   "cell_type": "markdown",
   "metadata": {},
   "source": [
    "**Alignment**\n",
    "\n",
    "To ensure robustness of quality assessment process a user can specify the appropriate alignment (-a,--alignment) between the reference 3D structure and all analyzed RNA 3D model(s) which often differ slightly in sequence, distribution of chains or numbering of residues. \n",
    "\n",
    "An example of alignment prepared between the reference structure (solution.pdb) and a single RNA 3D model (model.pdb) is presented below. This alignment considers two incontinuous 3D substructures. Moreover, there is also incompatibility of chain id between compared 3D structures. \n",
    "\n",
    "Each substructure is described by id of its first residue [i.e., chain id + '_' + residue serial number + '_' + insertion code (if needed)] and length. To integrate many 3D substructures within a single alignment prepared for the particular RNA 3D structure(s) their descriptions are separated by '|'. Alignments prepared for the reference structure as well as the analyzed RNA 3D models combined into a single string are separated by ';'. Alignment prepared for the reference structure should be always included at the beginning of this string."
   ]
  },
  {
   "cell_type": "code",
   "execution_count": 3,
   "metadata": {
    "collapsed": false
   },
   "outputs": [
    {
     "name": "stdout",
     "output_type": "stream",
     "text": [
      "14 Oct 2018 17:37:48 : Command: RENUMERATED-3D\n",
      "Alignment: 14_ChenPostExp_1_rpr.pdb:U_1_ ,31|U_33_ ,29\n",
      "Base pairs identification tool: MC-ANNOTATE\n",
      "Consider atoms supported by RNA-Puzzles only: N\n",
      "Output file path: /home/demo/14_ChenPostExp_1_rpr.zip\n",
      "Multiple PDB models directory path: rna-puzzles-toolkit/rnaqua-binary/use-cases/SINGLE-STRUCTURE-ANALYSIS/STRUCTURE-3D/RENUMERATED-3D//models\n",
      "14 Oct 2018 17:37:49 : Command processed properly\n"
     ]
    }
   ],
   "source": [
    "%%bash\n",
    "CURRENT_DIR=\"rna-puzzles-toolkit/rnaqua-binary/use-cases/SINGLE-STRUCTURE-ANALYSIS/STRUCTURE-3D/RENUMERATED-3D/\"\n",
    "docker exec -i rnapuzzles_toolkit_1 /home/demo/rna-puzzles-toolkit/rnaqua-binary/bin/rnaqua.sh \\\n",
    "--command RENUMERATED-3D \\\n",
    "--multiple-models-directory-path \"${CURRENT_DIR}/models\" \\\n",
    "--alignment \"14_ChenPostExp_1_rpr.pdb:U_1,31|U_33,29\" \\\n",
    "--output-file-path \"/home/demo/14_ChenPostExp_1_rpr.zip\""
   ]
  },
  {
   "cell_type": "markdown",
   "metadata": {},
   "source": [
    "# rna-tools"
   ]
  },
  {
   "cell_type": "code",
   "execution_count": null,
   "metadata": {
    "collapsed": true
   },
   "outputs": [],
   "source": [
    "@inprogress"
   ]
  }
 ],
 "metadata": {
  "hide_input": false,
  "kernelspec": {
   "display_name": "Python 2",
   "language": "python",
   "name": "python2"
  },
  "language_info": {
   "codemirror_mode": {
    "name": "ipython",
    "version": 2
   },
   "file_extension": ".py",
   "mimetype": "text/x-python",
   "name": "python",
   "nbconvert_exporter": "python",
   "pygments_lexer": "ipython2",
   "version": "2.7.15"
  },
  "toc": {
   "colors": {
    "hover_highlight": "#DAA520",
    "running_highlight": "#FF0000",
    "selected_highlight": "#FFD700"
   },
   "moveMenuLeft": true,
   "nav_menu": {
    "height": "12px",
    "width": "252px"
   },
   "navigate_menu": true,
   "number_sections": true,
   "sideBar": true,
   "threshold": 4,
   "toc_cell": true,
   "toc_position": {
    "height": "940px",
    "left": "0px",
    "right": "1350px",
    "top": "106px",
    "width": "240px"
   },
   "toc_section_display": "block",
   "toc_window_display": true,
   "widenNotebook": false
  }
 },
 "nbformat": 4,
 "nbformat_minor": 2
}
