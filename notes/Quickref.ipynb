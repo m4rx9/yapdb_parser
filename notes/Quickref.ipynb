{
 "cells": [
  {
   "cell_type": "markdown",
   "metadata": {},
   "source": [
    "# Glob"
   ]
  },
  {
   "cell_type": "code",
   "execution_count": 7,
   "metadata": {
    "collapsed": false
   },
   "outputs": [
    {
     "data": {
      "text/plain": [
       "['/home/magnus/work-src/rna-tools/__init__.py',\n",
       " '/home/magnus/work-src/rna-tools/test.py',\n",
       " '/home/magnus/work-src/rna-tools/setup.py']"
      ]
     },
     "execution_count": 7,
     "metadata": {},
     "output_type": "execute_result"
    }
   ],
   "source": [
    "import glob\n",
    "glob.glob(\"/home/magnus/work-src/rna-tools/*py\")"
   ]
  },
  {
   "cell_type": "code",
   "execution_count": 8,
   "metadata": {
    "collapsed": false
   },
   "outputs": [
    {
     "name": "stdout",
     "output_type": "stream",
     "text": [
      "/home/magnus/work-src/rna-tools/__init__.py\n",
      "/home/magnus/work-src/rna-tools/test.py\n",
      "/home/magnus/work-src/rna-tools/setup.py\n"
     ]
    }
   ],
   "source": [
    "for f in glob.glob(\"/home/magnus/work-src/rna-tools/*py\"):\n",
    "    print (f)"
   ]
  },
  {
   "cell_type": "markdown",
   "metadata": {},
   "source": [
    "# Execute a commend"
   ]
  },
  {
   "cell_type": "code",
   "execution_count": 15,
   "metadata": {
    "collapsed": true
   },
   "outputs": [],
   "source": [
    "def exe(cmd):\n",
    "    import subprocess\n",
    "    o = subprocess.Popen(\n",
    "        cmd, shell=True, stdout=subprocess.PIPE, stderr=subprocess.PIPE)\n",
    "    out = o.stdout.read().strip().decode()\n",
    "    err = o.stderr.read().strip().decode()\n",
    "    return out, err"
   ]
  },
  {
   "cell_type": "code",
   "execution_count": 23,
   "metadata": {
    "collapsed": false
   },
   "outputs": [
    {
     "name": "stdout",
     "output_type": "stream",
     "text": [
      "/home/magnus/work-src/rna-tools/__init__.py\n",
      "/home/magnus/work-src/rna-tools/setup.py\n",
      "/home/magnus/work-src/rna-tools/test.py\n"
     ]
    }
   ],
   "source": [
    "cmd = \"ls /home/magnus/work-src/rna-tools/*py\"\n",
    "out, err = exe(cmd)\n",
    "for f in out.split('\\n'):\n",
    "    print f"
   ]
  },
  {
   "cell_type": "markdown",
   "metadata": {},
   "source": [
    "# Pandas: make a data from scratch"
   ]
  },
  {
   "cell_type": "code",
   "execution_count": 37,
   "metadata": {
    "collapsed": false
   },
   "outputs": [
    {
     "data": {
      "text/html": [
       "<div>\n",
       "<table border=\"1\" class=\"dataframe\">\n",
       "  <thead>\n",
       "    <tr style=\"text-align: right;\">\n",
       "      <th></th>\n",
       "      <th># of lines</th>\n",
       "      <th>fn</th>\n",
       "    </tr>\n",
       "  </thead>\n",
       "  <tbody>\n",
       "    <tr>\n",
       "      <th>0</th>\n",
       "      <td>0</td>\n",
       "      <td>/home/magnus/work-src/rna-tools/__init__.py</td>\n",
       "    </tr>\n",
       "    <tr>\n",
       "      <th>1</th>\n",
       "      <td>27</td>\n",
       "      <td>/home/magnus/work-src/rna-tools/setup.py</td>\n",
       "    </tr>\n",
       "    <tr>\n",
       "      <th>2</th>\n",
       "      <td>13</td>\n",
       "      <td>/home/magnus/work-src/rna-tools/test.py</td>\n",
       "    </tr>\n",
       "  </tbody>\n",
       "</table>\n",
       "</div>"
      ],
      "text/plain": [
       "  # of lines                                           fn\n",
       "0          0  /home/magnus/work-src/rna-tools/__init__.py\n",
       "1         27     /home/magnus/work-src/rna-tools/setup.py\n",
       "2         13      /home/magnus/work-src/rna-tools/test.py"
      ]
     },
     "execution_count": 37,
     "metadata": {},
     "output_type": "execute_result"
    }
   ],
   "source": [
    "cmd = \"ls /home/magnus/work-src/rna-tools/*py\"\n",
    "out, err = exe(cmd)\n",
    "\n",
    "    \n",
    "import pandas as pd\n",
    "df = pd.DataFrame()\n",
    "\n",
    "for index, f in enumerate(out.split('\\n')):\n",
    "    out, err = exe('wc -l %s' % f)\n",
    "    nol = out.split()[0]\n",
    "    df = df.append(pd.DataFrame({'fn' : f, '# of lines' : nol}, index=[index]))\n",
    "    \n",
    "df"
   ]
  },
  {
   "cell_type": "code",
   "execution_count": null,
   "metadata": {
    "collapsed": true
   },
   "outputs": [],
   "source": []
  }
 ],
 "metadata": {
  "hide_input": false,
  "kernelspec": {
   "display_name": "Python 2",
   "language": "python",
   "name": "python2"
  },
  "language_info": {
   "codemirror_mode": {
    "name": "ipython",
    "version": 2
   },
   "file_extension": ".py",
   "mimetype": "text/x-python",
   "name": "python",
   "nbconvert_exporter": "python",
   "pygments_lexer": "ipython2",
   "version": "2.7.15"
  },
  "toc": {
   "colors": {
    "hover_highlight": "#DAA520",
    "running_highlight": "#FF0000",
    "selected_highlight": "#FFD700"
   },
   "moveMenuLeft": true,
   "nav_menu": {
    "height": "66px",
    "width": "253px"
   },
   "navigate_menu": true,
   "number_sections": true,
   "sideBar": true,
   "threshold": 4,
   "toc_cell": false,
   "toc_section_display": "block",
   "toc_window_display": true,
   "widenNotebook": false
  }
 },
 "nbformat": 4,
 "nbformat_minor": 2
}
