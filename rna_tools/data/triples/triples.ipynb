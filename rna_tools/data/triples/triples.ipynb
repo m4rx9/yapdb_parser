{
 "cells": [
  {
   "cell_type": "markdown",
   "metadata": {},
   "source": [
    "Data from  A. S. Abu Almakarem, A. I. Petrov, J. Stombaugh, C. L. Zirbel, and N. B. Leontis, “Comprehensive survey and geometric classification of base triples in RNA structures.,” Nucleic Acids Research, vol. 40, no. 4, pp. 1407–1423, Feb. 2012.\n",
    "\n",
    "http://rna.bgsu.edu/triples/triples.php"
   ]
  },
  {
   "cell_type": "code",
   "execution_count": 111,
   "metadata": {},
   "outputs": [],
   "source": [
    "df = pd.read_csv(\"trxN.csv\")"
   ]
  },
  {
   "cell_type": "code",
   "execution_count": 112,
   "metadata": {},
   "outputs": [
    {
     "data": {
      "text/html": [
       "<div>\n",
       "<style scoped>\n",
       "    .dataframe tbody tr th:only-of-type {\n",
       "        vertical-align: middle;\n",
       "    }\n",
       "\n",
       "    .dataframe tbody tr th {\n",
       "        vertical-align: top;\n",
       "    }\n",
       "\n",
       "    .dataframe thead th {\n",
       "        text-align: right;\n",
       "    }\n",
       "</style>\n",
       "<table border=\"1\" class=\"dataframe\">\n",
       "  <thead>\n",
       "    <tr style=\"text-align: right;\">\n",
       "      <th></th>\n",
       "      <th>triple</th>\n",
       "      <th>N</th>\n",
       "      <th>i1</th>\n",
       "      <th>i2</th>\n",
       "      <th>seq</th>\n",
       "    </tr>\n",
       "  </thead>\n",
       "  <tbody>\n",
       "    <tr>\n",
       "      <th>0</th>\n",
       "      <td>tHW_tSW_ACU</td>\n",
       "      <td>2</td>\n",
       "      <td>tHW</td>\n",
       "      <td>tSW</td>\n",
       "      <td>ACU</td>\n",
       "    </tr>\n",
       "    <tr>\n",
       "      <th>1</th>\n",
       "      <td>cWW_cHS_UUU</td>\n",
       "      <td>1</td>\n",
       "      <td>cWW</td>\n",
       "      <td>cHS</td>\n",
       "      <td>UUU</td>\n",
       "    </tr>\n",
       "    <tr>\n",
       "      <th>2</th>\n",
       "      <td>cHW_cHW_UUU</td>\n",
       "      <td>3</td>\n",
       "      <td>cHW</td>\n",
       "      <td>cHW</td>\n",
       "      <td>UUU</td>\n",
       "    </tr>\n",
       "    <tr>\n",
       "      <th>3</th>\n",
       "      <td>cWW_cHS_UUG</td>\n",
       "      <td>6</td>\n",
       "      <td>cWW</td>\n",
       "      <td>cHS</td>\n",
       "      <td>UUG</td>\n",
       "    </tr>\n",
       "    <tr>\n",
       "      <th>4</th>\n",
       "      <td>cWW_cSS_UUG</td>\n",
       "      <td>3</td>\n",
       "      <td>cWW</td>\n",
       "      <td>cSS</td>\n",
       "      <td>UUG</td>\n",
       "    </tr>\n",
       "    <tr>\n",
       "      <th>...</th>\n",
       "      <td>...</td>\n",
       "      <td>...</td>\n",
       "      <td>...</td>\n",
       "      <td>...</td>\n",
       "      <td>...</td>\n",
       "    </tr>\n",
       "    <tr>\n",
       "      <th>287</th>\n",
       "      <td>cSW_tSH_AAA</td>\n",
       "      <td>3</td>\n",
       "      <td>cSW</td>\n",
       "      <td>tSH</td>\n",
       "      <td>AAA</td>\n",
       "    </tr>\n",
       "    <tr>\n",
       "      <th>288</th>\n",
       "      <td>tWH_cSS_AAA</td>\n",
       "      <td>1</td>\n",
       "      <td>tWH</td>\n",
       "      <td>cSS</td>\n",
       "      <td>AAA</td>\n",
       "    </tr>\n",
       "    <tr>\n",
       "      <th>289</th>\n",
       "      <td>tWH_cSS_AAA</td>\n",
       "      <td>2</td>\n",
       "      <td>tWH</td>\n",
       "      <td>cSS</td>\n",
       "      <td>AAA</td>\n",
       "    </tr>\n",
       "    <tr>\n",
       "      <th>290</th>\n",
       "      <td>tHH_tSH_AAA</td>\n",
       "      <td>1</td>\n",
       "      <td>tHH</td>\n",
       "      <td>tSH</td>\n",
       "      <td>AAA</td>\n",
       "    </tr>\n",
       "    <tr>\n",
       "      <th>291</th>\n",
       "      <td>tHH_cSS_AAA</td>\n",
       "      <td>1</td>\n",
       "      <td>tHH</td>\n",
       "      <td>cSS</td>\n",
       "      <td>AAA</td>\n",
       "    </tr>\n",
       "  </tbody>\n",
       "</table>\n",
       "<p>292 rows × 5 columns</p>\n",
       "</div>"
      ],
      "text/plain": [
       "          triple  N   i1   i2  seq\n",
       "0    tHW_tSW_ACU  2  tHW  tSW  ACU\n",
       "1    cWW_cHS_UUU  1  cWW  cHS  UUU\n",
       "2    cHW_cHW_UUU  3  cHW  cHW  UUU\n",
       "3    cWW_cHS_UUG  6  cWW  cHS  UUG\n",
       "4    cWW_cSS_UUG  3  cWW  cSS  UUG\n",
       "..           ... ..  ...  ...  ...\n",
       "287  cSW_tSH_AAA  3  cSW  tSH  AAA\n",
       "288  tWH_cSS_AAA  1  tWH  cSS  AAA\n",
       "289  tWH_cSS_AAA  2  tWH  cSS  AAA\n",
       "290  tHH_tSH_AAA  1  tHH  tSH  AAA\n",
       "291  tHH_cSS_AAA  1  tHH  cSS  AAA\n",
       "\n",
       "[292 rows x 5 columns]"
      ]
     },
     "execution_count": 112,
     "metadata": {},
     "output_type": "execute_result"
    }
   ],
   "source": [
    "df[['i1', 'i2', 'seq']] = df['triple'].str.split('_', 2, expand=True)\n",
    "df"
   ]
  },
  {
   "cell_type": "code",
   "execution_count": 113,
   "metadata": {},
   "outputs": [
    {
     "name": "stdout",
     "output_type": "stream",
     "text": [
      "        triple  N   i1   i2  seq\n",
      "1  cWW_cHS_UUU  1  cWW  cHS  UUU\n",
      "2  cHW_cHW_UUU  3  cHW  cHW  UUU\n"
     ]
    },
    {
     "data": {
      "text/plain": [
       "2"
      ]
     },
     "execution_count": 113,
     "metadata": {},
     "output_type": "execute_result"
    }
   ],
   "source": [
    "x=df[df['seq'] == 'UUU']\n",
    "print(x)\n",
    "len(x)"
   ]
  },
  {
   "cell_type": "code",
   "execution_count": 114,
   "metadata": {},
   "outputs": [],
   "source": [
    "df.to_csv(\"trxN_i1i2seq.csv\")"
   ]
  }
 ],
 "metadata": {
  "hide_input": false,
  "kernelspec": {
   "display_name": "Python 3",
   "language": "python",
   "name": "python3"
  },
  "language_info": {
   "codemirror_mode": {
    "name": "ipython",
    "version": 3
   },
   "file_extension": ".py",
   "mimetype": "text/x-python",
   "name": "python",
   "nbconvert_exporter": "python",
   "pygments_lexer": "ipython3",
   "version": "3.7.4"
  },
  "toc": {
   "colors": {
    "hover_highlight": "#DAA520",
    "running_highlight": "#FF0000",
    "selected_highlight": "#FFD700"
   },
   "moveMenuLeft": true,
   "nav_menu": {
    "height": "12.352940559387207px",
    "width": "252.35293579101562px"
   },
   "navigate_menu": true,
   "number_sections": true,
   "sideBar": true,
   "threshold": 4,
   "toc_cell": false,
   "toc_section_display": "block",
   "toc_window_display": false,
   "widenNotebook": false
  }
 },
 "nbformat": 4,
 "nbformat_minor": 4
}
