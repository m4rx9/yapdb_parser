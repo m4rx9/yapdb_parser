{
 "cells": [
  {
   "cell_type": "markdown",
   "metadata": {
    "toc": "true"
   },
   "source": [
    "# Table of Contents\n",
    " <p><div class=\"lev1 toc-item\"><a href=\"#BasicAssessMetrics\" data-toc-modified-id=\"BasicAssessMetrics-1\"><span class=\"toc-item-num\">1&nbsp;&nbsp;</span>BasicAssessMetrics</a></div><div class=\"lev1 toc-item\"><a href=\"#Deformation-Profile\" data-toc-modified-id=\"Deformation-Profile-2\"><span class=\"toc-item-num\">2&nbsp;&nbsp;</span>Deformation Profile</a></div><div class=\"lev2 toc-item\"><a href=\"#Comparing-two-similar-models\" data-toc-modified-id=\"Comparing-two-similar-models-21\"><span class=\"toc-item-num\">2.1&nbsp;&nbsp;</span>Comparing two similar models</a></div><div class=\"lev2 toc-item\"><a href=\"#Comparing-many-similar-models-in-single-run\" data-toc-modified-id=\"Comparing-many-similar-models-in-single-run-22\"><span class=\"toc-item-num\">2.2&nbsp;&nbsp;</span>Comparing many similar models in single run</a></div><div class=\"lev1 toc-item\"><a href=\"#mcq-cli\" data-toc-modified-id=\"mcq-cli-3\"><span class=\"toc-item-num\">3&nbsp;&nbsp;</span>mcq-cli</a></div><div class=\"lev2 toc-item\"><a href=\"#Local\" data-toc-modified-id=\"Local-31\"><span class=\"toc-item-num\">3.1&nbsp;&nbsp;</span>Local</a></div><div class=\"lev1 toc-item\"><a href=\"#rnaqua:-A-tool-supporting-quality-assessment-of-RNA-3D-structures\" data-toc-modified-id=\"rnaqua:-A-tool-supporting-quality-assessment-of-RNA-3D-structures-4\"><span class=\"toc-item-num\">4&nbsp;&nbsp;</span>rnaqua: A tool supporting quality assessment of RNA 3D structures</a></div><div class=\"lev2 toc-item\"><a href=\"#PDB-VALIDATION\" data-toc-modified-id=\"PDB-VALIDATION-41\"><span class=\"toc-item-num\">4.1&nbsp;&nbsp;</span>PDB-VALIDATION</a></div><div class=\"lev2 toc-item\"><a href=\"#Clash-Score\" data-toc-modified-id=\"Clash-Score-42\"><span class=\"toc-item-num\">4.2&nbsp;&nbsp;</span>Clash Score</a></div><div class=\"lev2 toc-item\"><a href=\"#Structure-3D\" data-toc-modified-id=\"Structure-3D-43\"><span class=\"toc-item-num\">4.3&nbsp;&nbsp;</span>Structure 3D</a></div><div class=\"lev1 toc-item\"><a href=\"#rna-pdb-tools\" data-toc-modified-id=\"rna-pdb-tools-5\"><span class=\"toc-item-num\">5&nbsp;&nbsp;</span>rna-pdb-tools</a></div>"
   ]
  },
  {
   "cell_type": "code",
   "execution_count": 1,
   "metadata": {
    "collapsed": false
   },
   "outputs": [
    {
     "name": "stdout",
     "output_type": "stream",
     "text": [
      "The autoreload extension is already loaded. To reload it, use:\n",
      "  %reload_ext autoreload\n"
     ]
    }
   ],
   "source": [
    "%load_ext autoreload\n",
    "%autoreload 2"
   ]
  },
  {
   "cell_type": "markdown",
   "metadata": {},
   "source": [
    "# BasicAssessMetrics"
   ]
  },
  {
   "cell_type": "code",
   "execution_count": 2,
   "metadata": {
    "collapsed": false
   },
   "outputs": [
    {
     "name": "stderr",
     "output_type": "stream",
     "text": [
      "bash: line 1: curr_path: command not found\n",
      "bash: line 2: cd: opt: No such file or directory\n",
      "Cloning into 'BasicAssessMetrics'...\n"
     ]
    }
   ],
   "source": [
    "%%bash\n",
    "curr_path = `pwd`\n",
    "cd opt\n",
    "git clone https://github.com/RNA-Puzzles/BasicAssessMetrics.git"
   ]
  },
  {
   "cell_type": "code",
   "execution_count": 3,
   "metadata": {
    "collapsed": false
   },
   "outputs": [
    {
     "name": "stdout",
     "output_type": "stream",
     "text": [
      "/Users/magnus/work-src/rna-pdb-tools/rna_pdb_tools/opt/BasicAssessMetrics\n"
     ]
    }
   ],
   "source": [
    "cd rna_pdb_tools/opt/BasicAssessMetrics"
   ]
  },
  {
   "cell_type": "code",
   "execution_count": 6,
   "metadata": {
    "collapsed": false
   },
   "outputs": [],
   "source": [
    "from BasicAssessMetrics import normalize_structure, \\\n",
    "                               interaction_network_fidelity, \\\n",
    "                               calc_RMSD"
   ]
  },
  {
   "cell_type": "code",
   "execution_count": 15,
   "metadata": {
    "collapsed": false
   },
   "outputs": [
    {
     "name": "stderr",
     "output_type": "stream",
     "text": [
      "INFO: Normalization succeded!\n",
      "WARNING    >> Atom P from residue (' ', 1, ' ') not found in target atom list\n",
      "WARNING    >> Atom OP1 from residue (' ', 1, ' ') not found in target atom list\n",
      "WARNING    >> Atom OP2 from residue (' ', 1, ' ') not found in target atom list\n",
      "INFO Partial RMSD --> 7.751173\n",
      "INFO Partial P-Value --> 7.327472e-15\n",
      "WARNING    >> Atom P from residue (' ', 1, ' ') not found in target atom list\n",
      "WARNING    >> Atom OP1 from residue (' ', 1, ' ') not found in target atom list\n",
      "WARNING    >> Atom OP2 from residue (' ', 1, ' ') not found in target atom list\n"
     ]
    },
    {
     "name": "stdout",
     "output_type": "stream",
     "text": [
      "14_ChenPostExp_2\n",
      "  RMSD: 7.751173243045827\n",
      "  pvalue: 7.327471962526033e-15\n",
      "14_ChenPostExp_2, rmsd 7.751173243045827\n",
      "  DI_ALL: 10.643784178530254\n",
      "  INF_ALL: 0.72823472489\n"
     ]
    }
   ],
   "source": [
    "# Normalize PDB format, correct residue names and atom names. \n",
    "normalize_structure('example/14_solution_0.pdb','example/14_solution_normalized.pdb')\n",
    "\n",
    "# calculate RMSD for RNA structures\n",
    "# require biopython\n",
    "rmsd, pvalue = calc_RMSD(\"example/14_solution_0.pdb\",\n",
    "        \"example/14_solution_0.index\",\n",
    "        \"example/14_ChenPostExp_2.pdb\",\n",
    "        \"example/14_ChenPostExp_2.index\")\n",
    "\n",
    "print '14_ChenPostExp_2'\n",
    "print '  RMSD:', rmsd\n",
    "print '  pvalue:', pvalue\n",
    "\n",
    "# calculate InteractionNetworkFidelity and Deformation Index for RNA structures\n",
    "# need to have MA-annotate in the directory or set in mcannotate.py\n",
    "rmsd, DI_ALL, INF_ALL, INF_WC, INF_NWC,INF_STACK = interaction_network_fidelity(\"example/14_solution_0.pdb\",\n",
    "          \"example/14_solution_0.index\",\n",
    "          \"example/14_ChenPostExp_2.pdb\",\n",
    "          \"example/14_ChenPostExp_2.index\")\n",
    "\n",
    "print '14_ChenPostExp_2, rmsd', rmsd\n",
    "print \"  DI_ALL:\", DI_ALL\n",
    "print \"  INF_ALL:\", INF_ALL"
   ]
  },
  {
   "cell_type": "code",
   "execution_count": 9,
   "metadata": {
    "collapsed": false
   },
   "outputs": [
    {
     "name": "stderr",
     "output_type": "stream",
     "text": [
      "example/a04_9c6339e0-591c-498d-9745-1a828f9ee81d_ALL-000001_AA.pdb: No such file or directory\n"
     ]
    }
   ],
   "source": [
    "%%bash\n",
    "less example/a04_9c6339e0-591c-498d-9745-1a828f9ee81d_ALL-000001_AA.pdb"
   ]
  },
  {
   "cell_type": "code",
   "execution_count": 14,
   "metadata": {
    "collapsed": false
   },
   "outputs": [
    {
     "name": "stdout",
     "output_type": "stream",
     "text": [
      "  RMDS   : 7.161515498281355\n",
      "  DI_ALL : -7.161515498281355\n",
      "  INF_ALL: -1.0\n"
     ]
    }
   ],
   "source": [
    "# calculate InteractionNetworkFidelity and Deformation Index for RNA structures\n",
    "# need to have MA-annotate in the directory or set in mcannotate.py\n",
    "rmsd, DI_ALL, INF_ALL, INF_WC, INF_NWC,INF_STACK = interaction_network_fidelity(\"example/a04_9c6339e0-591c-498d-9745-1a828f9ee81d_ALL-000001_AA.pdb\",\n",
    "          None,\n",
    "          \"example/a04_9c6339e0-591c-498d-9745-1a828f9ee81d_ALL-000084_AA.pdb\",\n",
    "          None)\n",
    "\n",
    "print \"  RMDS   :\", rmsd\n",
    "print \"  DI_ALL :\", DI_ALL\n",
    "print \"  INF_ALL:\", INF_ALL"
   ]
  },
  {
   "cell_type": "markdown",
   "metadata": {
    "collapsed": true
   },
   "source": [
    "# Deformation Profile"
   ]
  },
  {
   "cell_type": "markdown",
   "metadata": {},
   "source": [
    "Read [DeformationProfile Manual.pdf](https://github.com/RNA-Puzzles/DeformationProfile/blob/master/manual_1_0_1.pdf) for more details. "
   ]
  },
  {
   "cell_type": "code",
   "execution_count": 91,
   "metadata": {
    "collapsed": false
   },
   "outputs": [
    {
     "name": "stderr",
     "output_type": "stream",
     "text": [
      "Cloning into 'DeformationProfile'...\n"
     ]
    }
   ],
   "source": [
    "%%bash\n",
    "git clone https://github.com/RNA-Puzzles/DeformationProfile.git"
   ]
  },
  {
   "cell_type": "markdown",
   "metadata": {},
   "source": [
    "## Comparing two similar models"
   ]
  },
  {
   "cell_type": "code",
   "execution_count": 92,
   "metadata": {
    "collapsed": false
   },
   "outputs": [
    {
     "ename": "SyntaxError",
     "evalue": "invalid syntax (<ipython-input-92-aaa236dd1b63>, line 1)",
     "output_type": "error",
     "traceback": [
      "\u001b[0;36m  File \u001b[0;32m\"<ipython-input-92-aaa236dd1b63>\"\u001b[0;36m, line \u001b[0;32m1\u001b[0m\n\u001b[0;31m    cd DeformationProfile/examples/ex1\u001b[0m\n\u001b[0m                        ^\u001b[0m\n\u001b[0;31mSyntaxError\u001b[0m\u001b[0;31m:\u001b[0m invalid syntax\n"
     ]
    }
   ],
   "source": [
    "cd DeformationProfile/examples/ex1\n",
    "cd /Users/magnus/work-src/rna-pdb-tools/opt/DeformationProfile"
   ]
  },
  {
   "cell_type": "code",
   "execution_count": 93,
   "metadata": {
    "collapsed": false
   },
   "outputs": [
    {
     "name": "stdout",
     "output_type": "stream",
     "text": [
      "- - - - - - - - - - - - - - - - - - - - - - - - - - - - - - \n",
      "reference:    a.pdb\n",
      "comparing:    b.pdb\n",
      "\n",
      "ref id:       201 202 203 204 205 206 207 208 209 210 211 212 213 214 215 216 217 218 219 220 \n",
      "cmp id:       201 202 203 204 205 206 207 208 209 210 211 212 213 214 215 216 217 218 219 220 \n",
      "\n",
      "ref chain:      B   B   B   B   B   B   B   B   B   B   B   B   B   B   B   B   B   B   B   B \n",
      "cmp chain:      B   B   B   B   B   B   B   B   B   B   B   B   B   B   B   B   B   B   B   B \n",
      "ref residues:   G   G   A   C   U   A   G   C   G   G   A   G   G   C   U   A   G   U   C   C \n",
      "cmp residues:   G   G   A   C   U   A   G   C   G   G   A   G   G   C   U   A   G   U   C   C \n",
      "align. index:   0   1   2   3   4   5   6   7   8   9  10  11  12  13  14  15  16  17  18  19 \n",
      "- - - - - - - - - - - - - - - - - - - - - - - - - - - - - - \n"
     ]
    },
    {
     "name": "stderr",
     "output_type": "stream",
     "text": [
      "opening reference file: 'examples/ex1/a.pdb'\n",
      "opening comparing file: 'examples/ex1/b.pdb'\n",
      "comparing models...\n",
      "\b\b\b\b\b\b\b\b\b\b\b\b\b\b\b\b\b\b\b\b\b\b\b\b\b\b\b\b\b\b\b\b\b\b\b\b\b\b\b\bstep: 0 of 19\b\b\b\b\b\b\b\b\b\b\b\b\b\b\b\b\b\b\b\b\b\b\b\b\b\b\b\b\b\b\b\b\b\b\b\b\b\b\b\bstep: 1 of 19\b\b\b\b\b\b\b\b\b\b\b\b\b\b\b\b\b\b\b\b\b\b\b\b\b\b\b\b\b\b\b\b\b\b\b\b\b\b\b\bstep: 2 of 19\b\b\b\b\b\b\b\b\b\b\b\b\b\b\b\b\b\b\b\b\b\b\b\b\b\b\b\b\b\b\b\b\b\b\b\b\b\b\b\bstep: 3 of 19\b\b\b\b\b\b\b\b\b\b\b\b\b\b\b\b\b\b\b\b\b\b\b\b\b\b\b\b\b\b\b\b\b\b\b\b\b\b\b\bstep: 4 of 19\b\b\b\b\b\b\b\b\b\b\b\b\b\b\b\b\b\b\b\b\b\b\b\b\b\b\b\b\b\b\b\b\b\b\b\b\b\b\b\bstep: 5 of 19\b\b\b\b\b\b\b\b\b\b\b\b\b\b\b\b\b\b\b\b\b\b\b\b\b\b\b\b\b\b\b\b\b\b\b\b\b\b\b\bstep: 6 of 19\b\b\b\b\b\b\b\b\b\b\b\b\b\b\b\b\b\b\b\b\b\b\b\b\b\b\b\b\b\b\b\b\b\b\b\b\b\b\b\bstep: 7 of 19\b\b\b\b\b\b\b\b\b\b\b\b\b\b\b\b\b\b\b\b\b\b\b\b\b\b\b\b\b\b\b\b\b\b\b\b\b\b\b\bstep: 8 of 19\b\b\b\b\b\b\b\b\b\b\b\b\b\b\b\b\b\b\b\b\b\b\b\b\b\b\b\b\b\b\b\b\b\b\b\b\b\b\b\bstep: 9 of 19\b\b\b\b\b\b\b\b\b\b\b\b\b\b\b\b\b\b\b\b\b\b\b\b\b\b\b\b\b\b\b\b\b\b\b\b\b\b\b\bstep: 10 of 19\b\b\b\b\b\b\b\b\b\b\b\b\b\b\b\b\b\b\b\b\b\b\b\b\b\b\b\b\b\b\b\b\b\b\b\b\b\b\b\bstep: 11 of 19\b\b\b\b\b\b\b\b\b\b\b\b\b\b\b\b\b\b\b\b\b\b\b\b\b\b\b\b\b\b\b\b\b\b\b\b\b\b\b\bstep: 12 of 19\b\b\b\b\b\b\b\b\b\b\b\b\b\b\b\b\b\b\b\b\b\b\b\b\b\b\b\b\b\b\b\b\b\b\b\b\b\b\b\bstep: 13 of 19\b\b\b\b\b\b\b\b\b\b\b\b\b\b\b\b\b\b\b\b\b\b\b\b\b\b\b\b\b\b\b\b\b\b\b\b\b\b\b\bstep: 14 of 19\b\b\b\b\b\b\b\b\b\b\b\b\b\b\b\b\b\b\b\b\b\b\b\b\b\b\b\b\b\b\b\b\b\b\b\b\b\b\b\bstep: 15 of 19\b\b\b\b\b\b\b\b\b\b\b\b\b\b\b\b\b\b\b\b\b\b\b\b\b\b\b\b\b\b\b\b\b\b\b\b\b\b\b\bstep: 16 of 19\b\b\b\b\b\b\b\b\b\b\b\b\b\b\b\b\b\b\b\b\b\b\b\b\b\b\b\b\b\b\b\b\b\b\b\b\b\b\b\bstep: 17 of 19\b\b\b\b\b\b\b\b\b\b\b\b\b\b\b\b\b\b\b\b\b\b\b\b\b\b\b\b\b\b\b\b\b\b\b\b\b\b\b\bstep: 18 of 19\b\b\b\b\b\b\b\b\b\b\b\b\b\b\b\b\b\b\b\b\b\b\b\b\b\b\b\b\b\b\b\b\b\b\b\b\b\b\b\bstep: 19 of 19\b\b\b\b\b\b\b\b\b\b\b\b\b\b\b\b\b\b\b\b\b\b\b\b\b\b\b\b\b\b\b\b\b\b\b\b\b\b\b\bdone\n",
      "saving data file...\n",
      "saving svg file...\n"
     ]
    }
   ],
   "source": [
    "%%bash\n",
    "python dp.py examples/ex1/a.pdb examples/ex1/b.pdb"
   ]
  },
  {
   "cell_type": "markdown",
   "metadata": {},
   "source": [
    "![x](opt/DeformationProfile/examples/ex1/b.svg)"
   ]
  },
  {
   "cell_type": "code",
   "execution_count": 94,
   "metadata": {
    "collapsed": false
   },
   "outputs": [
    {
     "name": "stdout",
     "output_type": "stream",
     "text": [
      "#DP 1.0\n",
      "REF_PDB\texamples/ex1/a.pdb\n",
      "REF_MODEL\t0\n",
      "REF_MODEL_SEQUENCE\tGGACUAGCGGAGGCUAGUCC\n",
      "REF_MODEL_RESIDUES\t(B:201:'G  ')(B:202:'G  ')(B:203:'A  ')(B:204:'C  ')(B:205:'U  ')(B:206:'A  ')(B:207:'G  ')(B:208:'C  ')(B:209:'G  ')(B:210:'G  ')(B:211:'A  ')(B:212:'G  ')(B:213:'G  ')(B:214:'C  ')(B:215:'U  ')(B:216:'A  ')(B:217:'G  ')(B:218:'U  ')(B:219:'C  ')(B:220:'C  ')\n",
      "CMP_PDB\texamples/ex1/b.pdb\n",
      "CMP_MODEL\t0\n",
      "CMP_MODEL_SEQUENCE\tGGACUAGCGGAGGCUAGUCC\n",
      "CMP_MODEL_RESIDUES\t(B:201:'G  ')(B:202:'G  ')(B:203:'A  ')(B:204:'C  ')(B:205:'U  ')(B:206:'A  ')(B:207:'G  ')(B:208:'C  ')(B:209:'G  ')(B:210:'G  ')(B:211:'A  ')(B:212:'G  ')(B:213:'G  ')(B:214:'C  ')(B:215:'U  ')(B:216:'A  ')(B:217:'G  ')(B:218:'U  ')(B:219:'C  ')(B:220:'C  ')\n",
      "LOCAL_RMSD\t0.455\t0.170\t0.093\t0.386\t0.876\t0.140\t0.162\t0.361\t0.782\t1.005\t0.132\t0.488\t0.977\t0.388\t0.338\t0.484\t0.115\t0.164\t0.106\t0.072\n",
      "ROW_MEANS\t3.090\t2.476\t2.573\t2.873\t2.802\t1.524\t1.490\t1.833\t4.401\t3.858\t2.353\t2.725\t6.356\t2.263\t1.805\t2.301\t2.531\t2.065\t2.437\t3.917\n",
      "COL_MEANS\t3.518\t3.125\t2.749\t2.337\t1.941\t1.827\t1.979\t2.699\t3.295\t4.629\t4.076\t3.247\t3.234\t2.218\t1.947\t1.768\t1.826\t2.388\t3.021\t3.851\n",
      "ROW_0\t0.275\t0.775\t1.311\t1.894\t2.631\t2.695\t2.894\t4.142\t5.199\t6.791\t6.582\t5.425\t5.092\t3.335\t2.708\t2.299\t2.138\t2.176\t1.817\t1.619\n",
      "ROW_1\t0.598\t0.146\t0.228\t0.514\t0.817\t1.478\t2.389\t4.116\t5.210\t7.493\t6.986\t5.288\t5.262\t3.322\t2.458\t1.217\t0.537\t0.260\t0.297\t0.897\n",
      "ROW_2\t0.784\t0.280\t0.079\t0.410\t0.925\t1.524\t2.457\t4.141\t5.234\t7.380\t7.018\t5.348\t5.437\t3.579\t2.793\t1.595\t0.786\t0.505\t0.314\t0.882\n"
     ]
    }
   ],
   "source": [
    "%%bash\n",
    "head -n 15 examples/ex1/b.dat"
   ]
  },
  {
   "cell_type": "markdown",
   "metadata": {},
   "source": [
    "## Comparing many similar models in single run"
   ]
  },
  {
   "cell_type": "code",
   "execution_count": 103,
   "metadata": {
    "collapsed": false
   },
   "outputs": [
    {
     "name": "stdout",
     "output_type": "stream",
     "text": [
      "- - - - - - - - - - - - - - - - - - - - - - - - - - - - - - \n",
      "reference:    a.pdb\n",
      "comparing:    b1.pdb\n",
      "\n",
      "ref id:       201 202 203 204 205 206 207 208 209 210 211 212 213 214 215 216 217 218 219 220 \n",
      "cmp id:       201 202 203 204 205 206 207 208 209 210 211 212 213 214 215 216 217 218 219 220 \n",
      "\n",
      "ref chain:      B   B   B   B   B   B   B   B   B   B   B   B   B   B   B   B   B   B   B   B \n",
      "cmp chain:      B   B   B   B   B   B   B   B   B   B   B   B   B   B   B   B   B   B   B   B \n",
      "ref residues:   G   G   A   C   U   A   G   C   G   G   A   G   G   C   U   A   G   U   C   C \n",
      "cmp residues:   G   G   A   C   U   A   G   C   G   G   A   G   G   C   U   A   G   U   C   C \n",
      "align. index:   0   1   2   3   4   5   6   7   8   9  10  11  12  13  14  15  16  17  18  19 \n",
      "- - - - - - - - - - - - - - - - - - - - - - - - - - - - - - \n",
      "- - - - - - - - - - - - - - - - - - - - - - - - - - - - - - \n",
      "reference:    a.pdb\n",
      "comparing:    b2.pdb\n",
      "\n",
      "ref id:       201 202 203 204 205 206 207 208 209 210 211 212 213 214 215 216 217 218 219 220 \n",
      "cmp id:       201 202 203 204 205 206 207 208 209 210 211 212 213 214 215 216 217 218 219 220 \n",
      "\n",
      "ref chain:      B   B   B   B   B   B   B   B   B   B   B   B   B   B   B   B   B   B   B   B \n",
      "cmp chain:      B   B   B   B   B   B   B   B   B   B   B   B   B   B   B   B   B   B   B   B \n",
      "ref residues:   G   G   A   C   U   A   G   C   G   G   A   G   G   C   U   A   G   U   C   C \n",
      "cmp residues:   G   G   A   C   U   A   G   C   G   G   A   G   G   C   U   A   G   U   C   C \n",
      "align. index:   0   1   2   3   4   5   6   7   8   9  10  11  12  13  14  15  16  17  18  19 \n",
      "- - - - - - - - - - - - - - - - - - - - - - - - - - - - - - \n",
      "- - - - - - - - - - - - - - - - - - - - - - - - - - - - - - \n",
      "reference:    a.pdb\n",
      "comparing:    b3.pdb\n",
      "\n",
      "ref id:       201 202 203 204 205 206 207 208 209 210 211 212 213 214 215 216 217 218 219 220 \n",
      "cmp id:       201 202 203 204 205 206 207 208 209 210 211 212 213 214 215 216 217 218 219 220 \n",
      "\n",
      "ref chain:      B   B   B   B   B   B   B   B   B   B   B   B   B   B   B   B   B   B   B   B \n",
      "cmp chain:      B   B   B   B   B   B   B   B   B   B   B   B   B   B   B   B   B   B   B   B \n",
      "ref residues:   G   G   A   C   U   A   G   C   G   G   A   G   G   C   U   A   G   U   C   C \n",
      "cmp residues:   G   G   A   C   U   A   G   C   G   G   A   G   G   C   U   A   G   U   C   C \n",
      "align. index:   0   1   2   3   4   5   6   7   8   9  10  11  12  13  14  15  16  17  18  19 \n",
      "- - - - - - - - - - - - - - - - - - - - - - - - - - - - - - \n"
     ]
    },
    {
     "name": "stderr",
     "output_type": "stream",
     "text": [
      "mkdir: out: File exists\n",
      "opening reference file: './ref/a.pdb'\n",
      "opening comparing file: './cmp/b1.pdb'\n",
      "comparing models...\n",
      "\b\b\b\b\b\b\b\b\b\b\b\b\b\b\b\b\b\b\b\b\b\b\b\b\b\b\b\b\b\b\b\b\b\b\b\b\b\b\b\bstep: 0 of 19\b\b\b\b\b\b\b\b\b\b\b\b\b\b\b\b\b\b\b\b\b\b\b\b\b\b\b\b\b\b\b\b\b\b\b\b\b\b\b\bstep: 1 of 19\b\b\b\b\b\b\b\b\b\b\b\b\b\b\b\b\b\b\b\b\b\b\b\b\b\b\b\b\b\b\b\b\b\b\b\b\b\b\b\bstep: 2 of 19\b\b\b\b\b\b\b\b\b\b\b\b\b\b\b\b\b\b\b\b\b\b\b\b\b\b\b\b\b\b\b\b\b\b\b\b\b\b\b\bstep: 3 of 19\b\b\b\b\b\b\b\b\b\b\b\b\b\b\b\b\b\b\b\b\b\b\b\b\b\b\b\b\b\b\b\b\b\b\b\b\b\b\b\bstep: 4 of 19\b\b\b\b\b\b\b\b\b\b\b\b\b\b\b\b\b\b\b\b\b\b\b\b\b\b\b\b\b\b\b\b\b\b\b\b\b\b\b\bstep: 5 of 19\b\b\b\b\b\b\b\b\b\b\b\b\b\b\b\b\b\b\b\b\b\b\b\b\b\b\b\b\b\b\b\b\b\b\b\b\b\b\b\bstep: 6 of 19\b\b\b\b\b\b\b\b\b\b\b\b\b\b\b\b\b\b\b\b\b\b\b\b\b\b\b\b\b\b\b\b\b\b\b\b\b\b\b\bstep: 7 of 19\b\b\b\b\b\b\b\b\b\b\b\b\b\b\b\b\b\b\b\b\b\b\b\b\b\b\b\b\b\b\b\b\b\b\b\b\b\b\b\bstep: 8 of 19\b\b\b\b\b\b\b\b\b\b\b\b\b\b\b\b\b\b\b\b\b\b\b\b\b\b\b\b\b\b\b\b\b\b\b\b\b\b\b\bstep: 9 of 19\b\b\b\b\b\b\b\b\b\b\b\b\b\b\b\b\b\b\b\b\b\b\b\b\b\b\b\b\b\b\b\b\b\b\b\b\b\b\b\bstep: 10 of 19\b\b\b\b\b\b\b\b\b\b\b\b\b\b\b\b\b\b\b\b\b\b\b\b\b\b\b\b\b\b\b\b\b\b\b\b\b\b\b\bstep: 11 of 19\b\b\b\b\b\b\b\b\b\b\b\b\b\b\b\b\b\b\b\b\b\b\b\b\b\b\b\b\b\b\b\b\b\b\b\b\b\b\b\bstep: 12 of 19\b\b\b\b\b\b\b\b\b\b\b\b\b\b\b\b\b\b\b\b\b\b\b\b\b\b\b\b\b\b\b\b\b\b\b\b\b\b\b\bstep: 13 of 19\b\b\b\b\b\b\b\b\b\b\b\b\b\b\b\b\b\b\b\b\b\b\b\b\b\b\b\b\b\b\b\b\b\b\b\b\b\b\b\bstep: 14 of 19\b\b\b\b\b\b\b\b\b\b\b\b\b\b\b\b\b\b\b\b\b\b\b\b\b\b\b\b\b\b\b\b\b\b\b\b\b\b\b\bstep: 15 of 19\b\b\b\b\b\b\b\b\b\b\b\b\b\b\b\b\b\b\b\b\b\b\b\b\b\b\b\b\b\b\b\b\b\b\b\b\b\b\b\bstep: 16 of 19\b\b\b\b\b\b\b\b\b\b\b\b\b\b\b\b\b\b\b\b\b\b\b\b\b\b\b\b\b\b\b\b\b\b\b\b\b\b\b\bstep: 17 of 19\b\b\b\b\b\b\b\b\b\b\b\b\b\b\b\b\b\b\b\b\b\b\b\b\b\b\b\b\b\b\b\b\b\b\b\b\b\b\b\bstep: 18 of 19\b\b\b\b\b\b\b\b\b\b\b\b\b\b\b\b\b\b\b\b\b\b\b\b\b\b\b\b\b\b\b\b\b\b\b\b\b\b\b\bstep: 19 of 19\b\b\b\b\b\b\b\b\b\b\b\b\b\b\b\b\b\b\b\b\b\b\b\b\b\b\b\b\b\b\b\b\b\b\b\b\b\b\b\bdone\n",
      "saving data file...\n",
      "saving svg file...\n",
      "opening comparing file: './cmp/b2.pdb'\n",
      "comparing models...\n",
      "\b\b\b\b\b\b\b\b\b\b\b\b\b\b\b\b\b\b\b\b\b\b\b\b\b\b\b\b\b\b\b\b\b\b\b\b\b\b\b\bstep: 0 of 19\b\b\b\b\b\b\b\b\b\b\b\b\b\b\b\b\b\b\b\b\b\b\b\b\b\b\b\b\b\b\b\b\b\b\b\b\b\b\b\bstep: 1 of 19\b\b\b\b\b\b\b\b\b\b\b\b\b\b\b\b\b\b\b\b\b\b\b\b\b\b\b\b\b\b\b\b\b\b\b\b\b\b\b\bstep: 2 of 19\b\b\b\b\b\b\b\b\b\b\b\b\b\b\b\b\b\b\b\b\b\b\b\b\b\b\b\b\b\b\b\b\b\b\b\b\b\b\b\bstep: 3 of 19\b\b\b\b\b\b\b\b\b\b\b\b\b\b\b\b\b\b\b\b\b\b\b\b\b\b\b\b\b\b\b\b\b\b\b\b\b\b\b\bstep: 4 of 19\b\b\b\b\b\b\b\b\b\b\b\b\b\b\b\b\b\b\b\b\b\b\b\b\b\b\b\b\b\b\b\b\b\b\b\b\b\b\b\bstep: 5 of 19\b\b\b\b\b\b\b\b\b\b\b\b\b\b\b\b\b\b\b\b\b\b\b\b\b\b\b\b\b\b\b\b\b\b\b\b\b\b\b\bstep: 6 of 19\b\b\b\b\b\b\b\b\b\b\b\b\b\b\b\b\b\b\b\b\b\b\b\b\b\b\b\b\b\b\b\b\b\b\b\b\b\b\b\bstep: 7 of 19\b\b\b\b\b\b\b\b\b\b\b\b\b\b\b\b\b\b\b\b\b\b\b\b\b\b\b\b\b\b\b\b\b\b\b\b\b\b\b\bstep: 8 of 19\b\b\b\b\b\b\b\b\b\b\b\b\b\b\b\b\b\b\b\b\b\b\b\b\b\b\b\b\b\b\b\b\b\b\b\b\b\b\b\bstep: 9 of 19\b\b\b\b\b\b\b\b\b\b\b\b\b\b\b\b\b\b\b\b\b\b\b\b\b\b\b\b\b\b\b\b\b\b\b\b\b\b\b\bstep: 10 of 19\b\b\b\b\b\b\b\b\b\b\b\b\b\b\b\b\b\b\b\b\b\b\b\b\b\b\b\b\b\b\b\b\b\b\b\b\b\b\b\bstep: 11 of 19\b\b\b\b\b\b\b\b\b\b\b\b\b\b\b\b\b\b\b\b\b\b\b\b\b\b\b\b\b\b\b\b\b\b\b\b\b\b\b\bstep: 12 of 19\b\b\b\b\b\b\b\b\b\b\b\b\b\b\b\b\b\b\b\b\b\b\b\b\b\b\b\b\b\b\b\b\b\b\b\b\b\b\b\bstep: 13 of 19\b\b\b\b\b\b\b\b\b\b\b\b\b\b\b\b\b\b\b\b\b\b\b\b\b\b\b\b\b\b\b\b\b\b\b\b\b\b\b\bstep: 14 of 19\b\b\b\b\b\b\b\b\b\b\b\b\b\b\b\b\b\b\b\b\b\b\b\b\b\b\b\b\b\b\b\b\b\b\b\b\b\b\b\bstep: 15 of 19\b\b\b\b\b\b\b\b\b\b\b\b\b\b\b\b\b\b\b\b\b\b\b\b\b\b\b\b\b\b\b\b\b\b\b\b\b\b\b\bstep: 16 of 19\b\b\b\b\b\b\b\b\b\b\b\b\b\b\b\b\b\b\b\b\b\b\b\b\b\b\b\b\b\b\b\b\b\b\b\b\b\b\b\bstep: 17 of 19\b\b\b\b\b\b\b\b\b\b\b\b\b\b\b\b\b\b\b\b\b\b\b\b\b\b\b\b\b\b\b\b\b\b\b\b\b\b\b\bstep: 18 of 19\b\b\b\b\b\b\b\b\b\b\b\b\b\b\b\b\b\b\b\b\b\b\b\b\b\b\b\b\b\b\b\b\b\b\b\b\b\b\b\bstep: 19 of 19\b\b\b\b\b\b\b\b\b\b\b\b\b\b\b\b\b\b\b\b\b\b\b\b\b\b\b\b\b\b\b\b\b\b\b\b\b\b\b\bdone\n",
      "saving data file...\n",
      "saving svg file...\n",
      "opening comparing file: './cmp/b3.pdb'\n",
      "comparing models...\n",
      "\b\b\b\b\b\b\b\b\b\b\b\b\b\b\b\b\b\b\b\b\b\b\b\b\b\b\b\b\b\b\b\b\b\b\b\b\b\b\b\bstep: 0 of 19\b\b\b\b\b\b\b\b\b\b\b\b\b\b\b\b\b\b\b\b\b\b\b\b\b\b\b\b\b\b\b\b\b\b\b\b\b\b\b\bstep: 1 of 19\b\b\b\b\b\b\b\b\b\b\b\b\b\b\b\b\b\b\b\b\b\b\b\b\b\b\b\b\b\b\b\b\b\b\b\b\b\b\b\bstep: 2 of 19\b\b\b\b\b\b\b\b\b\b\b\b\b\b\b\b\b\b\b\b\b\b\b\b\b\b\b\b\b\b\b\b\b\b\b\b\b\b\b\bstep: 3 of 19\b\b\b\b\b\b\b\b\b\b\b\b\b\b\b\b\b\b\b\b\b\b\b\b\b\b\b\b\b\b\b\b\b\b\b\b\b\b\b\bstep: 4 of 19\b\b\b\b\b\b\b\b\b\b\b\b\b\b\b\b\b\b\b\b\b\b\b\b\b\b\b\b\b\b\b\b\b\b\b\b\b\b\b\bstep: 5 of 19\b\b\b\b\b\b\b\b\b\b\b\b\b\b\b\b\b\b\b\b\b\b\b\b\b\b\b\b\b\b\b\b\b\b\b\b\b\b\b\bstep: 6 of 19\b\b\b\b\b\b\b\b\b\b\b\b\b\b\b\b\b\b\b\b\b\b\b\b\b\b\b\b\b\b\b\b\b\b\b\b\b\b\b\bstep: 7 of 19\b\b\b\b\b\b\b\b\b\b\b\b\b\b\b\b\b\b\b\b\b\b\b\b\b\b\b\b\b\b\b\b\b\b\b\b\b\b\b\bstep: 8 of 19\b\b\b\b\b\b\b\b\b\b\b\b\b\b\b\b\b\b\b\b\b\b\b\b\b\b\b\b\b\b\b\b\b\b\b\b\b\b\b\bstep: 9 of 19\b\b\b\b\b\b\b\b\b\b\b\b\b\b\b\b\b\b\b\b\b\b\b\b\b\b\b\b\b\b\b\b\b\b\b\b\b\b\b\bstep: 10 of 19\b\b\b\b\b\b\b\b\b\b\b\b\b\b\b\b\b\b\b\b\b\b\b\b\b\b\b\b\b\b\b\b\b\b\b\b\b\b\b\bstep: 11 of 19\b\b\b\b\b\b\b\b\b\b\b\b\b\b\b\b\b\b\b\b\b\b\b\b\b\b\b\b\b\b\b\b\b\b\b\b\b\b\b\bstep: 12 of 19\b\b\b\b\b\b\b\b\b\b\b\b\b\b\b\b\b\b\b\b\b\b\b\b\b\b\b\b\b\b\b\b\b\b\b\b\b\b\b\bstep: 13 of 19\b\b\b\b\b\b\b\b\b\b\b\b\b\b\b\b\b\b\b\b\b\b\b\b\b\b\b\b\b\b\b\b\b\b\b\b\b\b\b\bstep: 14 of 19\b\b\b\b\b\b\b\b\b\b\b\b\b\b\b\b\b\b\b\b\b\b\b\b\b\b\b\b\b\b\b\b\b\b\b\b\b\b\b\bstep: 15 of 19\b\b\b\b\b\b\b\b\b\b\b\b\b\b\b\b\b\b\b\b\b\b\b\b\b\b\b\b\b\b\b\b\b\b\b\b\b\b\b\bstep: 16 of 19\b\b\b\b\b\b\b\b\b\b\b\b\b\b\b\b\b\b\b\b\b\b\b\b\b\b\b\b\b\b\b\b\b\b\b\b\b\b\b\bstep: 17 of 19\b\b\b\b\b\b\b\b\b\b\b\b\b\b\b\b\b\b\b\b\b\b\b\b\b\b\b\b\b\b\b\b\b\b\b\b\b\b\b\bstep: 18 of 19\b\b\b\b\b\b\b\b\b\b\b\b\b\b\b\b\b\b\b\b\b\b\b\b\b\b\b\b\b\b\b\b\b\b\b\b\b\b\b\bstep: 19 of 19\b\b\b\b\b\b\b\b\b\b\b\b\b\b\b\b\b\b\b\b\b\b\b\b\b\b\b\b\b\b\b\b\b\b\b\b\b\b\b\bdone\n",
      "saving data file...\n",
      "saving svg file...\n"
     ]
    }
   ],
   "source": [
    "%%bash -s \"/Users/magnus/work-src/rna-pdb-tools/opt/DeformationProfile/examples/ex2\"\n",
    "cd $1 \n",
    "mkdir out\n",
    "python ../../dp.py -c ex2a.cfg"
   ]
  },
  {
   "cell_type": "code",
   "execution_count": 105,
   "metadata": {
    "collapsed": false
   },
   "outputs": [
    {
     "name": "stdout",
     "output_type": "stream",
     "text": [
      "- - - - - - - - - - - - - - - - - - - - - - - - - - - - - - \n",
      "reference:    a.pdb\n",
      "comparing:    b.pdb\n",
      "\n",
      "ref id:       201 202 203 204 205 206 207 208 209   0   1   2   3   4   5   6   7   8   9  10 \n",
      "cmp id:         1   2   3   4   5   6   7   8   9  10  11  12  13  14  15  16  17  18  19  20 \n",
      "\n",
      "ref chain:      B   B   B   B   B   B   B   B   B   B   B   B   B   B   B   B   B   B   B   B \n",
      "cmp chain:      A   A   A   A   A   A   A   A   A   A   A   A   A   A   A   A   A   A   A   A \n",
      "ref residues:   G   G   A   C   U   A   G   C   G   G   A   G   G   C   U   A   G   U   C   C \n",
      "cmp residues:   G   G   A   C   U   A   G   C   G   G   A   G   G   C   U   A   G   U   C   C \n",
      "align. index:   0   1   2   3   4   5   6   7   8   9  10  11  12  13  14  15  16  17  18  19 \n",
      "- - - - - - - - - - - - - - - - - - - - - - - - - - - - - - \n"
     ]
    },
    {
     "name": "stderr",
     "output_type": "stream",
     "text": [
      "mkdir: out: File exists\n",
      "opening reference file: 'a.pdb'\n",
      "opening comparing file: 'b.pdb'\n",
      "comparing models...\n",
      "\b\b\b\b\b\b\b\b\b\b\b\b\b\b\b\b\b\b\b\b\b\b\b\b\b\b\b\b\b\b\b\b\b\b\b\b\b\b\b\bstep: 0 of 19\b\b\b\b\b\b\b\b\b\b\b\b\b\b\b\b\b\b\b\b\b\b\b\b\b\b\b\b\b\b\b\b\b\b\b\b\b\b\b\bstep: 1 of 19\b\b\b\b\b\b\b\b\b\b\b\b\b\b\b\b\b\b\b\b\b\b\b\b\b\b\b\b\b\b\b\b\b\b\b\b\b\b\b\bstep: 2 of 19\b\b\b\b\b\b\b\b\b\b\b\b\b\b\b\b\b\b\b\b\b\b\b\b\b\b\b\b\b\b\b\b\b\b\b\b\b\b\b\bstep: 3 of 19\b\b\b\b\b\b\b\b\b\b\b\b\b\b\b\b\b\b\b\b\b\b\b\b\b\b\b\b\b\b\b\b\b\b\b\b\b\b\b\bstep: 4 of 19\b\b\b\b\b\b\b\b\b\b\b\b\b\b\b\b\b\b\b\b\b\b\b\b\b\b\b\b\b\b\b\b\b\b\b\b\b\b\b\bstep: 5 of 19\b\b\b\b\b\b\b\b\b\b\b\b\b\b\b\b\b\b\b\b\b\b\b\b\b\b\b\b\b\b\b\b\b\b\b\b\b\b\b\bstep: 6 of 19\b\b\b\b\b\b\b\b\b\b\b\b\b\b\b\b\b\b\b\b\b\b\b\b\b\b\b\b\b\b\b\b\b\b\b\b\b\b\b\bstep: 7 of 19\b\b\b\b\b\b\b\b\b\b\b\b\b\b\b\b\b\b\b\b\b\b\b\b\b\b\b\b\b\b\b\b\b\b\b\b\b\b\b\bstep: 8 of 19\b\b\b\b\b\b\b\b\b\b\b\b\b\b\b\b\b\b\b\b\b\b\b\b\b\b\b\b\b\b\b\b\b\b\b\b\b\b\b\bstep: 9 of 19\b\b\b\b\b\b\b\b\b\b\b\b\b\b\b\b\b\b\b\b\b\b\b\b\b\b\b\b\b\b\b\b\b\b\b\b\b\b\b\bstep: 10 of 19\b\b\b\b\b\b\b\b\b\b\b\b\b\b\b\b\b\b\b\b\b\b\b\b\b\b\b\b\b\b\b\b\b\b\b\b\b\b\b\bstep: 11 of 19\b\b\b\b\b\b\b\b\b\b\b\b\b\b\b\b\b\b\b\b\b\b\b\b\b\b\b\b\b\b\b\b\b\b\b\b\b\b\b\bstep: 12 of 19\b\b\b\b\b\b\b\b\b\b\b\b\b\b\b\b\b\b\b\b\b\b\b\b\b\b\b\b\b\b\b\b\b\b\b\b\b\b\b\bstep: 13 of 19\b\b\b\b\b\b\b\b\b\b\b\b\b\b\b\b\b\b\b\b\b\b\b\b\b\b\b\b\b\b\b\b\b\b\b\b\b\b\b\bstep: 14 of 19\b\b\b\b\b\b\b\b\b\b\b\b\b\b\b\b\b\b\b\b\b\b\b\b\b\b\b\b\b\b\b\b\b\b\b\b\b\b\b\bstep: 15 of 19\b\b\b\b\b\b\b\b\b\b\b\b\b\b\b\b\b\b\b\b\b\b\b\b\b\b\b\b\b\b\b\b\b\b\b\b\b\b\b\bstep: 16 of 19\b\b\b\b\b\b\b\b\b\b\b\b\b\b\b\b\b\b\b\b\b\b\b\b\b\b\b\b\b\b\b\b\b\b\b\b\b\b\b\bstep: 17 of 19\b\b\b\b\b\b\b\b\b\b\b\b\b\b\b\b\b\b\b\b\b\b\b\b\b\b\b\b\b\b\b\b\b\b\b\b\b\b\b\bstep: 18 of 19\b\b\b\b\b\b\b\b\b\b\b\b\b\b\b\b\b\b\b\b\b\b\b\b\b\b\b\b\b\b\b\b\b\b\b\b\b\b\b\bstep: 19 of 19\b\b\b\b\b\b\b\b\b\b\b\b\b\b\b\b\b\b\b\b\b\b\b\b\b\b\b\b\b\b\b\b\b\b\b\b\b\b\b\bdone\n",
      "saving data file...\n",
      "saving svg file...\n"
     ]
    }
   ],
   "source": [
    "%%bash -s \"/Users/magnus/work-src/rna-pdb-tools/opt/DeformationProfile/examples/ex3\"\n",
    "cd $1 \n",
    "mkdir out\n",
    "python ../../dp.py -c ex3.cfg"
   ]
  },
  {
   "cell_type": "markdown",
   "metadata": {},
   "source": [
    "# mcq-cli"
   ]
  },
  {
   "cell_type": "markdown",
   "metadata": {},
   "source": [
    "[MCQ (Mean of Circular Quantities)](https://github.com/tzok/mcq4structures) has been first presented in the paper “MCQ4Structures to compute similarity of molecule structures” by Zok et al. (Central European Journal of Operations Research, 2014;22(3):457-474. doi: 10.1007/s10100-013-0296-5).\n",
    "\n",
    "[LCS-TA (Longest Continuous Segments in Torsion Angle space)](https://github.com/tzok/mcq4structures) applies a measure first described in the paper “LCS-TA to identify similar fragments in RNA 3D structures” by Wiedemann et al. (BMC Bioinformatics, 2017;18(1):456. doi: 10.1186/s12859-017-1867-6). A full implementation of both methods can be found on github, maintained by Zok and Wiedemann.\n",
    "\n",
    "Most important features of both methods / measures:\n",
    "\n",
    "- MCQ\n",
    "    - The method applies to a pair of 3D structures and is size independent.\n",
    "    - It can be used for a set of structures in all-against-all or all-against-target mode.\n",
    "    - It translates typical algebraic representation of a 3D structure into the trigonometric one (a set of torsion angles).\n",
    "    - It computes the distance between structures in torsion angle space.\n",
    "    - The distance is measured as mean of local distances between the corresponding angles, and provided in degrees.\n",
    "    - The measure is sequence independent.\n",
    "\n",
    "- LCS-TA\n",
    "    - The method applies to a pair of 3D structures and is size independent.\n",
    "    - It uses MCQ-based measure for structure comparison.\n",
    "    - Within the compared structures, it finds the longest continuous segments which display similarity in torsion angle space.\n",
    "    - Two segments are considered similar if their MCQ is below predefined threshold.\n",
    "    - The method provides segment length and its position in the structure.\n",
    "    - The length of the longest continuous segment is a measure of similarity of two structures.\n",
    "    - The method can be run in sequence dependent or sequence independent mode.\n",
    "\n",
    "MCQ is maintained by Zok, while LCS-TA is maintained by Wiedemann"
   ]
  },
  {
   "cell_type": "markdown",
   "metadata": {},
   "source": [
    "Copy some demo files to your Docker image."
   ]
  },
  {
   "cell_type": "code",
   "execution_count": 25,
   "metadata": {
    "collapsed": false
   },
   "outputs": [
    {
     "name": "stdout",
     "output_type": "stream",
     "text": [
      "See if the file are at the Docker image:\n",
      "Run mcq\n",
      "total 36\n",
      "drwxr-xr-x 2 demo demo 4096 Oct 28 20:43 hsperfdata_demo\n",
      "drwxr-xr-x 7 demo demo 4096 Oct 28 20:43 99228ed0-d1af-4b60-9903-da360aa8ce1c\n",
      "drwxr-xr-x 7 demo demo 4096 Oct 28 20:42 14001637-0e41-444a-af71-255c38fbf006\n",
      "drwxr-xr-x 7 demo demo 4096 Oct 28 20:41 42d358d6-f908-488f-b288-4dd52c1dce59\n",
      "drwxr-xr-x 7 demo demo 4096 Oct 28 20:40 87997101-cc0f-4a7e-8b6e-bc5b81702a3a\n",
      "drwxr-xr-x 7 demo demo 4096 Oct 28 20:40 04390fe6-a085-4240-a4e3-d90e7ab9053c\n",
      "drwxr-xr-x 7 demo demo 4096 Oct 28 20:37 0010b609-890c-48ff-a925-a9fd7b7d3cd0\n",
      "drwxr-xr-x 7 demo demo 4096 Oct 28 20:33 a1c796dc-2003-4ba9-91fa-dd7b909bdf48\n",
      "drwxr-xr-x 7 demo demo 4096 Oct 28 20:21 50e0fa17-d097-4a06-9694-f19146192e3e\n"
     ]
    }
   ],
   "source": [
    "%%bash \n",
    "\n",
    "docker cp rna_pdb_tools/input/rp18 306468777bc5:/home/demo\n",
    "echo 'See if the file are at the Docker image:'\n",
    "#docker exec -i 306468777bc5 /bin/ls -l .\n",
    "echo 'Run mcq'\n",
    "echo 'done'"
   ]
  },
  {
   "cell_type": "markdown",
   "metadata": {},
   "source": [
    "## Local"
   ]
  },
  {
   "cell_type": "code",
   "execution_count": 24,
   "metadata": {
    "collapsed": false
   },
   "outputs": [
    {
     "name": "stdout",
     "output_type": "stream",
     "text": [
      "Results are available in: /tmp/99228ed0-d1af-4b60-9903-da360aa8ce1c\n"
     ]
    }
   ],
   "source": [
    "%%bash\n",
    "docker exec -i 306468777bc5 sh -c \"/home/demo/rna-puzzles-toolkit/mcq-cli/local -m /home/demo/rp18/18_Rh* -t /home/demo/rp18/18_0_solution_5TPY_rpr.pdb\""
   ]
  },
  {
   "cell_type": "code",
   "execution_count": 26,
   "metadata": {
    "collapsed": false
   },
   "outputs": [
    {
     "name": "stdout",
     "output_type": "stream",
     "text": [
      "total 36\n",
      "drwxr-xr-x 2 demo demo 4096 Oct 28 20:43 hsperfdata_demo\n",
      "drwxr-xr-x 7 demo demo 4096 Oct 28 20:43 99228ed0-d1af-4b60-9903-da360aa8ce1c\n",
      "drwxr-xr-x 7 demo demo 4096 Oct 28 20:42 14001637-0e41-444a-af71-255c38fbf006\n",
      "drwxr-xr-x 7 demo demo 4096 Oct 28 20:41 42d358d6-f908-488f-b288-4dd52c1dce59\n",
      "drwxr-xr-x 7 demo demo 4096 Oct 28 20:40 87997101-cc0f-4a7e-8b6e-bc5b81702a3a\n",
      "drwxr-xr-x 7 demo demo 4096 Oct 28 20:40 04390fe6-a085-4240-a4e3-d90e7ab9053c\n",
      "drwxr-xr-x 7 demo demo 4096 Oct 28 20:37 0010b609-890c-48ff-a925-a9fd7b7d3cd0\n",
      "drwxr-xr-x 7 demo demo 4096 Oct 28 20:33 a1c796dc-2003-4ba9-91fa-dd7b909bdf48\n",
      "drwxr-xr-x 7 demo demo 4096 Oct 28 20:21 50e0fa17-d097-4a06-9694-f19146192e3e\n"
     ]
    }
   ],
   "source": [
    "%%bash\n",
    "docker exec -i 306468777bc5 sh -c \"ls -lt /tmp\""
   ]
  },
  {
   "cell_type": "markdown",
   "metadata": {},
   "source": [
    "Generate a plot based on the table."
   ]
  },
  {
   "cell_type": "code",
   "execution_count": 48,
   "metadata": {
    "collapsed": false
   },
   "outputs": [
    {
     "name": "stdout",
     "output_type": "stream",
     "text": [
      "null device \n",
      "          1 \n"
     ]
    }
   ],
   "source": [
    "%%bash\n",
    "docker exec -i 306468777bc5 sh -c 'cd /tmp/99228ed0-d1af-4b60-9903-da360aa8ce1c/ && ~/rna-puzzles-toolkit/mcq-cli/colorbars.R table.csv'"
   ]
  },
  {
   "cell_type": "code",
   "execution_count": 49,
   "metadata": {
    "collapsed": false
   },
   "outputs": [
    {
     "name": "stdout",
     "output_type": "stream",
     "text": [
      "18_Rhiju_1_rpr.pdb\n",
      "18_Rhiju_2_rpr.pdb\n",
      "18_Rhiju_3_rpr.pdb\n",
      "18_Rhiju_4_rpr.pdb\n",
      "18_Rhiju_5_rpr.pdb\n",
      "colorbars.pdf\n",
      "table.csv\n"
     ]
    }
   ],
   "source": [
    "%%bash\n",
    "docker exec -i 306468777bc5 sh -c \"ls /tmp/99228ed0-d1af-4b60-9903-da360aa8ce1c/\""
   ]
  },
  {
   "cell_type": "markdown",
   "metadata": {},
   "source": [
    "Copy the results to your local temp."
   ]
  },
  {
   "cell_type": "code",
   "execution_count": 50,
   "metadata": {
    "collapsed": false
   },
   "outputs": [
    {
     "name": "stdout",
     "output_type": "stream",
     "text": [
      "18_Rhiju_1_rpr.pdb\n",
      "18_Rhiju_2_rpr.pdb\n",
      "18_Rhiju_3_rpr.pdb\n",
      "18_Rhiju_4_rpr.pdb\n",
      "18_Rhiju_5_rpr.pdb\n",
      "colorbars.pdf\n",
      "table.csv\n"
     ]
    }
   ],
   "source": [
    "%%bash\n",
    "docker cp 306468777bc5:/tmp/99228ed0-d1af-4b60-9903-da360aa8ce1c /tmp/\n",
    "ls /tmp/99228ed0-d1af-4b60-9903-da360aa8ce1c"
   ]
  },
  {
   "cell_type": "markdown",
   "metadata": {},
   "source": [
    "View the results using Pandas."
   ]
  },
  {
   "cell_type": "code",
   "execution_count": 51,
   "metadata": {
    "collapsed": false
   },
   "outputs": [
    {
     "data": {
      "text/html": [
       "<div>\n",
       "<table border=\"1\" class=\"dataframe\">\n",
       "  <thead>\n",
       "    <tr style=\"text-align: right;\">\n",
       "      <th></th>\n",
       "      <th>Unnamed: 0</th>\n",
       "      <th>A.G1</th>\n",
       "      <th>A.G2</th>\n",
       "      <th>A.G3</th>\n",
       "      <th>A.U4</th>\n",
       "      <th>A.C5</th>\n",
       "      <th>A.A6</th>\n",
       "      <th>A.G7</th>\n",
       "      <th>A.G8</th>\n",
       "      <th>A.C9</th>\n",
       "      <th>...</th>\n",
       "      <th>A.C62</th>\n",
       "      <th>A.G63</th>\n",
       "      <th>A.A64</th>\n",
       "      <th>A.A65</th>\n",
       "      <th>A.A66</th>\n",
       "      <th>A.G67</th>\n",
       "      <th>A.U68</th>\n",
       "      <th>A.G69</th>\n",
       "      <th>A.G70</th>\n",
       "      <th>A.G71</th>\n",
       "    </tr>\n",
       "  </thead>\n",
       "  <tbody>\n",
       "    <tr>\n",
       "      <th>0</th>\n",
       "      <td>NaN</td>\n",
       "      <td>.</td>\n",
       "      <td>.</td>\n",
       "      <td>{</td>\n",
       "      <td>.</td>\n",
       "      <td>(</td>\n",
       "      <td>(</td>\n",
       "      <td>(</td>\n",
       "      <td>(</td>\n",
       "      <td>(</td>\n",
       "      <td>...</td>\n",
       "      <td>(</td>\n",
       "      <td>.</td>\n",
       "      <td>.</td>\n",
       "      <td>.</td>\n",
       "      <td>.</td>\n",
       "      <td>)</td>\n",
       "      <td>)</td>\n",
       "      <td>)</td>\n",
       "      <td>)</td>\n",
       "      <td>)</td>\n",
       "    </tr>\n",
       "    <tr>\n",
       "      <th>1</th>\n",
       "      <td>18_Rhiju_1_rpr.pdb</td>\n",
       "      <td>47.82113725714628</td>\n",
       "      <td>94.33688052900935</td>\n",
       "      <td>31.39543325853087</td>\n",
       "      <td>18.076285941192126</td>\n",
       "      <td>12.151729157844537</td>\n",
       "      <td>8.501493434485806</td>\n",
       "      <td>8.598837669174692</td>\n",
       "      <td>42.59522171589118</td>\n",
       "      <td>20.87230553973775</td>\n",
       "      <td>...</td>\n",
       "      <td>5.670652702133741</td>\n",
       "      <td>10.452237697487197</td>\n",
       "      <td>10.899236647164763</td>\n",
       "      <td>20.403828903308945</td>\n",
       "      <td>33.634631786172775</td>\n",
       "      <td>40.07917778882871</td>\n",
       "      <td>2.8105157237558216</td>\n",
       "      <td>3.12268503958415</td>\n",
       "      <td>3.38706035222638</td>\n",
       "      <td>5.593981802971269</td>\n",
       "    </tr>\n",
       "    <tr>\n",
       "      <th>2</th>\n",
       "      <td>18_Rhiju_2_rpr.pdb</td>\n",
       "      <td>47.814634236400245</td>\n",
       "      <td>94.36427399419372</td>\n",
       "      <td>31.370981142647096</td>\n",
       "      <td>18.089484899307735</td>\n",
       "      <td>12.147480701577837</td>\n",
       "      <td>8.650831027408056</td>\n",
       "      <td>8.63040256878347</td>\n",
       "      <td>42.56551078528806</td>\n",
       "      <td>20.851341100772423</td>\n",
       "      <td>...</td>\n",
       "      <td>5.677884657321962</td>\n",
       "      <td>10.452737639486374</td>\n",
       "      <td>10.890558433434231</td>\n",
       "      <td>20.403397216819638</td>\n",
       "      <td>33.620206985666044</td>\n",
       "      <td>40.080335425773846</td>\n",
       "      <td>2.817183422703433</td>\n",
       "      <td>3.126361110146106</td>\n",
       "      <td>3.3941886507573806</td>\n",
       "      <td>5.589145358542448</td>\n",
       "    </tr>\n",
       "    <tr>\n",
       "      <th>3</th>\n",
       "      <td>18_Rhiju_3_rpr.pdb</td>\n",
       "      <td>47.81641584104296</td>\n",
       "      <td>94.33716713819841</td>\n",
       "      <td>31.381629086411603</td>\n",
       "      <td>18.09762029066829</td>\n",
       "      <td>12.488499179888773</td>\n",
       "      <td>7.761124375253679</td>\n",
       "      <td>8.446983647092896</td>\n",
       "      <td>42.5977909315378</td>\n",
       "      <td>20.874485775991467</td>\n",
       "      <td>...</td>\n",
       "      <td>5.693305680051093</td>\n",
       "      <td>10.461824200944507</td>\n",
       "      <td>10.897447127771594</td>\n",
       "      <td>20.391915532271337</td>\n",
       "      <td>33.63770508870173</td>\n",
       "      <td>40.08087253048741</td>\n",
       "      <td>2.804217011141902</td>\n",
       "      <td>3.1233132994034736</td>\n",
       "      <td>3.0792003889587933</td>\n",
       "      <td>4.145803549416084</td>\n",
       "    </tr>\n",
       "    <tr>\n",
       "      <th>4</th>\n",
       "      <td>18_Rhiju_4_rpr.pdb</td>\n",
       "      <td>47.8123326942324</td>\n",
       "      <td>94.3496976110549</td>\n",
       "      <td>31.38130853181125</td>\n",
       "      <td>18.09916815587993</td>\n",
       "      <td>12.154305729867458</td>\n",
       "      <td>8.057636320487854</td>\n",
       "      <td>8.431397105940157</td>\n",
       "      <td>42.586465159687144</td>\n",
       "      <td>20.87291438951094</td>\n",
       "      <td>...</td>\n",
       "      <td>5.670652702133741</td>\n",
       "      <td>10.452237697487197</td>\n",
       "      <td>10.899236647164763</td>\n",
       "      <td>20.403828903308945</td>\n",
       "      <td>33.634631786172775</td>\n",
       "      <td>40.07917778882871</td>\n",
       "      <td>2.8105157237558216</td>\n",
       "      <td>3.12268503958415</td>\n",
       "      <td>3.38706035222638</td>\n",
       "      <td>5.593981802971269</td>\n",
       "    </tr>\n",
       "    <tr>\n",
       "      <th>5</th>\n",
       "      <td>18_Rhiju_5_rpr.pdb</td>\n",
       "      <td>30.244337414416037</td>\n",
       "      <td>49.040831717487315</td>\n",
       "      <td>38.528085614747795</td>\n",
       "      <td>24.496042938467244</td>\n",
       "      <td>28.577976739037847</td>\n",
       "      <td>17.340345024766222</td>\n",
       "      <td>8.424235985713661</td>\n",
       "      <td>42.56798606775238</td>\n",
       "      <td>20.870294429470505</td>\n",
       "      <td>...</td>\n",
       "      <td>15.110266980984632</td>\n",
       "      <td>30.30188070737533</td>\n",
       "      <td>12.54596966689406</td>\n",
       "      <td>15.542425288298308</td>\n",
       "      <td>13.00847949411069</td>\n",
       "      <td>43.67364096067794</td>\n",
       "      <td>3.053039560544712</td>\n",
       "      <td>6.671760440953921</td>\n",
       "      <td>46.73693054868335</td>\n",
       "      <td>27.501814192468878</td>\n",
       "    </tr>\n",
       "  </tbody>\n",
       "</table>\n",
       "<p>6 rows × 72 columns</p>\n",
       "</div>"
      ],
      "text/plain": [
       "           Unnamed: 0                A.G1                A.G2  \\\n",
       "0                 NaN                   .                   .   \n",
       "1  18_Rhiju_1_rpr.pdb   47.82113725714628   94.33688052900935   \n",
       "2  18_Rhiju_2_rpr.pdb  47.814634236400245   94.36427399419372   \n",
       "3  18_Rhiju_3_rpr.pdb   47.81641584104296   94.33716713819841   \n",
       "4  18_Rhiju_4_rpr.pdb    47.8123326942324    94.3496976110549   \n",
       "5  18_Rhiju_5_rpr.pdb  30.244337414416037  49.040831717487315   \n",
       "\n",
       "                 A.G3                A.U4                A.C5  \\\n",
       "0                   {                   .                   (   \n",
       "1   31.39543325853087  18.076285941192126  12.151729157844537   \n",
       "2  31.370981142647096  18.089484899307735  12.147480701577837   \n",
       "3  31.381629086411603   18.09762029066829  12.488499179888773   \n",
       "4   31.38130853181125   18.09916815587993  12.154305729867458   \n",
       "5  38.528085614747795  24.496042938467244  28.577976739037847   \n",
       "\n",
       "                 A.A6               A.G7                A.G8  \\\n",
       "0                   (                  (                   (   \n",
       "1   8.501493434485806  8.598837669174692   42.59522171589118   \n",
       "2   8.650831027408056   8.63040256878347   42.56551078528806   \n",
       "3   7.761124375253679  8.446983647092896    42.5977909315378   \n",
       "4   8.057636320487854  8.431397105940157  42.586465159687144   \n",
       "5  17.340345024766222  8.424235985713661   42.56798606775238   \n",
       "\n",
       "                 A.C9         ...                       A.C62  \\\n",
       "0                   (         ...                           (   \n",
       "1   20.87230553973775         ...           5.670652702133741   \n",
       "2  20.851341100772423         ...           5.677884657321962   \n",
       "3  20.874485775991467         ...           5.693305680051093   \n",
       "4   20.87291438951094         ...           5.670652702133741   \n",
       "5  20.870294429470505         ...          15.110266980984632   \n",
       "\n",
       "                A.G63               A.A64               A.A65  \\\n",
       "0                   .                   .                   .   \n",
       "1  10.452237697487197  10.899236647164763  20.403828903308945   \n",
       "2  10.452737639486374  10.890558433434231  20.403397216819638   \n",
       "3  10.461824200944507  10.897447127771594  20.391915532271337   \n",
       "4  10.452237697487197  10.899236647164763  20.403828903308945   \n",
       "5   30.30188070737533   12.54596966689406  15.542425288298308   \n",
       "\n",
       "                A.A66               A.G67               A.U68  \\\n",
       "0                   .                   )                   )   \n",
       "1  33.634631786172775   40.07917778882871  2.8105157237558216   \n",
       "2  33.620206985666044  40.080335425773846   2.817183422703433   \n",
       "3   33.63770508870173   40.08087253048741   2.804217011141902   \n",
       "4  33.634631786172775   40.07917778882871  2.8105157237558216   \n",
       "5   13.00847949411069   43.67364096067794   3.053039560544712   \n",
       "\n",
       "                A.G69               A.G70               A.G71  \n",
       "0                   )                   )                   )  \n",
       "1    3.12268503958415    3.38706035222638   5.593981802971269  \n",
       "2   3.126361110146106  3.3941886507573806   5.589145358542448  \n",
       "3  3.1233132994034736  3.0792003889587933   4.145803549416084  \n",
       "4    3.12268503958415    3.38706035222638   5.593981802971269  \n",
       "5   6.671760440953921   46.73693054868335  27.501814192468878  \n",
       "\n",
       "[6 rows x 72 columns]"
      ]
     },
     "execution_count": 51,
     "metadata": {},
     "output_type": "execute_result"
    }
   ],
   "source": [
    "import pandas as pd\n",
    "table = pd.read_csv('/tmp/99228ed0-d1af-4b60-9903-da360aa8ce1c/table.csv')\n",
    "table"
   ]
  },
  {
   "cell_type": "code",
   "execution_count": 52,
   "metadata": {
    "collapsed": true
   },
   "outputs": [],
   "source": [
    "%%bash\n",
    "cp /tmp/99228ed0-d1af-4b60-9903-da360aa8ce1c/18_Rhiju_1_rpr.pdb/delta.svg detla.svg"
   ]
  },
  {
   "cell_type": "markdown",
   "metadata": {},
   "source": [
    "![x](detla.svg)"
   ]
  },
  {
   "cell_type": "markdown",
   "metadata": {},
   "source": [
    "![x](colorbars.pdf)"
   ]
  },
  {
   "cell_type": "markdown",
   "metadata": {},
   "source": [
    "# rnaqua: A tool supporting quality assessment of RNA 3D structures"
   ]
  },
  {
   "cell_type": "markdown",
   "metadata": {},
   "source": [
    "[RNAQUA (RNA QUality Assessment)](https://github.com/mantczak/rnaqua) is a web service based wrapper of basic RNA comparison metrics. It is a RESTful web service client developed in Java. The tool provides a set of web services initially designed for RNAssess (Lukasiak et al., Nucleic Acids Research, 2015;43(W1):W502-W506. doi:10.1093/nar/gkv557) to support the quality assessment of RNA 3D structures. RNAQUA requires a stable release of JRE 7 (or later) installed on a user workstation with an internet access. Full implementation of the tool is stored on github and maintained by Antczak. The binaries and use cases can be downloaded from here. Most important features of RNAQUA:\n",
    "\n",
    "- At the input, a user provides RNA 3D structure(s) in PDB format.\n",
    "- Output data are returned in XML format.\n",
    "- RNAQUA allows to compute the following measures:\n",
    "    - ClashScore,\n",
    "    - Root-mean-square deviation (RMSD),\n",
    "    - Interaction network fidelity (INF),\n",
    "    - Deformation index (DI),\n",
    "    - P-value (either for entire RNA 3D structure(s) or for a set of discontinuous 3D substructures).\n",
    "- Two processing modes are available:\n",
    "    - An analysis of single RNA 3D structure (PDB validation, ClashScore, sequence-based analysis, structure unification),\n",
    "    - An analysis of RNA 3D model(s) with respect to the reference structure (RMSD, INF, DI, P-value, Deformation profile, sequence-based differences between structures, multiple models over the reference structure superposition).\n",
    "- Optionally, the user can define alignment between the reference structure and all corresponding RNA 3D model(s) which is helpful if there are differences in sequence, distribution of chains or residue numbering.\n",
    "\n",
    "This metric tool is maintained by Antczak.\n",
    "\n",
    "**DEMO**\n",
    "\n",
    "Run rnaqua using Docker."
   ]
  },
  {
   "cell_type": "code",
   "execution_count": 6,
   "metadata": {
    "collapsed": false
   },
   "outputs": [
    {
     "name": "stdout",
     "output_type": "stream",
     "text": [
      "usage: rnaqua\n",
      " -c,--command <arg>   supported commands: PDB-VALIDATION, DEFORMATION-PROFILE, CLASH-SCORE, ROOT-MEAN-SQUARE-DEVIATION, ALL-INTERACTION-NETWORK-FIDELITY-SCORES-AT-ONCE,\n",
      "                      INTERACTION-NETWORK-FIDELITY-WATSON-CRICK, INTERACTION-NETWORK-FIDELITY-NON-WATSON-CRICK, INTERACTION-NETWORK-FIDELITY-STACKING, INTERACTION-NETWORK-FIDELITY-ALL, P-VALUE,\n",
      "                      DEFORMATION-INDEX, ALL-SCORES-AT-ONCE, SEQUENCE, FRAGMENT, ORIGINAL-3D, RENUMERATED-3D\n"
     ]
    }
   ],
   "source": [
    "%%bash \n",
    "docker exec -i rnapuzzles_toolkit_1 /home/demo/rna-puzzles-toolkit/rnaqua-binary/bin/rnaqua.sh -h"
   ]
  },
  {
   "cell_type": "markdown",
   "metadata": {},
   "source": [
    "## PDB-VALIDATION\n"
   ]
  },
  {
   "cell_type": "code",
   "execution_count": 20,
   "metadata": {
    "collapsed": false
   },
   "outputs": [
    {
     "name": "stdout",
     "output_type": "stream",
     "text": [
      "13 Oct 2018 17:54:20 : Command: PDB-VALIDATION\n",
      "Base pairs identification tool: MC-ANNOTATE\n",
      "Consider atoms supported by RNA-Puzzles only: N\n",
      "Output file path: /tmp/validation.xml\n",
      "Multiple PDB models directory path: rna-puzzles-toolkit/rnaqua-binary/use-cases/SINGLE-STRUCTURE-ANALYSIS/PDB-VALIDATION/models/\n",
      "13 Oct 2018 17:54:21 : Command processed properly\n"
     ]
    }
   ],
   "source": [
    "%%bash \n",
    "docker exec -i rnapuzzles_toolkit_1 /home/demo/rna-puzzles-toolkit/rnaqua-binary/bin/rnaqua.sh \\\n",
    "--command PDB-VALIDATION \\\n",
    "--multiple-models-directory-path rna-puzzles-toolkit/rnaqua-binary/use-cases/SINGLE-STRUCTURE-ANALYSIS/PDB-VALIDATION/models/ \\\n",
    "--output-file-path /tmp/validation.xml\n",
    "docker exec -i rnapuzzles_toolkit_1 cat /tmp/validation.xml"
   ]
  },
  {
   "cell_type": "code",
   "execution_count": 21,
   "metadata": {
    "collapsed": false
   },
   "outputs": [
    {
     "name": "stdout",
     "output_type": "stream",
     "text": [
      "<?xml version=\"1.0\" encoding=\"UTF-8\" standalone=\"yes\"?><descriptions><basics><filename>model.pdb</filename><errors><error>No. 5: Omitted record. Atom serial number is not integer (   A5). Residue sequence number is not integer ( 2A1). Unrecognized residue name (Z). X coordinate is not floating-point number (   2.A25). Y coordinate is not floating-point number ( -2A.462). Z coordinate is not floating-point number (  -3.A25).</error></errors></basics></descriptions>"
     ]
    }
   ],
   "source": [
    "%%bash\n",
    "docker exec -i rnapuzzles_toolkit_1 cat /tmp/validation.xml"
   ]
  },
  {
   "cell_type": "code",
   "execution_count": 25,
   "metadata": {
    "collapsed": false
   },
   "outputs": [
    {
     "name": "stdout",
     "output_type": "stream",
     "text": [
      "13 Oct 2018 17:59:12 : Command: PDB-VALIDATION\n",
      "Base pairs identification tool: MC-ANNOTATE\n",
      "Consider atoms supported by RNA-Puzzles only: N\n",
      "Output file path: /tmp/validation.xml\n",
      "Single model PDB file path: rna-puzzles-toolkit/rnaqua-binary/use-cases/SINGLE-STRUCTURE-ANALYSIS/PDB-VALIDATION/models/model.pdb\n",
      "13 Oct 2018 17:59:12 : Command processed properly\n"
     ]
    }
   ],
   "source": [
    "%%bash\n",
    "docker exec -i rnapuzzles_toolkit_1 /home/demo/rna-puzzles-toolkit/rnaqua-binary/bin/rnaqua.sh \\\n",
    "--command PDB-VALIDATION \\\n",
    "--single-model-file-path rna-puzzles-toolkit/rnaqua-binary/use-cases/SINGLE-STRUCTURE-ANALYSIS/PDB-VALIDATION/models/model.pdb \\\n",
    "--output-file-path /tmp/validation.xml"
   ]
  },
  {
   "cell_type": "code",
   "execution_count": 30,
   "metadata": {
    "collapsed": false
   },
   "outputs": [
    {
     "name": "stderr",
     "output_type": "stream",
     "text": [
      "Exception in thread \"main\" javax.ws.rs.ProcessingException: java.net.ConnectException: Connection refused (Connection refused)\n",
      "\tat org.glassfish.jersey.client.internal.HttpUrlConnector.apply(HttpUrlConnector.java:287)\n",
      "\tat org.glassfish.jersey.client.ClientRuntime.invoke(ClientRuntime.java:252)\n",
      "\tat org.glassfish.jersey.client.JerseyInvocation$2.call(JerseyInvocation.java:701)\n",
      "\tat org.glassfish.jersey.internal.Errors.process(Errors.java:315)\n",
      "\tat org.glassfish.jersey.internal.Errors.process(Errors.java:297)\n",
      "\tat org.glassfish.jersey.internal.Errors.process(Errors.java:228)\n",
      "\tat org.glassfish.jersey.process.internal.RequestScope.runInScope(RequestScope.java:444)\n",
      "\tat org.glassfish.jersey.client.JerseyInvocation.invoke(JerseyInvocation.java:697)\n",
      "\tat org.glassfish.jersey.client.JerseyInvocation$Builder.method(JerseyInvocation.java:420)\n",
      "\tat org.glassfish.jersey.client.JerseyInvocation$Builder.get(JerseyInvocation.java:316)\n",
      "\tat edu.put.ma.Assessment.getTemplates(Assessment.java:58)\n",
      "\tat edu.put.ma.Assessment.initTemplates(Assessment.java:53)\n",
      "\tat edu.put.ma.Assessment.<init>(Assessment.java:48)\n",
      "\tat edu.put.ma.Assessment.main(Assessment.java:89)\n",
      "Caused by: java.net.ConnectException: Connection refused (Connection refused)\n",
      "\tat java.net.PlainSocketImpl.socketConnect(Native Method)\n",
      "\tat java.net.AbstractPlainSocketImpl.doConnect(AbstractPlainSocketImpl.java:350)\n",
      "\tat java.net.AbstractPlainSocketImpl.connectToAddress(AbstractPlainSocketImpl.java:206)\n",
      "\tat java.net.AbstractPlainSocketImpl.connect(AbstractPlainSocketImpl.java:188)\n",
      "\tat java.net.SocksSocketImpl.connect(SocksSocketImpl.java:392)\n",
      "\tat java.net.Socket.connect(Socket.java:589)\n",
      "\tat sun.security.ssl.SSLSocketImpl.connect(SSLSocketImpl.java:673)\n",
      "\tat sun.net.NetworkClient.doConnect(NetworkClient.java:175)\n",
      "\tat sun.net.www.http.HttpClient.openServer(HttpClient.java:463)\n",
      "\tat sun.net.www.http.HttpClient.openServer(HttpClient.java:558)\n",
      "\tat sun.net.www.protocol.https.HttpsClient.<init>(HttpsClient.java:264)\n",
      "\tat sun.net.www.protocol.https.HttpsClient.New(HttpsClient.java:367)\n",
      "\tat sun.net.www.protocol.https.AbstractDelegateHttpsURLConnection.getNewHttpClient(AbstractDelegateHttpsURLConnection.java:191)\n",
      "\tat sun.net.www.protocol.http.HttpURLConnection.plainConnect0(HttpURLConnection.java:1156)\n",
      "\tat sun.net.www.protocol.http.HttpURLConnection.plainConnect(HttpURLConnection.java:1050)\n",
      "\tat sun.net.www.protocol.https.AbstractDelegateHttpsURLConnection.connect(AbstractDelegateHttpsURLConnection.java:177)\n",
      "\tat sun.net.www.protocol.http.HttpURLConnection.getInputStream0(HttpURLConnection.java:1564)\n",
      "\tat sun.net.www.protocol.http.HttpURLConnection.getInputStream(HttpURLConnection.java:1492)\n",
      "\tat java.net.HttpURLConnection.getResponseCode(HttpURLConnection.java:480)\n",
      "\tat sun.net.www.protocol.https.HttpsURLConnectionImpl.getResponseCode(HttpsURLConnectionImpl.java:347)\n",
      "\tat org.glassfish.jersey.client.internal.HttpUrlConnector._apply(HttpUrlConnector.java:399)\n",
      "\tat org.glassfish.jersey.client.internal.HttpUrlConnector.apply(HttpUrlConnector.java:285)\n",
      "\t... 13 more\n"
     ]
    }
   ],
   "source": [
    "%%bash\n",
    "CURRENT_DIR=\"/home/demo/rna-puzzles-toolkit/rnaqua-binary/use-cases/ANALYSIS-WITHIN-CONTEXT-OF-REFERENCE-STRUCTURE/SCORES/INTERACTION-NETWORK-FIDELITY-ALL\"\n",
    "docker exec -i rnapuzzles_toolkit_1 /home/demo/rna-puzzles-toolkit/rnaqua-binary/bin/rnaqua.sh \\\n",
    "--command INTERACTION-NETWORK-FIDELITY-ALL \\\n",
    "--reference-structure-file-path \"${CURRENT_DIR}/continuous-models/8_0_solution_4L81_rpr.pdb\" \\\n",
    "--multiple-models-directory-path \"${CURRENT_DIR}/continuous-models/models\" \\\n",
    "--output-file-path /tmp/14_ChenPostExp_1_rpr.xml\n",
    "docker exec -i rnapuzzles_toolkit_1 cat /tmp/14_ChenPostExp_1_rpr.xml"
   ]
  },
  {
   "cell_type": "markdown",
   "metadata": {},
   "source": [
    "## Clash Score"
   ]
  },
  {
   "cell_type": "markdown",
   "metadata": {},
   "source": [
    "    14_ChenPostExp_1_rpr.pdb:U_1,31|U_33,29"
   ]
  },
  {
   "cell_type": "code",
   "execution_count": 6,
   "metadata": {
    "collapsed": false
   },
   "outputs": [
    {
     "name": "stdout",
     "output_type": "stream",
     "text": [
      "14 Oct 2018 17:38:19 : Command: CLASH-SCORE\n",
      "Alignment: 14_ChenPostExp_1_rpr.pdb:U_1_ ,31|U_33_ ,29\n",
      "Base pairs identification tool: MC-ANNOTATE\n",
      "Consider atoms supported by RNA-Puzzles only: N\n",
      "Output file path: /tmp/14_ChenPostExp_1_rpr.xml\n",
      "Single model PDB file path: rna-puzzles-toolkit/rnaqua-binary/use-cases/SINGLE-STRUCTURE-ANALYSIS/SCORES/CLASH-SCORE/incontinuous-models/14_ChenPostExp_1_rpr.pdb\n",
      "14 Oct 2018 17:38:30 : Command processed properly\n"
     ]
    }
   ],
   "source": [
    "%%bash\n",
    "CURRENT_DIR=\"rna-puzzles-toolkit/rnaqua-binary/use-cases/SINGLE-STRUCTURE-ANALYSIS/SCORES/CLASH-SCORE\"\n",
    "docker exec -i rnapuzzles_toolkit_1 /home/demo/rna-puzzles-toolkit/rnaqua-binary/bin/rnaqua.sh --command CLASH-SCORE --single-model-file-path \\\n",
    "\"${CURRENT_DIR}/incontinuous-models/14_ChenPostExp_1_rpr.pdb\" \\\n",
    "--alignment \"14_ChenPostExp_1_rpr.pdb:U_1,31|U_33,29\" --output-file-path /tmp/14_ChenPostExp_1_rpr.xml"
   ]
  },
  {
   "cell_type": "code",
   "execution_count": 7,
   "metadata": {
    "collapsed": false
   },
   "outputs": [
    {
     "name": "stdout",
     "output_type": "stream",
     "text": [
      "<?xml version=\"1.0\" encoding=\"UTF-8\" standalone=\"yes\"?><measureScores><structure><description><filename>14_ChenPostExp_1_rpr.pdb</filename><errors/></description><score>2.06</score></structure></measureScores>"
     ]
    }
   ],
   "source": [
    "%%bash\n",
    "CURRENT_DIR=\"rna-puzzles-toolkit/rnaqua-binary/use-cases/SINGLE-STRUCTURE-ANALYSIS/SCORES/CLASH-SCORE\"\n",
    "docker exec -i rnapuzzles_toolkit_1 cat /tmp/14_ChenPostExp_1_rpr.xml\n",
    "#\n",
    "#<?xml version=\"1.0\" encoding=\"UTF-8\" standalone=\"yes\"?>\n",
    "#<measureScores><structure><description><filename>14_ChenPostExp_1_rpr.pdb</filename><errors/></description><score>2.06</score></structure></measureScores>\n",
    "#"
   ]
  },
  {
   "cell_type": "markdown",
   "metadata": {},
   "source": [
    "## Structure 3D"
   ]
  },
  {
   "cell_type": "markdown",
   "metadata": {},
   "source": [
    "**ORIGINAL-3D** and **RENUMERATED-3D**\n",
    "\n",
    "An extraction (**ORIGINAL-3D**) and unification (**RENUMERATED-3D**) of RNA 3D model(s) or a set of incontinuous 3D substructures specified by the user which are additionally superimposed over the corresponding 3D structure/substructures of the reference. At the output, ZIP archive including the coordinates of the reference structure as well as all considered RNA 3D model(s) is returned."
   ]
  },
  {
   "cell_type": "markdown",
   "metadata": {},
   "source": [
    "**Alignment**\n",
    "\n",
    "To ensure robustness of quality assessment process a user can specify the appropriate alignment (-a,--alignment) between the reference 3D structure and all analyzed RNA 3D model(s) which often differ slightly in sequence, distribution of chains or numbering of residues. \n",
    "\n",
    "An example of alignment prepared between the reference structure (solution.pdb) and a single RNA 3D model (model.pdb) is presented below. This alignment considers two incontinuous 3D substructures. Moreover, there is also incompatibility of chain id between compared 3D structures. \n",
    "\n",
    "Each substructure is described by id of its first residue [i.e., chain id + '_' + residue serial number + '_' + insertion code (if needed)] and length. To integrate many 3D substructures within a single alignment prepared for the particular RNA 3D structure(s) their descriptions are separated by '|'. Alignments prepared for the reference structure as well as the analyzed RNA 3D models combined into a single string are separated by ';'. Alignment prepared for the reference structure should be always included at the beginning of this string."
   ]
  },
  {
   "cell_type": "code",
   "execution_count": 3,
   "metadata": {
    "collapsed": false
   },
   "outputs": [
    {
     "name": "stdout",
     "output_type": "stream",
     "text": [
      "14 Oct 2018 17:37:48 : Command: RENUMERATED-3D\n",
      "Alignment: 14_ChenPostExp_1_rpr.pdb:U_1_ ,31|U_33_ ,29\n",
      "Base pairs identification tool: MC-ANNOTATE\n",
      "Consider atoms supported by RNA-Puzzles only: N\n",
      "Output file path: /home/demo/14_ChenPostExp_1_rpr.zip\n",
      "Multiple PDB models directory path: rna-puzzles-toolkit/rnaqua-binary/use-cases/SINGLE-STRUCTURE-ANALYSIS/STRUCTURE-3D/RENUMERATED-3D//models\n",
      "14 Oct 2018 17:37:49 : Command processed properly\n"
     ]
    }
   ],
   "source": [
    "%%bash\n",
    "CURRENT_DIR=\"rna-puzzles-toolkit/rnaqua-binary/use-cases/SINGLE-STRUCTURE-ANALYSIS/STRUCTURE-3D/RENUMERATED-3D/\"\n",
    "docker exec -i rnapuzzles_toolkit_1 /home/demo/rna-puzzles-toolkit/rnaqua-binary/bin/rnaqua.sh \\\n",
    "--command RENUMERATED-3D \\\n",
    "--multiple-models-directory-path \"${CURRENT_DIR}/models\" \\\n",
    "--alignment \"14_ChenPostExp_1_rpr.pdb:U_1,31|U_33,29\" \\\n",
    "--output-file-path \"/home/demo/14_ChenPostExp_1_rpr.zip\""
   ]
  },
  {
   "cell_type": "markdown",
   "metadata": {},
   "source": [
    "# rna-pdb-tools"
   ]
  },
  {
   "cell_type": "code",
   "execution_count": null,
   "metadata": {
    "collapsed": true
   },
   "outputs": [],
   "source": [
    "@inprogress"
   ]
  }
 ],
 "metadata": {
  "hide_input": false,
  "kernelspec": {
   "display_name": "Python 2",
   "language": "python",
   "name": "python2"
  },
  "language_info": {
   "codemirror_mode": {
    "name": "ipython",
    "version": 2
   },
   "file_extension": ".py",
   "mimetype": "text/x-python",
   "name": "python",
   "nbconvert_exporter": "python",
   "pygments_lexer": "ipython2",
   "version": "2.7.15"
  },
  "toc": {
   "colors": {
    "hover_highlight": "#DAA520",
    "running_highlight": "#FF0000",
    "selected_highlight": "#FFD700"
   },
   "moveMenuLeft": true,
   "nav_menu": {
    "height": "12px",
    "width": "252px"
   },
   "navigate_menu": true,
   "number_sections": true,
   "sideBar": true,
   "threshold": 4,
   "toc_cell": true,
   "toc_position": {
    "height": "940px",
    "left": "0px",
    "right": "1350px",
    "top": "106px",
    "width": "240px"
   },
   "toc_section_display": "block",
   "toc_window_display": true,
   "widenNotebook": false
  }
 },
 "nbformat": 4,
 "nbformat_minor": 2
}
