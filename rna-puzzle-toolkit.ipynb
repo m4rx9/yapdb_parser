{
 "cells": [
  {
   "cell_type": "markdown",
   "metadata": {},
   "source": [
    "# BasicAssessMetrics"
   ]
  },
  {
   "cell_type": "code",
   "execution_count": 57,
   "metadata": {
    "collapsed": false
   },
   "outputs": [
    {
     "name": "stderr",
     "output_type": "stream",
     "text": [
      "Cloning into 'BasicAssessMetrics'...\n"
     ]
    }
   ],
   "source": [
    "%%bash\n",
    "curr_path = `pwd`\n",
    "cd opt\n",
    "git clone https://github.com/RNA-Puzzles/BasicAssessMetrics.git"
   ]
  },
  {
   "cell_type": "code",
   "execution_count": 60,
   "metadata": {
    "collapsed": false
   },
   "outputs": [
    {
     "data": {
      "text/plain": [
       "u'/Users/magnus/work-src/rna-pdb-tools/opt'"
      ]
     },
     "execution_count": 60,
     "metadata": {},
     "output_type": "execute_result"
    }
   ],
   "source": []
  },
  {
   "cell_type": "code",
   "execution_count": 61,
   "metadata": {
    "collapsed": false
   },
   "outputs": [],
   "source": [
    "import sys\n",
    "import os\n",
    "\n",
    "import pdb_utils\n",
    "import utils\n",
    "import extract\n",
    "\n",
    "from operator import attrgetter\n",
    "\n",
    "RESIDUES_LIST = \"data/residues.list\"\n",
    "ATOMS_LIST = \"data/atoms.list\"\n",
    "\n",
    "def CleanFormat(f):\n",
    "    \"\"\"\n",
    "    CleanFormat is a function used to format different platform formats to unix. Users need to install dos2unix\n",
    "    \"\"\"\n",
    "    os.system( \"mac2unix -q %s\" %f )\n",
    "    os.system( \"dos2unix -q %s\" %f )"
   ]
  },
  {
   "cell_type": "code",
   "execution_count": 62,
   "metadata": {
    "collapsed": true
   },
   "outputs": [],
   "source": [
    "def normalize_structure(struct, out_file = None, index_file=None, extract_file = None):\n",
    "    pdb_normalizer = pdb_utils.PDBNormalizer( RESIDUES_LIST, ATOMS_LIST )\n",
    "    ok = pdb_normalizer.parse( struct, out_file )\n",
    "    if not ok:\n",
    "        sys.stderr.write(\"ERROR: structure not normalized!\\n\")\n",
    "    else:\n",
    "        sys.stderr.write(\"INFO: Normalization succeded!\\n\")\n",
    "    if not extract_file is None:\n",
    "        coords=open(index_file).read()\n",
    "        extract.extract_PDB(SOLUTION_NORMAL,coords, extract_file)\n",
    "        sys.stderr.write(\"INFO:\tstructure extracted\\n\")"
   ]
  },
  {
   "cell_type": "code",
   "execution_count": 63,
   "metadata": {
    "collapsed": true
   },
   "outputs": [],
   "source": [
    "# PVALUE set according to Hajdin et al., RNA (7) 16, 2010, either \"+\" or \"-\"\n",
    "def calc_RMSD(native_file, native_index, prediction_file, prediction_index, PVALUE = \"-\"):\n",
    "    res_struct = pdb_utils.PDBStruct()\n",
    "    res_struct.load( native_file, native_index )\n",
    "    res_raw_seq = res_struct.raw_sequence()\n",
    "\n",
    "    sol_struct = pdb_utils.PDBStruct()\n",
    "    sol_struct.load( prediction_file, prediction_index )\n",
    "    sol_raw_seq = sol_struct.raw_sequence()\n",
    "\n",
    "    if( sol_raw_seq != res_raw_seq ):\n",
    "        sys.stderr.write(\"ERROR Result sequence != Solution sequence!\\n\")\n",
    "        sys.stderr.write(\"DATA Solution sequence --> '%s'\\n\" %sol_raw_seq )\n",
    "        sys.stderr.write(\"DATA Result sequence   --> '%s'\\n\" %res_raw_seq )\n",
    "        return(-1)\n",
    "    # computes the RMSD\n",
    "    comparer = pdb_utils.PDBComparer()\n",
    "    rmsd = comparer.rmsd( sol_struct, res_struct )\n",
    "    sys.stderr.write(\"INFO Partial RMSD --> %f\\n\" %rmsd )\n",
    "    pvalue = comparer.pvalue( rmsd, len(sol_raw_seq), PVALUE )\n",
    "    sys.stderr.write(\"INFO Partial P-Value --> %e\\n\" %pvalue )\n",
    "    return(rmsd, pvalue)"
   ]
  },
  {
   "cell_type": "code",
   "execution_count": 10,
   "metadata": {
    "collapsed": true
   },
   "outputs": [],
   "source": [
    "def InteractionNetworkFidelity(native_file, native_index, prediction_file, prediction_index):\n",
    "    res_struct = pdb_utils.PDBStruct()\n",
    "    res_struct.load( native_file, native_index )\n",
    "    res_raw_seq = res_struct.raw_sequence()\n",
    "\n",
    "    sol_struct = pdb_utils.PDBStruct()\n",
    "    sol_struct.load( prediction_file, prediction_index )\n",
    "    sol_raw_seq = sol_struct.raw_sequence()\n",
    "\n",
    "    if( sol_raw_seq != res_raw_seq ):\n",
    "        sys.stderr.write(\"ERROR Result sequence != Solution sequence!\\n\")\n",
    "        sys.stderr.write(\"DATA Solution sequence --> '%s'\\n\" %sol_raw_seq )\n",
    "        sys.stderr.write(\"DATA Result sequence\t --> '%s'\\n\" %res_raw_seq )\n",
    "        return(-1)\n",
    "    # computes the RMSD\n",
    "    comparer = pdb_utils.PDBComparer()\n",
    "    rmsd = comparer.rmsd( sol_struct, res_struct )\n",
    "    INF_ALL = comparer.INF( sol_struct, res_struct, type=\"ALL\" )\n",
    "    DI_ALL = rmsd / INF_ALL\n",
    "    INF_WC = comparer.INF( sol_struct, res_struct, type=\"PAIR_2D\" )\n",
    "    INF_NWC = comparer.INF( sol_struct, res_struct, type=\"PAIR_3D\" )\n",
    "    INF_STACK = comparer.INF( sol_struct, res_struct, type=\"STACK\" )\n",
    "    return (rmsd,DI_ALL, INF_ALL, INF_WC, INF_NWC,INF_STACK)"
   ]
  },
  {
   "cell_type": "code",
   "execution_count": 41,
   "metadata": {
    "collapsed": false
   },
   "outputs": [
    {
     "name": "stderr",
     "output_type": "stream",
     "text": [
      "INFO: Normalization succeded!\n",
      "WARNING    >> Atom P from residue (' ', 1, ' ') not found in target atom list\n",
      "WARNING    >> Atom OP1 from residue (' ', 1, ' ') not found in target atom list\n",
      "WARNING    >> Atom OP2 from residue (' ', 1, ' ') not found in target atom list\n",
      "INFO Partial RMSD --> 7.751173\n",
      "INFO Partial P-Value --> 7.327472e-15\n",
      "WARNING    >> Atom P from residue (' ', 1, ' ') not found in target atom list\n",
      "WARNING    >> Atom OP1 from residue (' ', 1, ' ') not found in target atom list\n",
      "WARNING    >> Atom OP2 from residue (' ', 1, ' ') not found in target atom list\n"
     ]
    },
    {
     "name": "stdout",
     "output_type": "stream",
     "text": [
      "14_ChenPostExp_2\n",
      "  RMSD: 7.751173243045827\n",
      "  pvalue: 7.327471962526033e-15\n",
      "14_ChenPostExp_2, rmsd 7.751173243045827\n",
      "  DI_ALL: 10.643784178530254\n",
      "  INF_ALL: 0.72823472489\n"
     ]
    }
   ],
   "source": [
    "# Normalize PDB format, correct residue names and atom names. \n",
    "normalize_structure('example/14_solution_0.pdb','example/14_solution_normalized.pdb')\n",
    "\n",
    "# calculate RMSD for RNA structures\n",
    "# require biopython\n",
    "rmsd, pvalue = calc_RMSD(\"example/14_solution_0.pdb\",\n",
    "        \"example/14_solution_0.index\",\n",
    "        \"example/14_ChenPostExp_2.pdb\",\n",
    "        \"example/14_ChenPostExp_2.index\")\n",
    "\n",
    "print '14_ChenPostExp_2'\n",
    "print '  RMSD:', rmsd\n",
    "print '  pvalue:', pvalue\n",
    "\n",
    "# calculate InteractionNetworkFidelity and Deformation Index for RNA structures\n",
    "# need to have MA-annotate in the directory or set in mcannotate.py\n",
    "rmsd, DI_ALL, INF_ALL, INF_WC, INF_NWC,INF_STACK = InteractionNetworkFidelity(\"example/14_solution_0.pdb\",\n",
    "          \"example/14_solution_0.index\",\n",
    "          \"example/14_ChenPostExp_2.pdb\",\n",
    "          \"example/14_ChenPostExp_2.index\")\n",
    "\n",
    "print '14_ChenPostExp_2, rmsd', rmsd\n",
    "print \"  DI_ALL:\", DI_ALL\n",
    "print \"  INF_ALL:\", INF_ALL"
   ]
  },
  {
   "cell_type": "markdown",
   "metadata": {
    "collapsed": true
   },
   "source": [
    "# Deformation Profile"
   ]
  },
  {
   "cell_type": "markdown",
   "metadata": {},
   "source": [
    "Read [DeformationProfile Manual.pdf](https://github.com/RNA-Puzzles/DeformationProfile/blob/master/manual_1_0_1.pdf) for more details. "
   ]
  },
  {
   "cell_type": "code",
   "execution_count": 91,
   "metadata": {
    "collapsed": false
   },
   "outputs": [
    {
     "name": "stderr",
     "output_type": "stream",
     "text": [
      "Cloning into 'DeformationProfile'...\n"
     ]
    }
   ],
   "source": [
    "%%bash\n",
    "git clone https://github.com/RNA-Puzzles/DeformationProfile.git"
   ]
  },
  {
   "cell_type": "markdown",
   "metadata": {},
   "source": [
    "## Comparing two similar models"
   ]
  },
  {
   "cell_type": "code",
   "execution_count": 92,
   "metadata": {
    "collapsed": false
   },
   "outputs": [
    {
     "ename": "SyntaxError",
     "evalue": "invalid syntax (<ipython-input-92-aaa236dd1b63>, line 1)",
     "output_type": "error",
     "traceback": [
      "\u001b[0;36m  File \u001b[0;32m\"<ipython-input-92-aaa236dd1b63>\"\u001b[0;36m, line \u001b[0;32m1\u001b[0m\n\u001b[0;31m    cd DeformationProfile/examples/ex1\u001b[0m\n\u001b[0m                        ^\u001b[0m\n\u001b[0;31mSyntaxError\u001b[0m\u001b[0;31m:\u001b[0m invalid syntax\n"
     ]
    }
   ],
   "source": [
    "cd DeformationProfile/examples/ex1\n",
    "cd /Users/magnus/work-src/rna-pdb-tools/opt/DeformationProfile"
   ]
  },
  {
   "cell_type": "code",
   "execution_count": 93,
   "metadata": {
    "collapsed": false
   },
   "outputs": [
    {
     "name": "stdout",
     "output_type": "stream",
     "text": [
      "- - - - - - - - - - - - - - - - - - - - - - - - - - - - - - \n",
      "reference:    a.pdb\n",
      "comparing:    b.pdb\n",
      "\n",
      "ref id:       201 202 203 204 205 206 207 208 209 210 211 212 213 214 215 216 217 218 219 220 \n",
      "cmp id:       201 202 203 204 205 206 207 208 209 210 211 212 213 214 215 216 217 218 219 220 \n",
      "\n",
      "ref chain:      B   B   B   B   B   B   B   B   B   B   B   B   B   B   B   B   B   B   B   B \n",
      "cmp chain:      B   B   B   B   B   B   B   B   B   B   B   B   B   B   B   B   B   B   B   B \n",
      "ref residues:   G   G   A   C   U   A   G   C   G   G   A   G   G   C   U   A   G   U   C   C \n",
      "cmp residues:   G   G   A   C   U   A   G   C   G   G   A   G   G   C   U   A   G   U   C   C \n",
      "align. index:   0   1   2   3   4   5   6   7   8   9  10  11  12  13  14  15  16  17  18  19 \n",
      "- - - - - - - - - - - - - - - - - - - - - - - - - - - - - - \n"
     ]
    },
    {
     "name": "stderr",
     "output_type": "stream",
     "text": [
      "opening reference file: 'examples/ex1/a.pdb'\n",
      "opening comparing file: 'examples/ex1/b.pdb'\n",
      "comparing models...\n",
      "\b\b\b\b\b\b\b\b\b\b\b\b\b\b\b\b\b\b\b\b\b\b\b\b\b\b\b\b\b\b\b\b\b\b\b\b\b\b\b\bstep: 0 of 19\b\b\b\b\b\b\b\b\b\b\b\b\b\b\b\b\b\b\b\b\b\b\b\b\b\b\b\b\b\b\b\b\b\b\b\b\b\b\b\bstep: 1 of 19\b\b\b\b\b\b\b\b\b\b\b\b\b\b\b\b\b\b\b\b\b\b\b\b\b\b\b\b\b\b\b\b\b\b\b\b\b\b\b\bstep: 2 of 19\b\b\b\b\b\b\b\b\b\b\b\b\b\b\b\b\b\b\b\b\b\b\b\b\b\b\b\b\b\b\b\b\b\b\b\b\b\b\b\bstep: 3 of 19\b\b\b\b\b\b\b\b\b\b\b\b\b\b\b\b\b\b\b\b\b\b\b\b\b\b\b\b\b\b\b\b\b\b\b\b\b\b\b\bstep: 4 of 19\b\b\b\b\b\b\b\b\b\b\b\b\b\b\b\b\b\b\b\b\b\b\b\b\b\b\b\b\b\b\b\b\b\b\b\b\b\b\b\bstep: 5 of 19\b\b\b\b\b\b\b\b\b\b\b\b\b\b\b\b\b\b\b\b\b\b\b\b\b\b\b\b\b\b\b\b\b\b\b\b\b\b\b\bstep: 6 of 19\b\b\b\b\b\b\b\b\b\b\b\b\b\b\b\b\b\b\b\b\b\b\b\b\b\b\b\b\b\b\b\b\b\b\b\b\b\b\b\bstep: 7 of 19\b\b\b\b\b\b\b\b\b\b\b\b\b\b\b\b\b\b\b\b\b\b\b\b\b\b\b\b\b\b\b\b\b\b\b\b\b\b\b\bstep: 8 of 19\b\b\b\b\b\b\b\b\b\b\b\b\b\b\b\b\b\b\b\b\b\b\b\b\b\b\b\b\b\b\b\b\b\b\b\b\b\b\b\bstep: 9 of 19\b\b\b\b\b\b\b\b\b\b\b\b\b\b\b\b\b\b\b\b\b\b\b\b\b\b\b\b\b\b\b\b\b\b\b\b\b\b\b\bstep: 10 of 19\b\b\b\b\b\b\b\b\b\b\b\b\b\b\b\b\b\b\b\b\b\b\b\b\b\b\b\b\b\b\b\b\b\b\b\b\b\b\b\bstep: 11 of 19\b\b\b\b\b\b\b\b\b\b\b\b\b\b\b\b\b\b\b\b\b\b\b\b\b\b\b\b\b\b\b\b\b\b\b\b\b\b\b\bstep: 12 of 19\b\b\b\b\b\b\b\b\b\b\b\b\b\b\b\b\b\b\b\b\b\b\b\b\b\b\b\b\b\b\b\b\b\b\b\b\b\b\b\bstep: 13 of 19\b\b\b\b\b\b\b\b\b\b\b\b\b\b\b\b\b\b\b\b\b\b\b\b\b\b\b\b\b\b\b\b\b\b\b\b\b\b\b\bstep: 14 of 19\b\b\b\b\b\b\b\b\b\b\b\b\b\b\b\b\b\b\b\b\b\b\b\b\b\b\b\b\b\b\b\b\b\b\b\b\b\b\b\bstep: 15 of 19\b\b\b\b\b\b\b\b\b\b\b\b\b\b\b\b\b\b\b\b\b\b\b\b\b\b\b\b\b\b\b\b\b\b\b\b\b\b\b\bstep: 16 of 19\b\b\b\b\b\b\b\b\b\b\b\b\b\b\b\b\b\b\b\b\b\b\b\b\b\b\b\b\b\b\b\b\b\b\b\b\b\b\b\bstep: 17 of 19\b\b\b\b\b\b\b\b\b\b\b\b\b\b\b\b\b\b\b\b\b\b\b\b\b\b\b\b\b\b\b\b\b\b\b\b\b\b\b\bstep: 18 of 19\b\b\b\b\b\b\b\b\b\b\b\b\b\b\b\b\b\b\b\b\b\b\b\b\b\b\b\b\b\b\b\b\b\b\b\b\b\b\b\bstep: 19 of 19\b\b\b\b\b\b\b\b\b\b\b\b\b\b\b\b\b\b\b\b\b\b\b\b\b\b\b\b\b\b\b\b\b\b\b\b\b\b\b\bdone\n",
      "saving data file...\n",
      "saving svg file...\n"
     ]
    }
   ],
   "source": [
    "%%bash\n",
    "python dp.py examples/ex1/a.pdb examples/ex1/b.pdb"
   ]
  },
  {
   "cell_type": "markdown",
   "metadata": {},
   "source": [
    "![x](opt/DeformationProfile/examples/ex1/b.svg)"
   ]
  },
  {
   "cell_type": "code",
   "execution_count": 94,
   "metadata": {
    "collapsed": false
   },
   "outputs": [
    {
     "name": "stdout",
     "output_type": "stream",
     "text": [
      "#DP 1.0\n",
      "REF_PDB\texamples/ex1/a.pdb\n",
      "REF_MODEL\t0\n",
      "REF_MODEL_SEQUENCE\tGGACUAGCGGAGGCUAGUCC\n",
      "REF_MODEL_RESIDUES\t(B:201:'G  ')(B:202:'G  ')(B:203:'A  ')(B:204:'C  ')(B:205:'U  ')(B:206:'A  ')(B:207:'G  ')(B:208:'C  ')(B:209:'G  ')(B:210:'G  ')(B:211:'A  ')(B:212:'G  ')(B:213:'G  ')(B:214:'C  ')(B:215:'U  ')(B:216:'A  ')(B:217:'G  ')(B:218:'U  ')(B:219:'C  ')(B:220:'C  ')\n",
      "CMP_PDB\texamples/ex1/b.pdb\n",
      "CMP_MODEL\t0\n",
      "CMP_MODEL_SEQUENCE\tGGACUAGCGGAGGCUAGUCC\n",
      "CMP_MODEL_RESIDUES\t(B:201:'G  ')(B:202:'G  ')(B:203:'A  ')(B:204:'C  ')(B:205:'U  ')(B:206:'A  ')(B:207:'G  ')(B:208:'C  ')(B:209:'G  ')(B:210:'G  ')(B:211:'A  ')(B:212:'G  ')(B:213:'G  ')(B:214:'C  ')(B:215:'U  ')(B:216:'A  ')(B:217:'G  ')(B:218:'U  ')(B:219:'C  ')(B:220:'C  ')\n",
      "LOCAL_RMSD\t0.455\t0.170\t0.093\t0.386\t0.876\t0.140\t0.162\t0.361\t0.782\t1.005\t0.132\t0.488\t0.977\t0.388\t0.338\t0.484\t0.115\t0.164\t0.106\t0.072\n",
      "ROW_MEANS\t3.090\t2.476\t2.573\t2.873\t2.802\t1.524\t1.490\t1.833\t4.401\t3.858\t2.353\t2.725\t6.356\t2.263\t1.805\t2.301\t2.531\t2.065\t2.437\t3.917\n",
      "COL_MEANS\t3.518\t3.125\t2.749\t2.337\t1.941\t1.827\t1.979\t2.699\t3.295\t4.629\t4.076\t3.247\t3.234\t2.218\t1.947\t1.768\t1.826\t2.388\t3.021\t3.851\n",
      "ROW_0\t0.275\t0.775\t1.311\t1.894\t2.631\t2.695\t2.894\t4.142\t5.199\t6.791\t6.582\t5.425\t5.092\t3.335\t2.708\t2.299\t2.138\t2.176\t1.817\t1.619\n",
      "ROW_1\t0.598\t0.146\t0.228\t0.514\t0.817\t1.478\t2.389\t4.116\t5.210\t7.493\t6.986\t5.288\t5.262\t3.322\t2.458\t1.217\t0.537\t0.260\t0.297\t0.897\n",
      "ROW_2\t0.784\t0.280\t0.079\t0.410\t0.925\t1.524\t2.457\t4.141\t5.234\t7.380\t7.018\t5.348\t5.437\t3.579\t2.793\t1.595\t0.786\t0.505\t0.314\t0.882\n"
     ]
    }
   ],
   "source": [
    "%%bash\n",
    "head -n 15 examples/ex1/b.dat"
   ]
  },
  {
   "cell_type": "markdown",
   "metadata": {},
   "source": [
    "## Comparing many similar models in single run"
   ]
  },
  {
   "cell_type": "code",
   "execution_count": 103,
   "metadata": {
    "collapsed": false
   },
   "outputs": [
    {
     "name": "stdout",
     "output_type": "stream",
     "text": [
      "- - - - - - - - - - - - - - - - - - - - - - - - - - - - - - \n",
      "reference:    a.pdb\n",
      "comparing:    b1.pdb\n",
      "\n",
      "ref id:       201 202 203 204 205 206 207 208 209 210 211 212 213 214 215 216 217 218 219 220 \n",
      "cmp id:       201 202 203 204 205 206 207 208 209 210 211 212 213 214 215 216 217 218 219 220 \n",
      "\n",
      "ref chain:      B   B   B   B   B   B   B   B   B   B   B   B   B   B   B   B   B   B   B   B \n",
      "cmp chain:      B   B   B   B   B   B   B   B   B   B   B   B   B   B   B   B   B   B   B   B \n",
      "ref residues:   G   G   A   C   U   A   G   C   G   G   A   G   G   C   U   A   G   U   C   C \n",
      "cmp residues:   G   G   A   C   U   A   G   C   G   G   A   G   G   C   U   A   G   U   C   C \n",
      "align. index:   0   1   2   3   4   5   6   7   8   9  10  11  12  13  14  15  16  17  18  19 \n",
      "- - - - - - - - - - - - - - - - - - - - - - - - - - - - - - \n",
      "- - - - - - - - - - - - - - - - - - - - - - - - - - - - - - \n",
      "reference:    a.pdb\n",
      "comparing:    b2.pdb\n",
      "\n",
      "ref id:       201 202 203 204 205 206 207 208 209 210 211 212 213 214 215 216 217 218 219 220 \n",
      "cmp id:       201 202 203 204 205 206 207 208 209 210 211 212 213 214 215 216 217 218 219 220 \n",
      "\n",
      "ref chain:      B   B   B   B   B   B   B   B   B   B   B   B   B   B   B   B   B   B   B   B \n",
      "cmp chain:      B   B   B   B   B   B   B   B   B   B   B   B   B   B   B   B   B   B   B   B \n",
      "ref residues:   G   G   A   C   U   A   G   C   G   G   A   G   G   C   U   A   G   U   C   C \n",
      "cmp residues:   G   G   A   C   U   A   G   C   G   G   A   G   G   C   U   A   G   U   C   C \n",
      "align. index:   0   1   2   3   4   5   6   7   8   9  10  11  12  13  14  15  16  17  18  19 \n",
      "- - - - - - - - - - - - - - - - - - - - - - - - - - - - - - \n",
      "- - - - - - - - - - - - - - - - - - - - - - - - - - - - - - \n",
      "reference:    a.pdb\n",
      "comparing:    b3.pdb\n",
      "\n",
      "ref id:       201 202 203 204 205 206 207 208 209 210 211 212 213 214 215 216 217 218 219 220 \n",
      "cmp id:       201 202 203 204 205 206 207 208 209 210 211 212 213 214 215 216 217 218 219 220 \n",
      "\n",
      "ref chain:      B   B   B   B   B   B   B   B   B   B   B   B   B   B   B   B   B   B   B   B \n",
      "cmp chain:      B   B   B   B   B   B   B   B   B   B   B   B   B   B   B   B   B   B   B   B \n",
      "ref residues:   G   G   A   C   U   A   G   C   G   G   A   G   G   C   U   A   G   U   C   C \n",
      "cmp residues:   G   G   A   C   U   A   G   C   G   G   A   G   G   C   U   A   G   U   C   C \n",
      "align. index:   0   1   2   3   4   5   6   7   8   9  10  11  12  13  14  15  16  17  18  19 \n",
      "- - - - - - - - - - - - - - - - - - - - - - - - - - - - - - \n"
     ]
    },
    {
     "name": "stderr",
     "output_type": "stream",
     "text": [
      "mkdir: out: File exists\n",
      "opening reference file: './ref/a.pdb'\n",
      "opening comparing file: './cmp/b1.pdb'\n",
      "comparing models...\n",
      "\b\b\b\b\b\b\b\b\b\b\b\b\b\b\b\b\b\b\b\b\b\b\b\b\b\b\b\b\b\b\b\b\b\b\b\b\b\b\b\bstep: 0 of 19\b\b\b\b\b\b\b\b\b\b\b\b\b\b\b\b\b\b\b\b\b\b\b\b\b\b\b\b\b\b\b\b\b\b\b\b\b\b\b\bstep: 1 of 19\b\b\b\b\b\b\b\b\b\b\b\b\b\b\b\b\b\b\b\b\b\b\b\b\b\b\b\b\b\b\b\b\b\b\b\b\b\b\b\bstep: 2 of 19\b\b\b\b\b\b\b\b\b\b\b\b\b\b\b\b\b\b\b\b\b\b\b\b\b\b\b\b\b\b\b\b\b\b\b\b\b\b\b\bstep: 3 of 19\b\b\b\b\b\b\b\b\b\b\b\b\b\b\b\b\b\b\b\b\b\b\b\b\b\b\b\b\b\b\b\b\b\b\b\b\b\b\b\bstep: 4 of 19\b\b\b\b\b\b\b\b\b\b\b\b\b\b\b\b\b\b\b\b\b\b\b\b\b\b\b\b\b\b\b\b\b\b\b\b\b\b\b\bstep: 5 of 19\b\b\b\b\b\b\b\b\b\b\b\b\b\b\b\b\b\b\b\b\b\b\b\b\b\b\b\b\b\b\b\b\b\b\b\b\b\b\b\bstep: 6 of 19\b\b\b\b\b\b\b\b\b\b\b\b\b\b\b\b\b\b\b\b\b\b\b\b\b\b\b\b\b\b\b\b\b\b\b\b\b\b\b\bstep: 7 of 19\b\b\b\b\b\b\b\b\b\b\b\b\b\b\b\b\b\b\b\b\b\b\b\b\b\b\b\b\b\b\b\b\b\b\b\b\b\b\b\bstep: 8 of 19\b\b\b\b\b\b\b\b\b\b\b\b\b\b\b\b\b\b\b\b\b\b\b\b\b\b\b\b\b\b\b\b\b\b\b\b\b\b\b\bstep: 9 of 19\b\b\b\b\b\b\b\b\b\b\b\b\b\b\b\b\b\b\b\b\b\b\b\b\b\b\b\b\b\b\b\b\b\b\b\b\b\b\b\bstep: 10 of 19\b\b\b\b\b\b\b\b\b\b\b\b\b\b\b\b\b\b\b\b\b\b\b\b\b\b\b\b\b\b\b\b\b\b\b\b\b\b\b\bstep: 11 of 19\b\b\b\b\b\b\b\b\b\b\b\b\b\b\b\b\b\b\b\b\b\b\b\b\b\b\b\b\b\b\b\b\b\b\b\b\b\b\b\bstep: 12 of 19\b\b\b\b\b\b\b\b\b\b\b\b\b\b\b\b\b\b\b\b\b\b\b\b\b\b\b\b\b\b\b\b\b\b\b\b\b\b\b\bstep: 13 of 19\b\b\b\b\b\b\b\b\b\b\b\b\b\b\b\b\b\b\b\b\b\b\b\b\b\b\b\b\b\b\b\b\b\b\b\b\b\b\b\bstep: 14 of 19\b\b\b\b\b\b\b\b\b\b\b\b\b\b\b\b\b\b\b\b\b\b\b\b\b\b\b\b\b\b\b\b\b\b\b\b\b\b\b\bstep: 15 of 19\b\b\b\b\b\b\b\b\b\b\b\b\b\b\b\b\b\b\b\b\b\b\b\b\b\b\b\b\b\b\b\b\b\b\b\b\b\b\b\bstep: 16 of 19\b\b\b\b\b\b\b\b\b\b\b\b\b\b\b\b\b\b\b\b\b\b\b\b\b\b\b\b\b\b\b\b\b\b\b\b\b\b\b\bstep: 17 of 19\b\b\b\b\b\b\b\b\b\b\b\b\b\b\b\b\b\b\b\b\b\b\b\b\b\b\b\b\b\b\b\b\b\b\b\b\b\b\b\bstep: 18 of 19\b\b\b\b\b\b\b\b\b\b\b\b\b\b\b\b\b\b\b\b\b\b\b\b\b\b\b\b\b\b\b\b\b\b\b\b\b\b\b\bstep: 19 of 19\b\b\b\b\b\b\b\b\b\b\b\b\b\b\b\b\b\b\b\b\b\b\b\b\b\b\b\b\b\b\b\b\b\b\b\b\b\b\b\bdone\n",
      "saving data file...\n",
      "saving svg file...\n",
      "opening comparing file: './cmp/b2.pdb'\n",
      "comparing models...\n",
      "\b\b\b\b\b\b\b\b\b\b\b\b\b\b\b\b\b\b\b\b\b\b\b\b\b\b\b\b\b\b\b\b\b\b\b\b\b\b\b\bstep: 0 of 19\b\b\b\b\b\b\b\b\b\b\b\b\b\b\b\b\b\b\b\b\b\b\b\b\b\b\b\b\b\b\b\b\b\b\b\b\b\b\b\bstep: 1 of 19\b\b\b\b\b\b\b\b\b\b\b\b\b\b\b\b\b\b\b\b\b\b\b\b\b\b\b\b\b\b\b\b\b\b\b\b\b\b\b\bstep: 2 of 19\b\b\b\b\b\b\b\b\b\b\b\b\b\b\b\b\b\b\b\b\b\b\b\b\b\b\b\b\b\b\b\b\b\b\b\b\b\b\b\bstep: 3 of 19\b\b\b\b\b\b\b\b\b\b\b\b\b\b\b\b\b\b\b\b\b\b\b\b\b\b\b\b\b\b\b\b\b\b\b\b\b\b\b\bstep: 4 of 19\b\b\b\b\b\b\b\b\b\b\b\b\b\b\b\b\b\b\b\b\b\b\b\b\b\b\b\b\b\b\b\b\b\b\b\b\b\b\b\bstep: 5 of 19\b\b\b\b\b\b\b\b\b\b\b\b\b\b\b\b\b\b\b\b\b\b\b\b\b\b\b\b\b\b\b\b\b\b\b\b\b\b\b\bstep: 6 of 19\b\b\b\b\b\b\b\b\b\b\b\b\b\b\b\b\b\b\b\b\b\b\b\b\b\b\b\b\b\b\b\b\b\b\b\b\b\b\b\bstep: 7 of 19\b\b\b\b\b\b\b\b\b\b\b\b\b\b\b\b\b\b\b\b\b\b\b\b\b\b\b\b\b\b\b\b\b\b\b\b\b\b\b\bstep: 8 of 19\b\b\b\b\b\b\b\b\b\b\b\b\b\b\b\b\b\b\b\b\b\b\b\b\b\b\b\b\b\b\b\b\b\b\b\b\b\b\b\bstep: 9 of 19\b\b\b\b\b\b\b\b\b\b\b\b\b\b\b\b\b\b\b\b\b\b\b\b\b\b\b\b\b\b\b\b\b\b\b\b\b\b\b\bstep: 10 of 19\b\b\b\b\b\b\b\b\b\b\b\b\b\b\b\b\b\b\b\b\b\b\b\b\b\b\b\b\b\b\b\b\b\b\b\b\b\b\b\bstep: 11 of 19\b\b\b\b\b\b\b\b\b\b\b\b\b\b\b\b\b\b\b\b\b\b\b\b\b\b\b\b\b\b\b\b\b\b\b\b\b\b\b\bstep: 12 of 19\b\b\b\b\b\b\b\b\b\b\b\b\b\b\b\b\b\b\b\b\b\b\b\b\b\b\b\b\b\b\b\b\b\b\b\b\b\b\b\bstep: 13 of 19\b\b\b\b\b\b\b\b\b\b\b\b\b\b\b\b\b\b\b\b\b\b\b\b\b\b\b\b\b\b\b\b\b\b\b\b\b\b\b\bstep: 14 of 19\b\b\b\b\b\b\b\b\b\b\b\b\b\b\b\b\b\b\b\b\b\b\b\b\b\b\b\b\b\b\b\b\b\b\b\b\b\b\b\bstep: 15 of 19\b\b\b\b\b\b\b\b\b\b\b\b\b\b\b\b\b\b\b\b\b\b\b\b\b\b\b\b\b\b\b\b\b\b\b\b\b\b\b\bstep: 16 of 19\b\b\b\b\b\b\b\b\b\b\b\b\b\b\b\b\b\b\b\b\b\b\b\b\b\b\b\b\b\b\b\b\b\b\b\b\b\b\b\bstep: 17 of 19\b\b\b\b\b\b\b\b\b\b\b\b\b\b\b\b\b\b\b\b\b\b\b\b\b\b\b\b\b\b\b\b\b\b\b\b\b\b\b\bstep: 18 of 19\b\b\b\b\b\b\b\b\b\b\b\b\b\b\b\b\b\b\b\b\b\b\b\b\b\b\b\b\b\b\b\b\b\b\b\b\b\b\b\bstep: 19 of 19\b\b\b\b\b\b\b\b\b\b\b\b\b\b\b\b\b\b\b\b\b\b\b\b\b\b\b\b\b\b\b\b\b\b\b\b\b\b\b\bdone\n",
      "saving data file...\n",
      "saving svg file...\n",
      "opening comparing file: './cmp/b3.pdb'\n",
      "comparing models...\n",
      "\b\b\b\b\b\b\b\b\b\b\b\b\b\b\b\b\b\b\b\b\b\b\b\b\b\b\b\b\b\b\b\b\b\b\b\b\b\b\b\bstep: 0 of 19\b\b\b\b\b\b\b\b\b\b\b\b\b\b\b\b\b\b\b\b\b\b\b\b\b\b\b\b\b\b\b\b\b\b\b\b\b\b\b\bstep: 1 of 19\b\b\b\b\b\b\b\b\b\b\b\b\b\b\b\b\b\b\b\b\b\b\b\b\b\b\b\b\b\b\b\b\b\b\b\b\b\b\b\bstep: 2 of 19\b\b\b\b\b\b\b\b\b\b\b\b\b\b\b\b\b\b\b\b\b\b\b\b\b\b\b\b\b\b\b\b\b\b\b\b\b\b\b\bstep: 3 of 19\b\b\b\b\b\b\b\b\b\b\b\b\b\b\b\b\b\b\b\b\b\b\b\b\b\b\b\b\b\b\b\b\b\b\b\b\b\b\b\bstep: 4 of 19\b\b\b\b\b\b\b\b\b\b\b\b\b\b\b\b\b\b\b\b\b\b\b\b\b\b\b\b\b\b\b\b\b\b\b\b\b\b\b\bstep: 5 of 19\b\b\b\b\b\b\b\b\b\b\b\b\b\b\b\b\b\b\b\b\b\b\b\b\b\b\b\b\b\b\b\b\b\b\b\b\b\b\b\bstep: 6 of 19\b\b\b\b\b\b\b\b\b\b\b\b\b\b\b\b\b\b\b\b\b\b\b\b\b\b\b\b\b\b\b\b\b\b\b\b\b\b\b\bstep: 7 of 19\b\b\b\b\b\b\b\b\b\b\b\b\b\b\b\b\b\b\b\b\b\b\b\b\b\b\b\b\b\b\b\b\b\b\b\b\b\b\b\bstep: 8 of 19\b\b\b\b\b\b\b\b\b\b\b\b\b\b\b\b\b\b\b\b\b\b\b\b\b\b\b\b\b\b\b\b\b\b\b\b\b\b\b\bstep: 9 of 19\b\b\b\b\b\b\b\b\b\b\b\b\b\b\b\b\b\b\b\b\b\b\b\b\b\b\b\b\b\b\b\b\b\b\b\b\b\b\b\bstep: 10 of 19\b\b\b\b\b\b\b\b\b\b\b\b\b\b\b\b\b\b\b\b\b\b\b\b\b\b\b\b\b\b\b\b\b\b\b\b\b\b\b\bstep: 11 of 19\b\b\b\b\b\b\b\b\b\b\b\b\b\b\b\b\b\b\b\b\b\b\b\b\b\b\b\b\b\b\b\b\b\b\b\b\b\b\b\bstep: 12 of 19\b\b\b\b\b\b\b\b\b\b\b\b\b\b\b\b\b\b\b\b\b\b\b\b\b\b\b\b\b\b\b\b\b\b\b\b\b\b\b\bstep: 13 of 19\b\b\b\b\b\b\b\b\b\b\b\b\b\b\b\b\b\b\b\b\b\b\b\b\b\b\b\b\b\b\b\b\b\b\b\b\b\b\b\bstep: 14 of 19\b\b\b\b\b\b\b\b\b\b\b\b\b\b\b\b\b\b\b\b\b\b\b\b\b\b\b\b\b\b\b\b\b\b\b\b\b\b\b\bstep: 15 of 19\b\b\b\b\b\b\b\b\b\b\b\b\b\b\b\b\b\b\b\b\b\b\b\b\b\b\b\b\b\b\b\b\b\b\b\b\b\b\b\bstep: 16 of 19\b\b\b\b\b\b\b\b\b\b\b\b\b\b\b\b\b\b\b\b\b\b\b\b\b\b\b\b\b\b\b\b\b\b\b\b\b\b\b\bstep: 17 of 19\b\b\b\b\b\b\b\b\b\b\b\b\b\b\b\b\b\b\b\b\b\b\b\b\b\b\b\b\b\b\b\b\b\b\b\b\b\b\b\bstep: 18 of 19\b\b\b\b\b\b\b\b\b\b\b\b\b\b\b\b\b\b\b\b\b\b\b\b\b\b\b\b\b\b\b\b\b\b\b\b\b\b\b\bstep: 19 of 19\b\b\b\b\b\b\b\b\b\b\b\b\b\b\b\b\b\b\b\b\b\b\b\b\b\b\b\b\b\b\b\b\b\b\b\b\b\b\b\bdone\n",
      "saving data file...\n",
      "saving svg file...\n"
     ]
    }
   ],
   "source": [
    "%%bash -s \"/Users/magnus/work-src/rna-pdb-tools/opt/DeformationProfile/examples/ex2\"\n",
    "cd $1 \n",
    "mkdir out\n",
    "python ../../dp.py -c ex2a.cfg"
   ]
  },
  {
   "cell_type": "code",
   "execution_count": 105,
   "metadata": {
    "collapsed": false
   },
   "outputs": [
    {
     "name": "stdout",
     "output_type": "stream",
     "text": [
      "- - - - - - - - - - - - - - - - - - - - - - - - - - - - - - \n",
      "reference:    a.pdb\n",
      "comparing:    b.pdb\n",
      "\n",
      "ref id:       201 202 203 204 205 206 207 208 209   0   1   2   3   4   5   6   7   8   9  10 \n",
      "cmp id:         1   2   3   4   5   6   7   8   9  10  11  12  13  14  15  16  17  18  19  20 \n",
      "\n",
      "ref chain:      B   B   B   B   B   B   B   B   B   B   B   B   B   B   B   B   B   B   B   B \n",
      "cmp chain:      A   A   A   A   A   A   A   A   A   A   A   A   A   A   A   A   A   A   A   A \n",
      "ref residues:   G   G   A   C   U   A   G   C   G   G   A   G   G   C   U   A   G   U   C   C \n",
      "cmp residues:   G   G   A   C   U   A   G   C   G   G   A   G   G   C   U   A   G   U   C   C \n",
      "align. index:   0   1   2   3   4   5   6   7   8   9  10  11  12  13  14  15  16  17  18  19 \n",
      "- - - - - - - - - - - - - - - - - - - - - - - - - - - - - - \n"
     ]
    },
    {
     "name": "stderr",
     "output_type": "stream",
     "text": [
      "mkdir: out: File exists\n",
      "opening reference file: 'a.pdb'\n",
      "opening comparing file: 'b.pdb'\n",
      "comparing models...\n",
      "\b\b\b\b\b\b\b\b\b\b\b\b\b\b\b\b\b\b\b\b\b\b\b\b\b\b\b\b\b\b\b\b\b\b\b\b\b\b\b\bstep: 0 of 19\b\b\b\b\b\b\b\b\b\b\b\b\b\b\b\b\b\b\b\b\b\b\b\b\b\b\b\b\b\b\b\b\b\b\b\b\b\b\b\bstep: 1 of 19\b\b\b\b\b\b\b\b\b\b\b\b\b\b\b\b\b\b\b\b\b\b\b\b\b\b\b\b\b\b\b\b\b\b\b\b\b\b\b\bstep: 2 of 19\b\b\b\b\b\b\b\b\b\b\b\b\b\b\b\b\b\b\b\b\b\b\b\b\b\b\b\b\b\b\b\b\b\b\b\b\b\b\b\bstep: 3 of 19\b\b\b\b\b\b\b\b\b\b\b\b\b\b\b\b\b\b\b\b\b\b\b\b\b\b\b\b\b\b\b\b\b\b\b\b\b\b\b\bstep: 4 of 19\b\b\b\b\b\b\b\b\b\b\b\b\b\b\b\b\b\b\b\b\b\b\b\b\b\b\b\b\b\b\b\b\b\b\b\b\b\b\b\bstep: 5 of 19\b\b\b\b\b\b\b\b\b\b\b\b\b\b\b\b\b\b\b\b\b\b\b\b\b\b\b\b\b\b\b\b\b\b\b\b\b\b\b\bstep: 6 of 19\b\b\b\b\b\b\b\b\b\b\b\b\b\b\b\b\b\b\b\b\b\b\b\b\b\b\b\b\b\b\b\b\b\b\b\b\b\b\b\bstep: 7 of 19\b\b\b\b\b\b\b\b\b\b\b\b\b\b\b\b\b\b\b\b\b\b\b\b\b\b\b\b\b\b\b\b\b\b\b\b\b\b\b\bstep: 8 of 19\b\b\b\b\b\b\b\b\b\b\b\b\b\b\b\b\b\b\b\b\b\b\b\b\b\b\b\b\b\b\b\b\b\b\b\b\b\b\b\bstep: 9 of 19\b\b\b\b\b\b\b\b\b\b\b\b\b\b\b\b\b\b\b\b\b\b\b\b\b\b\b\b\b\b\b\b\b\b\b\b\b\b\b\bstep: 10 of 19\b\b\b\b\b\b\b\b\b\b\b\b\b\b\b\b\b\b\b\b\b\b\b\b\b\b\b\b\b\b\b\b\b\b\b\b\b\b\b\bstep: 11 of 19\b\b\b\b\b\b\b\b\b\b\b\b\b\b\b\b\b\b\b\b\b\b\b\b\b\b\b\b\b\b\b\b\b\b\b\b\b\b\b\bstep: 12 of 19\b\b\b\b\b\b\b\b\b\b\b\b\b\b\b\b\b\b\b\b\b\b\b\b\b\b\b\b\b\b\b\b\b\b\b\b\b\b\b\bstep: 13 of 19\b\b\b\b\b\b\b\b\b\b\b\b\b\b\b\b\b\b\b\b\b\b\b\b\b\b\b\b\b\b\b\b\b\b\b\b\b\b\b\bstep: 14 of 19\b\b\b\b\b\b\b\b\b\b\b\b\b\b\b\b\b\b\b\b\b\b\b\b\b\b\b\b\b\b\b\b\b\b\b\b\b\b\b\bstep: 15 of 19\b\b\b\b\b\b\b\b\b\b\b\b\b\b\b\b\b\b\b\b\b\b\b\b\b\b\b\b\b\b\b\b\b\b\b\b\b\b\b\bstep: 16 of 19\b\b\b\b\b\b\b\b\b\b\b\b\b\b\b\b\b\b\b\b\b\b\b\b\b\b\b\b\b\b\b\b\b\b\b\b\b\b\b\bstep: 17 of 19\b\b\b\b\b\b\b\b\b\b\b\b\b\b\b\b\b\b\b\b\b\b\b\b\b\b\b\b\b\b\b\b\b\b\b\b\b\b\b\bstep: 18 of 19\b\b\b\b\b\b\b\b\b\b\b\b\b\b\b\b\b\b\b\b\b\b\b\b\b\b\b\b\b\b\b\b\b\b\b\b\b\b\b\bstep: 19 of 19\b\b\b\b\b\b\b\b\b\b\b\b\b\b\b\b\b\b\b\b\b\b\b\b\b\b\b\b\b\b\b\b\b\b\b\b\b\b\b\bdone\n",
      "saving data file...\n",
      "saving svg file...\n"
     ]
    }
   ],
   "source": [
    "%%bash -s \"/Users/magnus/work-src/rna-pdb-tools/opt/DeformationProfile/examples/ex3\"\n",
    "cd $1 \n",
    "mkdir out\n",
    "python ../../dp.py -c ex3.cfg"
   ]
  },
  {
   "cell_type": "markdown",
   "metadata": {},
   "source": [
    "# mcq-cli"
   ]
  },
  {
   "cell_type": "markdown",
   "metadata": {},
   "source": [
    "[MCQ (Mean of Circular Quantities)](https://github.com/tzok/mcq4structures) has been first presented in the paper “MCQ4Structures to compute similarity of molecule structures” by Zok et al. (Central European Journal of Operations Research, 2014;22(3):457-474. doi: 10.1007/s10100-013-0296-5).\n",
    "\n",
    "[LCS-TA (Longest Continuous Segments in Torsion Angle space)](https://github.com/tzok/mcq4structures) applies a measure first described in the paper “LCS-TA to identify similar fragments in RNA 3D structures” by Wiedemann et al. (BMC Bioinformatics, 2017;18(1):456. doi: 10.1186/s12859-017-1867-6). A full implementation of both methods can be found on github, maintained by Zok and Wiedemann.\n",
    "\n",
    "Most important features of both methods / measures:\n",
    "\n",
    "- MCQ\n",
    "    - The method applies to a pair of 3D structures and is size independent.\n",
    "    - It can be used for a set of structures in all-against-all or all-against-target mode.\n",
    "    - It translates typical algebraic representation of a 3D structure into the trigonometric one (a set of torsion angles).\n",
    "    - It computes the distance between structures in torsion angle space.\n",
    "    - The distance is measured as mean of local distances between the corresponding angles, and provided in degrees.\n",
    "    - The measure is sequence independent.\n",
    "\n",
    "- LCS-TA\n",
    "    - The method applies to a pair of 3D structures and is size independent.\n",
    "    - It uses MCQ-based measure for structure comparison.\n",
    "    - Within the compared structures, it finds the longest continuous segments which display similarity in torsion angle space.\n",
    "    - Two segments are considered similar if their MCQ is below predefined threshold.\n",
    "    - The method provides segment length and its position in the structure.\n",
    "    - The length of the longest continuous segment is a measure of similarity of two structures.\n",
    "    - The method can be run in sequence dependent or sequence independent mode.\n",
    "\n",
    "MCQ is maintained by Zok, while LCS-TA is maintained by Wiedemann"
   ]
  },
  {
   "cell_type": "code",
   "execution_count": null,
   "metadata": {
    "collapsed": true
   },
   "outputs": [],
   "source": [
    "@inprogress"
   ]
  },
  {
   "cell_type": "markdown",
   "metadata": {},
   "source": [
    "# rnaqua: A tool supporting quality assessment of RNA 3D structures"
   ]
  },
  {
   "cell_type": "markdown",
   "metadata": {},
   "source": [
    "[RNAQUA (RNA QUality Assessment)](https://github.com/mantczak/rnaqua) is a web service based wrapper of basic RNA comparison metrics. It is a RESTful web service client developed in Java. The tool provides a set of web services initially designed for RNAssess (Lukasiak et al., Nucleic Acids Research, 2015;43(W1):W502-W506. doi:10.1093/nar/gkv557) to support the quality assessment of RNA 3D structures. RNAQUA requires a stable release of JRE 7 (or later) installed on a user workstation with an internet access. Full implementation of the tool is stored on github and maintained by Antczak. The binaries and use cases can be downloaded from here. Most important features of RNAQUA:\n",
    "\n",
    "- At the input, a user provides RNA 3D structure(s) in PDB format.\n",
    "- Output data are returned in XML format.\n",
    "- RNAQUA allows to compute the following measures:\n",
    "    - ClashScore,\n",
    "    - Root-mean-square deviation (RMSD),\n",
    "    - Interaction network fidelity (INF),\n",
    "    - Deformation index (DI),\n",
    "    - P-value (either for entire RNA 3D structure(s) or for a set of discontinuous 3D substructures).\n",
    "- Two processing modes are available:\n",
    "    - An analysis of single RNA 3D structure (PDB validation, ClashScore, sequence-based analysis, structure unification),\n",
    "    - An analysis of RNA 3D model(s) with respect to the reference structure (RMSD, INF, DI, P-value, Deformation profile, sequence-based differences between structures, multiple models over the reference structure superposition).\n",
    "- Optionally, the user can define alignment between the reference structure and all corresponding RNA 3D model(s) which is helpful if there are differences in sequence, distribution of chains or residue numbering.\n",
    "\n",
    "This metric tool is maintained by Antczak.\n",
    "\n",
    "**DEMO**\n",
    "\n",
    "Run rnaqua using Docker."
   ]
  },
  {
   "cell_type": "code",
   "execution_count": 6,
   "metadata": {
    "collapsed": false
   },
   "outputs": [
    {
     "name": "stdout",
     "output_type": "stream",
     "text": [
      "usage: rnaqua\n",
      " -c,--command <arg>   supported commands: PDB-VALIDATION, DEFORMATION-PROFILE, CLASH-SCORE, ROOT-MEAN-SQUARE-DEVIATION, ALL-INTERACTION-NETWORK-FIDELITY-SCORES-AT-ONCE,\n",
      "                      INTERACTION-NETWORK-FIDELITY-WATSON-CRICK, INTERACTION-NETWORK-FIDELITY-NON-WATSON-CRICK, INTERACTION-NETWORK-FIDELITY-STACKING, INTERACTION-NETWORK-FIDELITY-ALL, P-VALUE,\n",
      "                      DEFORMATION-INDEX, ALL-SCORES-AT-ONCE, SEQUENCE, FRAGMENT, ORIGINAL-3D, RENUMERATED-3D\n"
     ]
    }
   ],
   "source": [
    "%%bash \n",
    "docker exec -i rnapuzzles_toolkit_1 /home/demo/rna-puzzles-toolkit/rnaqua-binary/bin/rnaqua.sh -h"
   ]
  },
  {
   "cell_type": "markdown",
   "metadata": {},
   "source": [
    "## PDB-VALIDATION\n"
   ]
  },
  {
   "cell_type": "code",
   "execution_count": 20,
   "metadata": {
    "collapsed": false
   },
   "outputs": [
    {
     "name": "stdout",
     "output_type": "stream",
     "text": [
      "13 Oct 2018 17:54:20 : Command: PDB-VALIDATION\n",
      "Base pairs identification tool: MC-ANNOTATE\n",
      "Consider atoms supported by RNA-Puzzles only: N\n",
      "Output file path: /tmp/validation.xml\n",
      "Multiple PDB models directory path: rna-puzzles-toolkit/rnaqua-binary/use-cases/SINGLE-STRUCTURE-ANALYSIS/PDB-VALIDATION/models/\n",
      "13 Oct 2018 17:54:21 : Command processed properly\n"
     ]
    }
   ],
   "source": [
    "%%bash \n",
    "docker exec -i rnapuzzles_toolkit_1 /home/demo/rna-puzzles-toolkit/rnaqua-binary/bin/rnaqua.sh \\\n",
    "--command PDB-VALIDATION \\\n",
    "--multiple-models-directory-path rna-puzzles-toolkit/rnaqua-binary/use-cases/SINGLE-STRUCTURE-ANALYSIS/PDB-VALIDATION/models/ \\\n",
    "--output-file-path /tmp/validation.xml\n",
    "docker exec -i rnapuzzles_toolkit_1 cat /tmp/validation.xml"
   ]
  },
  {
   "cell_type": "code",
   "execution_count": 21,
   "metadata": {
    "collapsed": false
   },
   "outputs": [
    {
     "name": "stdout",
     "output_type": "stream",
     "text": [
      "<?xml version=\"1.0\" encoding=\"UTF-8\" standalone=\"yes\"?><descriptions><basics><filename>model.pdb</filename><errors><error>No. 5: Omitted record. Atom serial number is not integer (   A5). Residue sequence number is not integer ( 2A1). Unrecognized residue name (Z). X coordinate is not floating-point number (   2.A25). Y coordinate is not floating-point number ( -2A.462). Z coordinate is not floating-point number (  -3.A25).</error></errors></basics></descriptions>"
     ]
    }
   ],
   "source": [
    "%%bash\n",
    "docker exec -i rnapuzzles_toolkit_1 cat /tmp/validation.xml"
   ]
  },
  {
   "cell_type": "code",
   "execution_count": 25,
   "metadata": {
    "collapsed": false
   },
   "outputs": [
    {
     "name": "stdout",
     "output_type": "stream",
     "text": [
      "13 Oct 2018 17:59:12 : Command: PDB-VALIDATION\n",
      "Base pairs identification tool: MC-ANNOTATE\n",
      "Consider atoms supported by RNA-Puzzles only: N\n",
      "Output file path: /tmp/validation.xml\n",
      "Single model PDB file path: rna-puzzles-toolkit/rnaqua-binary/use-cases/SINGLE-STRUCTURE-ANALYSIS/PDB-VALIDATION/models/model.pdb\n",
      "13 Oct 2018 17:59:12 : Command processed properly\n"
     ]
    }
   ],
   "source": [
    "%%bash\n",
    "docker exec -i rnapuzzles_toolkit_1 /home/demo/rna-puzzles-toolkit/rnaqua-binary/bin/rnaqua.sh \\\n",
    "--command PDB-VALIDATION \\\n",
    "--single-model-file-path rna-puzzles-toolkit/rnaqua-binary/use-cases/SINGLE-STRUCTURE-ANALYSIS/PDB-VALIDATION/models/model.pdb \\\n",
    "--output-file-path /tmp/validation.xml"
   ]
  },
  {
   "cell_type": "markdown",
   "metadata": {},
   "source": [
    "## Clash Score"
   ]
  },
  {
   "cell_type": "markdown",
   "metadata": {},
   "source": [
    "    14_ChenPostExp_1_rpr.pdb:U_1,31|U_33,29"
   ]
  },
  {
   "cell_type": "code",
   "execution_count": 6,
   "metadata": {
    "collapsed": false
   },
   "outputs": [
    {
     "name": "stdout",
     "output_type": "stream",
     "text": [
      "14 Oct 2018 17:38:19 : Command: CLASH-SCORE\n",
      "Alignment: 14_ChenPostExp_1_rpr.pdb:U_1_ ,31|U_33_ ,29\n",
      "Base pairs identification tool: MC-ANNOTATE\n",
      "Consider atoms supported by RNA-Puzzles only: N\n",
      "Output file path: /tmp/14_ChenPostExp_1_rpr.xml\n",
      "Single model PDB file path: rna-puzzles-toolkit/rnaqua-binary/use-cases/SINGLE-STRUCTURE-ANALYSIS/SCORES/CLASH-SCORE/incontinuous-models/14_ChenPostExp_1_rpr.pdb\n",
      "14 Oct 2018 17:38:30 : Command processed properly\n"
     ]
    }
   ],
   "source": [
    "%%bash\n",
    "CURRENT_DIR=\"rna-puzzles-toolkit/rnaqua-binary/use-cases/SINGLE-STRUCTURE-ANALYSIS/SCORES/CLASH-SCORE\"\n",
    "docker exec -i rnapuzzles_toolkit_1 /home/demo/rna-puzzles-toolkit/rnaqua-binary/bin/rnaqua.sh --command CLASH-SCORE --single-model-file-path \\\n",
    "\"${CURRENT_DIR}/incontinuous-models/14_ChenPostExp_1_rpr.pdb\" \\\n",
    "--alignment \"14_ChenPostExp_1_rpr.pdb:U_1,31|U_33,29\" --output-file-path /tmp/14_ChenPostExp_1_rpr.xml"
   ]
  },
  {
   "cell_type": "code",
   "execution_count": 7,
   "metadata": {
    "collapsed": false
   },
   "outputs": [
    {
     "name": "stdout",
     "output_type": "stream",
     "text": [
      "<?xml version=\"1.0\" encoding=\"UTF-8\" standalone=\"yes\"?><measureScores><structure><description><filename>14_ChenPostExp_1_rpr.pdb</filename><errors/></description><score>2.06</score></structure></measureScores>"
     ]
    }
   ],
   "source": [
    "%%bash\n",
    "CURRENT_DIR=\"rna-puzzles-toolkit/rnaqua-binary/use-cases/SINGLE-STRUCTURE-ANALYSIS/SCORES/CLASH-SCORE\"\n",
    "docker exec -i rnapuzzles_toolkit_1 cat /tmp/14_ChenPostExp_1_rpr.xml\n",
    "#\n",
    "#<?xml version=\"1.0\" encoding=\"UTF-8\" standalone=\"yes\"?>\n",
    "#<measureScores><structure><description><filename>14_ChenPostExp_1_rpr.pdb</filename><errors/></description><score>2.06</score></structure></measureScores>\n",
    "#"
   ]
  },
  {
   "cell_type": "markdown",
   "metadata": {},
   "source": [
    "## Structure 3D"
   ]
  },
  {
   "cell_type": "markdown",
   "metadata": {},
   "source": [
    "**ORIGINAL-3D** and **RENUMERATED-3D**\n",
    "\n",
    "An extraction (**ORIGINAL-3D**) and unification (**RENUMERATED-3D**) of RNA 3D model(s) or a set of incontinuous 3D substructures specified by the user which are additionally superimposed over the corresponding 3D structure/substructures of the reference. At the output, ZIP archive including the coordinates of the reference structure as well as all considered RNA 3D model(s) is returned."
   ]
  },
  {
   "cell_type": "markdown",
   "metadata": {},
   "source": [
    "**Alignment**\n",
    "\n",
    "To ensure robustness of quality assessment process a user can specify the appropriate alignment (-a,--alignment) between the reference 3D structure and all analyzed RNA 3D model(s) which often differ slightly in sequence, distribution of chains or numbering of residues. \n",
    "\n",
    "An example of alignment prepared between the reference structure (solution.pdb) and a single RNA 3D model (model.pdb) is presented below. This alignment considers two incontinuous 3D substructures. Moreover, there is also incompatibility of chain id between compared 3D structures. \n",
    "\n",
    "Each substructure is described by id of its first residue [i.e., chain id + '_' + residue serial number + '_' + insertion code (if needed)] and length. To integrate many 3D substructures within a single alignment prepared for the particular RNA 3D structure(s) their descriptions are separated by '|'. Alignments prepared for the reference structure as well as the analyzed RNA 3D models combined into a single string are separated by ';'. Alignment prepared for the reference structure should be always included at the beginning of this string."
   ]
  },
  {
   "cell_type": "code",
   "execution_count": 3,
   "metadata": {
    "collapsed": false
   },
   "outputs": [
    {
     "name": "stdout",
     "output_type": "stream",
     "text": [
      "14 Oct 2018 17:37:48 : Command: RENUMERATED-3D\n",
      "Alignment: 14_ChenPostExp_1_rpr.pdb:U_1_ ,31|U_33_ ,29\n",
      "Base pairs identification tool: MC-ANNOTATE\n",
      "Consider atoms supported by RNA-Puzzles only: N\n",
      "Output file path: /home/demo/14_ChenPostExp_1_rpr.zip\n",
      "Multiple PDB models directory path: rna-puzzles-toolkit/rnaqua-binary/use-cases/SINGLE-STRUCTURE-ANALYSIS/STRUCTURE-3D/RENUMERATED-3D//models\n",
      "14 Oct 2018 17:37:49 : Command processed properly\n"
     ]
    }
   ],
   "source": [
    "%%bash\n",
    "CURRENT_DIR=\"rna-puzzles-toolkit/rnaqua-binary/use-cases/SINGLE-STRUCTURE-ANALYSIS/STRUCTURE-3D/RENUMERATED-3D/\"\n",
    "docker exec -i rnapuzzles_toolkit_1 /home/demo/rna-puzzles-toolkit/rnaqua-binary/bin/rnaqua.sh \\\n",
    "--command RENUMERATED-3D \\\n",
    "--multiple-models-directory-path \"${CURRENT_DIR}/models\" \\\n",
    "--alignment \"14_ChenPostExp_1_rpr.pdb:U_1,31|U_33,29\" \\\n",
    "--output-file-path \"/home/demo/14_ChenPostExp_1_rpr.zip\""
   ]
  },
  {
   "cell_type": "markdown",
   "metadata": {},
   "source": [
    "# rna-pdb-tools"
   ]
  },
  {
   "cell_type": "code",
   "execution_count": null,
   "metadata": {
    "collapsed": true
   },
   "outputs": [],
   "source": [
    "@inprogress"
   ]
  }
 ],
 "metadata": {
  "hide_input": false,
  "kernelspec": {
   "display_name": "Python 2",
   "language": "python",
   "name": "python2"
  },
  "language_info": {
   "codemirror_mode": {
    "name": "ipython",
    "version": 2
   },
   "file_extension": ".py",
   "mimetype": "text/x-python",
   "name": "python",
   "nbconvert_exporter": "python",
   "pygments_lexer": "ipython2",
   "version": "2.7.15"
  },
  "toc": {
   "colors": {
    "hover_highlight": "#DAA520",
    "running_highlight": "#FF0000",
    "selected_highlight": "#FFD700"
   },
   "moveMenuLeft": true,
   "nav_menu": {
    "height": "12px",
    "width": "252px"
   },
   "navigate_menu": true,
   "number_sections": true,
   "sideBar": true,
   "threshold": 4,
   "toc_cell": false,
   "toc_position": {
    "height": "864px",
    "left": "0px",
    "right": "1260.8271484375px",
    "top": "106.98529052734375px",
    "width": "278px"
   },
   "toc_section_display": "block",
   "toc_window_display": true,
   "widenNotebook": false
  }
 },
 "nbformat": 4,
 "nbformat_minor": 2
}
