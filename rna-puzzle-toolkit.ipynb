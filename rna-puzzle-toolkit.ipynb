{
 "cells": [
  {
   "cell_type": "markdown",
   "metadata": {},
   "source": [
    "# BasicAssessMetrics"
   ]
  },
  {
   "cell_type": "code",
   "execution_count": 4,
   "metadata": {
    "collapsed": false
   },
   "outputs": [
    {
     "name": "stdout",
     "output_type": "stream",
     "text": [
      "/Users/magnus/work-src/rna-pdb-tools/opt/BasicAssessMetrics\n"
     ]
    }
   ],
   "source": [
    "cd opt/BasicAssessMetrics"
   ]
  },
  {
   "cell_type": "code",
   "execution_count": 12,
   "metadata": {
    "collapsed": false
   },
   "outputs": [],
   "source": [
    "import sys\n",
    "import os\n",
    "\n",
    "import pdb_utils\n",
    "import utils\n",
    "import extract\n",
    "\n",
    "from operator import attrgetter\n",
    "\n",
    "RESIDUES_LIST = \"data/residues.list\"\n",
    "ATOMS_LIST = \"data/atoms.list\"\n",
    "\n",
    "def CleanFormat(f):\n",
    "    \"\"\"\n",
    "    CleanFormat is a function used to format different platform formats to unix. Users need to install dos2unix\n",
    "    \"\"\"\n",
    "    os.system( \"mac2unix -q %s\" %f )\n",
    "    os.system( \"dos2unix -q %s\" %f )"
   ]
  },
  {
   "cell_type": "code",
   "execution_count": 13,
   "metadata": {
    "collapsed": true
   },
   "outputs": [],
   "source": [
    "def normalize_structure(struct, out_file = None, index_file=None, extract_file = None):\n",
    "    pdb_normalizer = pdb_utils.PDBNormalizer( RESIDUES_LIST, ATOMS_LIST )\n",
    "    ok = pdb_normalizer.parse( struct, out_file )\n",
    "    if not ok:\n",
    "        sys.stderr.write(\"ERROR: structure not normalized!\\n\")\n",
    "    else:\n",
    "        sys.stderr.write(\"INFO: Normalization succeded!\\n\")\n",
    "    if not extract_file is None:\n",
    "        coords=open(index_file).read()\n",
    "        extract.extract_PDB(SOLUTION_NORMAL,coords, extract_file)\n",
    "        sys.stderr.write(\"INFO:\tstructure extracted\\n\")"
   ]
  },
  {
   "cell_type": "code",
   "execution_count": 14,
   "metadata": {
    "collapsed": true
   },
   "outputs": [],
   "source": [
    "# PVALUE set according to Hajdin et al., RNA (7) 16, 2010, either \"+\" or \"-\"\n",
    "def calc_RMSD(native_file, native_index, prediction_file, prediction_index, PVALUE = \"-\"):\n",
    "    res_struct = pdb_utils.PDBStruct()\n",
    "    res_struct.load( native_file, native_index )\n",
    "    res_raw_seq = res_struct.raw_sequence()\n",
    "\n",
    "    sol_struct = pdb_utils.PDBStruct()\n",
    "    sol_struct.load( prediction_file, prediction_index )\n",
    "    sol_raw_seq = sol_struct.raw_sequence()\n",
    "\n",
    "    if( sol_raw_seq != res_raw_seq ):\n",
    "        sys.stderr.write(\"ERROR Result sequence != Solution sequence!\\n\")\n",
    "        sys.stderr.write(\"DATA Solution sequence --> '%s'\\n\" %sol_raw_seq )\n",
    "        sys.stderr.write(\"DATA Result sequence   --> '%s'\\n\" %res_raw_seq )\n",
    "        return(-1)\n",
    "    # computes the RMSD\n",
    "    comparer = pdb_utils.PDBComparer()\n",
    "    rmsd = comparer.rmsd( sol_struct, res_struct )\n",
    "    sys.stderr.write(\"INFO Partial RMSD --> %f\\n\" %rmsd )\n",
    "    pvalue = comparer.pvalue( rmsd, len(sol_raw_seq), PVALUE )\n",
    "    sys.stderr.write(\"INFO Partial P-Value --> %e\\n\" %pvalue )\n",
    "    return(rmsd, pvalue)"
   ]
  },
  {
   "cell_type": "code",
   "execution_count": 10,
   "metadata": {
    "collapsed": true
   },
   "outputs": [],
   "source": [
    "def InteractionNetworkFidelity(native_file, native_index, prediction_file, prediction_index):\n",
    "    res_struct = pdb_utils.PDBStruct()\n",
    "    res_struct.load( native_file, native_index )\n",
    "    res_raw_seq = res_struct.raw_sequence()\n",
    "\n",
    "    sol_struct = pdb_utils.PDBStruct()\n",
    "    sol_struct.load( prediction_file, prediction_index )\n",
    "    sol_raw_seq = sol_struct.raw_sequence()\n",
    "\n",
    "    if( sol_raw_seq != res_raw_seq ):\n",
    "        sys.stderr.write(\"ERROR Result sequence != Solution sequence!\\n\")\n",
    "        sys.stderr.write(\"DATA Solution sequence --> '%s'\\n\" %sol_raw_seq )\n",
    "        sys.stderr.write(\"DATA Result sequence\t --> '%s'\\n\" %res_raw_seq )\n",
    "        return(-1)\n",
    "    # computes the RMSD\n",
    "    comparer = pdb_utils.PDBComparer()\n",
    "    rmsd = comparer.rmsd( sol_struct, res_struct )\n",
    "    INF_ALL = comparer.INF( sol_struct, res_struct, type=\"ALL\" )\n",
    "    DI_ALL = rmsd / INF_ALL\n",
    "    INF_WC = comparer.INF( sol_struct, res_struct, type=\"PAIR_2D\" )\n",
    "    INF_NWC = comparer.INF( sol_struct, res_struct, type=\"PAIR_3D\" )\n",
    "    INF_STACK = comparer.INF( sol_struct, res_struct, type=\"STACK\" )\n",
    "    return (rmsd,DI_ALL, INF_ALL, INF_WC, INF_NWC,INF_STACK)"
   ]
  },
  {
   "cell_type": "code",
   "execution_count": 41,
   "metadata": {
    "collapsed": false
   },
   "outputs": [
    {
     "name": "stderr",
     "output_type": "stream",
     "text": [
      "INFO: Normalization succeded!\n",
      "WARNING    >> Atom P from residue (' ', 1, ' ') not found in target atom list\n",
      "WARNING    >> Atom OP1 from residue (' ', 1, ' ') not found in target atom list\n",
      "WARNING    >> Atom OP2 from residue (' ', 1, ' ') not found in target atom list\n",
      "INFO Partial RMSD --> 7.751173\n",
      "INFO Partial P-Value --> 7.327472e-15\n",
      "WARNING    >> Atom P from residue (' ', 1, ' ') not found in target atom list\n",
      "WARNING    >> Atom OP1 from residue (' ', 1, ' ') not found in target atom list\n",
      "WARNING    >> Atom OP2 from residue (' ', 1, ' ') not found in target atom list\n"
     ]
    },
    {
     "name": "stdout",
     "output_type": "stream",
     "text": [
      "14_ChenPostExp_2\n",
      "  RMSD: 7.751173243045827\n",
      "  pvalue: 7.327471962526033e-15\n",
      "14_ChenPostExp_2, rmsd 7.751173243045827\n",
      "  DI_ALL: 10.643784178530254\n",
      "  INF_ALL: 0.72823472489\n"
     ]
    }
   ],
   "source": [
    "# Normalize PDB format, correct residue names and atom names. \n",
    "normalize_structure('example/14_solution_0.pdb','example/14_solution_normalized.pdb')\n",
    "\n",
    "# calculate RMSD for RNA structures\n",
    "# require biopython\n",
    "rmsd, pvalue = calc_RMSD(\"example/14_solution_0.pdb\",\n",
    "        \"example/14_solution_0.index\",\n",
    "        \"example/14_ChenPostExp_2.pdb\",\n",
    "        \"example/14_ChenPostExp_2.index\")\n",
    "\n",
    "print '14_ChenPostExp_2'\n",
    "print '  RMSD:', rmsd\n",
    "print '  pvalue:', pvalue\n",
    "\n",
    "# calculate InteractionNetworkFidelity and Deformation Index for RNA structures\n",
    "# need to have MA-annotate in the directory or set in mcannotate.py\n",
    "rmsd, DI_ALL, INF_ALL, INF_WC, INF_NWC,INF_STACK = InteractionNetworkFidelity(\"example/14_solution_0.pdb\",\n",
    "          \"example/14_solution_0.index\",\n",
    "          \"example/14_ChenPostExp_2.pdb\",\n",
    "          \"example/14_ChenPostExp_2.index\")\n",
    "\n",
    "print '14_ChenPostExp_2, rmsd', rmsd\n",
    "print \"  DI_ALL:\", DI_ALL\n",
    "print \"  INF_ALL:\", INF_ALL"
   ]
  },
  {
   "cell_type": "code",
   "execution_count": null,
   "metadata": {
    "collapsed": true
   },
   "outputs": [],
   "source": []
  }
 ],
 "metadata": {
  "hide_input": false,
  "kernelspec": {
   "display_name": "Python 2",
   "language": "python",
   "name": "python2"
  },
  "language_info": {
   "codemirror_mode": {
    "name": "ipython",
    "version": 2
   },
   "file_extension": ".py",
   "mimetype": "text/x-python",
   "name": "python",
   "nbconvert_exporter": "python",
   "pygments_lexer": "ipython2",
   "version": "2.7.15"
  },
  "toc": {
   "colors": {
    "hover_highlight": "#DAA520",
    "running_highlight": "#FF0000",
    "selected_highlight": "#FFD700"
   },
   "moveMenuLeft": true,
   "nav_menu": {
    "height": "12px",
    "width": "252px"
   },
   "navigate_menu": true,
   "number_sections": true,
   "sideBar": true,
   "threshold": 4,
   "toc_cell": false,
   "toc_section_display": "block",
   "toc_window_display": true,
   "widenNotebook": false
  }
 },
 "nbformat": 4,
 "nbformat_minor": 2
}
